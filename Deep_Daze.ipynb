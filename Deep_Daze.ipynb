{
  "cells": [
    {
      "cell_type": "code",
      "execution_count": null,
      "metadata": {
        "id": "vD86q5eNWsr4",
        "colab": {
          "base_uri": "https://localhost:8080/"
        },
        "outputId": "2c63cbce-6960-431a-d0b9-a2beca13b695"
      },
      "outputs": [
        {
          "output_type": "stream",
          "name": "stdout",
          "text": [
            "Fri May 27 12:42:02 2022       \n",
            "+-----------------------------------------------------------------------------+\n",
            "| NVIDIA-SMI 460.32.03    Driver Version: 460.32.03    CUDA Version: 11.2     |\n",
            "|-------------------------------+----------------------+----------------------+\n",
            "| GPU  Name        Persistence-M| Bus-Id        Disp.A | Volatile Uncorr. ECC |\n",
            "| Fan  Temp  Perf  Pwr:Usage/Cap|         Memory-Usage | GPU-Util  Compute M. |\n",
            "|                               |                      |               MIG M. |\n",
            "|===============================+======================+======================|\n",
            "|   0  Tesla T4            Off  | 00000000:00:04.0 Off |                    0 |\n",
            "| N/A   63C    P8    11W /  70W |      0MiB / 15109MiB |      0%      Default |\n",
            "|                               |                      |                  N/A |\n",
            "+-------------------------------+----------------------+----------------------+\n",
            "                                                                               \n",
            "+-----------------------------------------------------------------------------+\n",
            "| Processes:                                                                  |\n",
            "|  GPU   GI   CI        PID   Type   Process name                  GPU Memory |\n",
            "|        ID   ID                                                   Usage      |\n",
            "|=============================================================================|\n",
            "|  No running processes found                                                 |\n",
            "+-----------------------------------------------------------------------------+\n"
          ]
        }
      ],
      "source": [
        "!nvidia-smi"
      ]
    },
    {
      "cell_type": "markdown",
      "metadata": {
        "id": "IsfWNjUD8GND"
      },
      "source": [
        "LIBRARIES"
      ]
    },
    {
      "cell_type": "code",
      "execution_count": null,
      "metadata": {
        "id": "YpRu6LTR2LbD",
        "colab": {
          "base_uri": "https://localhost:8080/"
        },
        "outputId": "fd109731-47d6-43f1-8eac-286d7294f9d7"
      },
      "outputs": [
        {
          "output_type": "stream",
          "name": "stdout",
          "text": [
            "Looking in indexes: https://pypi.org/simple, https://us-python.pkg.dev/colab-wheels/public/simple/\n",
            "Requirement already satisfied: deep-daze in /usr/local/lib/python3.7/dist-packages (0.11.1)\n",
            "Requirement already satisfied: regex in /usr/local/lib/python3.7/dist-packages (from deep-daze) (2019.12.20)\n",
            "Requirement already satisfied: einops>=0.3 in /usr/local/lib/python3.7/dist-packages (from deep-daze) (0.4.1)\n",
            "Requirement already satisfied: siren-pytorch>=0.0.8 in /usr/local/lib/python3.7/dist-packages (from deep-daze) (0.1.6)\n",
            "Requirement already satisfied: tqdm in /usr/local/lib/python3.7/dist-packages (from deep-daze) (4.64.0)\n",
            "Requirement already satisfied: torch-optimizer in /usr/local/lib/python3.7/dist-packages (from deep-daze) (0.3.0)\n",
            "Requirement already satisfied: ftfy in /usr/local/lib/python3.7/dist-packages (from deep-daze) (6.1.1)\n",
            "Requirement already satisfied: imageio>=2.9.0 in /usr/local/lib/python3.7/dist-packages (from deep-daze) (2.19.2)\n",
            "Requirement already satisfied: fire in /usr/local/lib/python3.7/dist-packages (from deep-daze) (0.4.0)\n",
            "Requirement already satisfied: torchvision>=0.8.2 in /usr/local/lib/python3.7/dist-packages (from deep-daze) (0.12.0+cu113)\n",
            "Requirement already satisfied: torch>=1.10 in /usr/local/lib/python3.7/dist-packages (from deep-daze) (1.11.0+cu113)\n",
            "Requirement already satisfied: numpy in /usr/local/lib/python3.7/dist-packages (from imageio>=2.9.0->deep-daze) (1.21.6)\n",
            "Requirement already satisfied: pillow>=8.3.2 in /usr/local/lib/python3.7/dist-packages (from imageio>=2.9.0->deep-daze) (9.0.0)\n",
            "Requirement already satisfied: typing-extensions in /usr/local/lib/python3.7/dist-packages (from torch>=1.10->deep-daze) (4.2.0)\n",
            "Requirement already satisfied: requests in /usr/local/lib/python3.7/dist-packages (from torchvision>=0.8.2->deep-daze) (2.23.0)\n",
            "Requirement already satisfied: six in /usr/local/lib/python3.7/dist-packages (from fire->deep-daze) (1.15.0)\n",
            "Requirement already satisfied: termcolor in /usr/local/lib/python3.7/dist-packages (from fire->deep-daze) (1.1.0)\n",
            "Requirement already satisfied: wcwidth>=0.2.5 in /usr/local/lib/python3.7/dist-packages (from ftfy->deep-daze) (0.2.5)\n",
            "Requirement already satisfied: certifi>=2017.4.17 in /usr/local/lib/python3.7/dist-packages (from requests->torchvision>=0.8.2->deep-daze) (2022.5.18.1)\n",
            "Requirement already satisfied: chardet<4,>=3.0.2 in /usr/local/lib/python3.7/dist-packages (from requests->torchvision>=0.8.2->deep-daze) (3.0.4)\n",
            "Requirement already satisfied: urllib3!=1.25.0,!=1.25.1,<1.26,>=1.21.1 in /usr/local/lib/python3.7/dist-packages (from requests->torchvision>=0.8.2->deep-daze) (1.24.3)\n",
            "Requirement already satisfied: idna<3,>=2.5 in /usr/local/lib/python3.7/dist-packages (from requests->torchvision>=0.8.2->deep-daze) (2.10)\n",
            "Requirement already satisfied: pytorch-ranger>=0.1.1 in /usr/local/lib/python3.7/dist-packages (from torch-optimizer->deep-daze) (0.1.1)\n",
            "Looking in indexes: https://pypi.org/simple, https://us-python.pkg.dev/colab-wheels/public/simple/\n",
            "Requirement already satisfied: imageio-ffmpeg in /usr/local/lib/python3.7/dist-packages (0.4.7)\n",
            "Looking in indexes: https://pypi.org/simple, https://us-python.pkg.dev/colab-wheels/public/simple/\n",
            "Requirement already satisfied: Pillow==9.0.0 in /usr/local/lib/python3.7/dist-packages (9.0.0)\n"
          ]
        }
      ],
      "source": [
        "!pip install deep-daze --upgrade\n",
        "!pip install imageio-ffmpeg\n",
        "!pip install Pillow==9.0.0"
      ]
    },
    {
      "cell_type": "markdown",
      "metadata": {
        "id": "gbYMXBBw8I1G"
      },
      "source": [
        "ENTER TEXT PROMPT FOR VIDEO GENERATION"
      ]
    },
    {
      "cell_type": "code",
      "execution_count": null,
      "metadata": {
        "id": "6IPQ_rdA2Sa7",
        "colab": {
          "base_uri": "https://localhost:8080/"
        },
        "outputId": "af3a23f1-c991-4b2d-f0b8-203fc97b7406"
      },
      "outputs": [
        {
          "output_type": "stream",
          "name": "stdout",
          "text": [
            "Separator '.' will be ignored since not in text!\n",
            "Running for 1 epochs\n",
            "Setting jit to False because torch version is not 1.7.1.\n"
          ]
        },
        {
          "output_type": "stream",
          "name": "stderr",
          "text": [
            "Downloading ViT-B-32.pt: 100%|██████████| 354M/354M [00:02<00:00, 159MiB/s]\n"
          ]
        },
        {
          "output_type": "stream",
          "name": "stdout",
          "text": [
            "Now thinking of:  \" a dog with a ball \"\n",
            "Imagining \"a_dog_with_a_ball\" from the depths of my weights...\n"
          ]
        },
        {
          "output_type": "stream",
          "name": "stderr",
          "text": [
            "epochs:   0%|          | 0/1 [00:00<?, ?it/s]\n",
            "\n",
            "epochs:   0%|          | 0/1 [00:00<?, ?it/s]\n",
            "iteration:   0%|          | 0/800 [00:00<?, ?it/s]\u001b[A\n",
            "loss: -19.64:   0%|          | 0/800 [00:00<?, ?it/s]\u001b[A\n",
            "loss: -19.64:   0%|          | 1/800 [00:00<05:19,  2.50it/s]\u001b[A"
          ]
        },
        {
          "output_type": "stream",
          "name": "stdout",
          "text": [
            "image updated at \"./a_dog_with_a_ball.jpg\"\n"
          ]
        },
        {
          "output_type": "stream",
          "name": "stderr",
          "text": [
            "\n",
            "loss: -21.44:   0%|          | 1/800 [00:00<05:19,  2.50it/s]\u001b[A\n",
            "loss: -21.44:   0%|          | 2/800 [00:00<04:18,  3.08it/s]\u001b[A\n",
            "loss: -20.40:   0%|          | 2/800 [00:00<04:18,  3.08it/s]\u001b[A\n",
            "loss: -20.40:   0%|          | 3/800 [00:00<03:59,  3.33it/s]\u001b[A\n",
            "loss: -20.80:   0%|          | 3/800 [00:01<03:59,  3.33it/s]\u001b[A\n",
            "\n",
            "epochs:   0%|          | 0/1 [00:01<?, ?it/s]\n",
            "loss: -20.80:   0%|          | 4/800 [00:01<03:51,  3.44it/s]\u001b[A\n",
            "loss: -20.77:   0%|          | 4/800 [00:01<03:51,  3.44it/s]\u001b[A\n",
            "loss: -20.77:   1%|          | 5/800 [00:01<03:56,  3.36it/s]\u001b[A"
          ]
        },
        {
          "output_type": "stream",
          "name": "stdout",
          "text": [
            "image updated at \"./a_dog_with_a_ball.000001.jpg\"\n"
          ]
        },
        {
          "output_type": "stream",
          "name": "stderr",
          "text": [
            "\n",
            "loss: -21.23:   1%|          | 5/800 [00:01<03:56,  3.36it/s]\u001b[A\n",
            "loss: -21.23:   1%|          | 6/800 [00:01<03:50,  3.44it/s]\u001b[A\n",
            "loss: -20.46:   1%|          | 6/800 [00:02<03:50,  3.44it/s]\u001b[A\n",
            "loss: -20.46:   1%|          | 7/800 [00:02<03:51,  3.42it/s]\u001b[A\n",
            "loss: -20.89:   1%|          | 7/800 [00:02<03:51,  3.42it/s]\u001b[A\n",
            "\n",
            "epochs:   0%|          | 0/1 [00:02<?, ?it/s]\n",
            "loss: -20.89:   1%|          | 8/800 [00:02<03:50,  3.44it/s]\u001b[A\n",
            "loss: -21.15:   1%|          | 8/800 [00:02<03:50,  3.44it/s]\u001b[A\n",
            "loss: -21.15:   1%|          | 9/800 [00:02<03:54,  3.37it/s]\u001b[A"
          ]
        },
        {
          "output_type": "stream",
          "name": "stdout",
          "text": [
            "image updated at \"./a_dog_with_a_ball.000002.jpg\"\n"
          ]
        },
        {
          "output_type": "stream",
          "name": "stderr",
          "text": [
            "\n",
            "loss: -21.45:   1%|          | 9/800 [00:02<03:54,  3.37it/s]\u001b[A\n",
            "loss: -21.45:   1%|▏         | 10/800 [00:02<03:50,  3.42it/s]\u001b[A\n",
            "loss: -20.91:   1%|▏         | 10/800 [00:03<03:50,  3.42it/s]\u001b[A\n",
            "loss: -20.91:   1%|▏         | 11/800 [00:03<03:48,  3.46it/s]\u001b[A\n",
            "loss: -21.02:   1%|▏         | 11/800 [00:03<03:48,  3.46it/s]\u001b[A\n",
            "\n",
            "epochs:   0%|          | 0/1 [00:03<?, ?it/s]\n",
            "loss: -21.02:   2%|▏         | 12/800 [00:03<03:47,  3.46it/s]\u001b[A\n",
            "loss: -20.31:   2%|▏         | 12/800 [00:03<03:47,  3.46it/s]\u001b[A\n",
            "loss: -20.31:   2%|▏         | 13/800 [00:03<03:51,  3.39it/s]\u001b[A"
          ]
        },
        {
          "output_type": "stream",
          "name": "stdout",
          "text": [
            "image updated at \"./a_dog_with_a_ball.000003.jpg\"\n"
          ]
        },
        {
          "output_type": "stream",
          "name": "stderr",
          "text": [
            "\n",
            "loss: -21.59:   2%|▏         | 13/800 [00:04<03:51,  3.39it/s]\u001b[A\n",
            "loss: -21.59:   2%|▏         | 14/800 [00:04<03:49,  3.42it/s]\u001b[A\n",
            "loss: -24.26:   2%|▏         | 14/800 [00:04<03:49,  3.42it/s]\u001b[A\n",
            "loss: -24.26:   2%|▏         | 15/800 [00:04<03:49,  3.43it/s]\u001b[A\n",
            "loss: -20.47:   2%|▏         | 15/800 [00:04<03:49,  3.43it/s]\u001b[A\n",
            "\n",
            "epochs:   0%|          | 0/1 [00:05<?, ?it/s]\n",
            "loss: -20.47:   2%|▏         | 16/800 [00:05<03:47,  3.45it/s]\u001b[A\n",
            "loss: -26.04:   2%|▏         | 16/800 [00:05<03:47,  3.45it/s]\u001b[A\n",
            "loss: -26.04:   2%|▏         | 17/800 [00:05<03:53,  3.35it/s]\u001b[A"
          ]
        },
        {
          "output_type": "stream",
          "name": "stdout",
          "text": [
            "image updated at \"./a_dog_with_a_ball.000004.jpg\"\n"
          ]
        },
        {
          "output_type": "stream",
          "name": "stderr",
          "text": [
            "\n",
            "loss: -21.01:   2%|▏         | 17/800 [00:05<03:53,  3.35it/s]\u001b[A\n",
            "loss: -21.01:   2%|▏         | 18/800 [00:05<03:54,  3.34it/s]\u001b[A\n",
            "loss: -27.58:   2%|▏         | 18/800 [00:05<03:54,  3.34it/s]\u001b[A\n",
            "loss: -27.58:   2%|▏         | 19/800 [00:05<03:48,  3.42it/s]\u001b[A\n",
            "loss: -20.60:   2%|▏         | 19/800 [00:05<03:48,  3.42it/s]\u001b[A\n",
            "\n",
            "epochs:   0%|          | 0/1 [00:06<?, ?it/s]\n",
            "loss: -20.60:   2%|▎         | 20/800 [00:06<03:48,  3.41it/s]\u001b[A\n",
            "loss: -27.25:   2%|▎         | 20/800 [00:06<03:48,  3.41it/s]\u001b[A\n",
            "loss: -27.25:   3%|▎         | 21/800 [00:06<03:53,  3.33it/s]\u001b[A"
          ]
        },
        {
          "output_type": "stream",
          "name": "stdout",
          "text": [
            "image updated at \"./a_dog_with_a_ball.000005.jpg\"\n"
          ]
        },
        {
          "output_type": "stream",
          "name": "stderr",
          "text": [
            "\n",
            "loss: -21.53:   3%|▎         | 21/800 [00:06<03:53,  3.33it/s]\u001b[A\n",
            "loss: -21.53:   3%|▎         | 22/800 [00:06<03:50,  3.37it/s]\u001b[A\n",
            "loss: -23.17:   3%|▎         | 22/800 [00:06<03:50,  3.37it/s]\u001b[A\n",
            "loss: -23.17:   3%|▎         | 23/800 [00:06<03:48,  3.40it/s]\u001b[A\n",
            "loss: -20.27:   3%|▎         | 23/800 [00:07<03:48,  3.40it/s]\u001b[A\n",
            "\n",
            "epochs:   0%|          | 0/1 [00:07<?, ?it/s]\n",
            "loss: -20.27:   3%|▎         | 24/800 [00:07<03:48,  3.39it/s]\u001b[A\n",
            "loss: -21.53:   3%|▎         | 24/800 [00:07<03:48,  3.39it/s]\u001b[A\n",
            "loss: -21.53:   3%|▎         | 25/800 [00:07<03:59,  3.24it/s]\u001b[A"
          ]
        },
        {
          "output_type": "stream",
          "name": "stdout",
          "text": [
            "image updated at \"./a_dog_with_a_ball.000006.jpg\"\n"
          ]
        },
        {
          "output_type": "stream",
          "name": "stderr",
          "text": [
            "\n",
            "loss: -28.16:   3%|▎         | 25/800 [00:07<03:59,  3.24it/s]\u001b[A\n",
            "loss: -28.16:   3%|▎         | 26/800 [00:07<03:53,  3.31it/s]\u001b[A\n",
            "loss: -23.37:   3%|▎         | 26/800 [00:08<03:53,  3.31it/s]\u001b[A\n",
            "loss: -23.37:   3%|▎         | 27/800 [00:08<03:49,  3.37it/s]\u001b[A\n",
            "loss: -30.19:   3%|▎         | 27/800 [00:08<03:49,  3.37it/s]\u001b[A\n",
            "\n",
            "epochs:   0%|          | 0/1 [00:08<?, ?it/s]\n",
            "loss: -30.19:   4%|▎         | 28/800 [00:08<03:47,  3.40it/s]\u001b[A\n",
            "loss: -22.92:   4%|▎         | 28/800 [00:08<03:47,  3.40it/s]\u001b[A\n",
            "loss: -22.92:   4%|▎         | 29/800 [00:08<03:53,  3.30it/s]\u001b[A"
          ]
        },
        {
          "output_type": "stream",
          "name": "stdout",
          "text": [
            "image updated at \"./a_dog_with_a_ball.000007.jpg\"\n"
          ]
        },
        {
          "output_type": "stream",
          "name": "stderr",
          "text": [
            "\n",
            "loss: -31.32:   4%|▎         | 29/800 [00:08<03:53,  3.30it/s]\u001b[A\n",
            "loss: -31.32:   4%|▍         | 30/800 [00:08<03:50,  3.35it/s]\u001b[A\n",
            "loss: -29.74:   4%|▍         | 30/800 [00:09<03:50,  3.35it/s]\u001b[A\n",
            "loss: -29.74:   4%|▍         | 31/800 [00:09<03:47,  3.39it/s]\u001b[A\n",
            "loss: -20.78:   4%|▍         | 31/800 [00:09<03:47,  3.39it/s]\u001b[A\n",
            "\n",
            "epochs:   0%|          | 0/1 [00:09<?, ?it/s]\n",
            "loss: -20.78:   4%|▍         | 32/800 [00:09<03:46,  3.40it/s]\u001b[A\n",
            "loss: -31.81:   4%|▍         | 32/800 [00:09<03:46,  3.40it/s]\u001b[A\n",
            "loss: -31.81:   4%|▍         | 33/800 [00:09<03:52,  3.30it/s]\u001b[A"
          ]
        },
        {
          "output_type": "stream",
          "name": "stdout",
          "text": [
            "image updated at \"./a_dog_with_a_ball.000008.jpg\"\n"
          ]
        },
        {
          "output_type": "stream",
          "name": "stderr",
          "text": [
            "\n",
            "loss: -31.61:   4%|▍         | 33/800 [00:10<03:52,  3.30it/s]\u001b[A\n",
            "loss: -31.61:   4%|▍         | 34/800 [00:10<03:48,  3.35it/s]\u001b[A\n",
            "loss: -32.64:   4%|▍         | 34/800 [00:10<03:48,  3.35it/s]\u001b[A\n",
            "loss: -32.64:   4%|▍         | 35/800 [00:10<03:45,  3.39it/s]\u001b[A\n",
            "loss: -26.12:   4%|▍         | 35/800 [00:10<03:45,  3.39it/s]\u001b[A\n",
            "\n",
            "epochs:   0%|          | 0/1 [00:10<?, ?it/s]\n",
            "loss: -26.12:   4%|▍         | 36/800 [00:10<03:43,  3.41it/s]\u001b[A\n",
            "loss: -19.49:   4%|▍         | 36/800 [00:10<03:43,  3.41it/s]\u001b[A\n",
            "loss: -19.49:   5%|▍         | 37/800 [00:11<03:50,  3.32it/s]\u001b[A"
          ]
        },
        {
          "output_type": "stream",
          "name": "stdout",
          "text": [
            "image updated at \"./a_dog_with_a_ball.000009.jpg\"\n"
          ]
        },
        {
          "output_type": "stream",
          "name": "stderr",
          "text": [
            "\n",
            "loss: -20.63:   5%|▍         | 37/800 [00:11<03:50,  3.32it/s]\u001b[A\n",
            "loss: -20.63:   5%|▍         | 38/800 [00:11<03:46,  3.37it/s]\u001b[A\n",
            "loss: -22.14:   5%|▍         | 38/800 [00:11<03:46,  3.37it/s]\u001b[A\n",
            "loss: -22.14:   5%|▍         | 39/800 [00:11<03:42,  3.42it/s]\u001b[A\n",
            "loss: -32.14:   5%|▍         | 39/800 [00:11<03:42,  3.42it/s]\u001b[A\n",
            "\n",
            "epochs:   0%|          | 0/1 [00:12<?, ?it/s]\n",
            "loss: -32.14:   5%|▌         | 40/800 [00:12<03:42,  3.42it/s]\u001b[A\n",
            "loss: -29.30:   5%|▌         | 40/800 [00:12<03:42,  3.42it/s]\u001b[A\n",
            "loss: -29.30:   5%|▌         | 41/800 [00:12<03:49,  3.30it/s]\u001b[A"
          ]
        },
        {
          "output_type": "stream",
          "name": "stdout",
          "text": [
            "image updated at \"./a_dog_with_a_ball.000010.jpg\"\n"
          ]
        },
        {
          "output_type": "stream",
          "name": "stderr",
          "text": [
            "\n",
            "loss: -32.47:   5%|▌         | 41/800 [00:12<03:49,  3.30it/s]\u001b[A\n",
            "loss: -32.47:   5%|▌         | 42/800 [00:12<03:46,  3.35it/s]\u001b[A\n",
            "loss: -23.07:   5%|▌         | 42/800 [00:12<03:46,  3.35it/s]\u001b[A\n",
            "loss: -23.07:   5%|▌         | 43/800 [00:12<03:43,  3.38it/s]\u001b[A\n",
            "loss: -30.36:   5%|▌         | 43/800 [00:13<03:43,  3.38it/s]\u001b[A\n",
            "\n",
            "epochs:   0%|          | 0/1 [00:13<?, ?it/s]\n",
            "loss: -30.36:   6%|▌         | 44/800 [00:13<03:42,  3.40it/s]\u001b[A\n",
            "loss: -23.90:   6%|▌         | 44/800 [00:13<03:42,  3.40it/s]\u001b[A\n",
            "loss: -23.90:   6%|▌         | 45/800 [00:13<03:47,  3.31it/s]\u001b[A"
          ]
        },
        {
          "output_type": "stream",
          "name": "stdout",
          "text": [
            "image updated at \"./a_dog_with_a_ball.000011.jpg\"\n"
          ]
        },
        {
          "output_type": "stream",
          "name": "stderr",
          "text": [
            "\n",
            "loss: -23.46:   6%|▌         | 45/800 [00:13<03:47,  3.31it/s]\u001b[A\n",
            "loss: -23.46:   6%|▌         | 46/800 [00:13<03:43,  3.37it/s]\u001b[A\n",
            "loss: -20.25:   6%|▌         | 46/800 [00:13<03:43,  3.37it/s]\u001b[A\n",
            "loss: -20.25:   6%|▌         | 47/800 [00:13<03:40,  3.42it/s]\u001b[A\n",
            "loss: -20.76:   6%|▌         | 47/800 [00:14<03:40,  3.42it/s]\u001b[A\n",
            "\n",
            "epochs:   0%|          | 0/1 [00:14<?, ?it/s]\n",
            "loss: -20.76:   6%|▌         | 48/800 [00:14<03:38,  3.44it/s]\u001b[A\n",
            "loss: -21.01:   6%|▌         | 48/800 [00:14<03:38,  3.44it/s]\u001b[A\n",
            "loss: -21.01:   6%|▌         | 49/800 [00:14<03:47,  3.30it/s]\u001b[A"
          ]
        },
        {
          "output_type": "stream",
          "name": "stdout",
          "text": [
            "image updated at \"./a_dog_with_a_ball.000012.jpg\"\n"
          ]
        },
        {
          "output_type": "stream",
          "name": "stderr",
          "text": [
            "\n",
            "loss: -23.81:   6%|▌         | 49/800 [00:14<03:47,  3.30it/s]\u001b[A\n",
            "loss: -23.81:   6%|▋         | 50/800 [00:14<03:43,  3.36it/s]\u001b[A\n",
            "loss: -30.69:   6%|▋         | 50/800 [00:15<03:43,  3.36it/s]\u001b[A\n",
            "loss: -30.69:   6%|▋         | 51/800 [00:15<03:41,  3.38it/s]\u001b[A\n",
            "loss: -24.48:   6%|▋         | 51/800 [00:15<03:41,  3.38it/s]\u001b[A\n",
            "\n",
            "epochs:   0%|          | 0/1 [00:15<?, ?it/s]\n",
            "loss: -24.48:   6%|▋         | 52/800 [00:15<03:39,  3.41it/s]\u001b[A\n",
            "loss: -30.41:   6%|▋         | 52/800 [00:15<03:39,  3.41it/s]\u001b[A\n",
            "loss: -30.41:   7%|▋         | 53/800 [00:15<03:40,  3.38it/s]\u001b[A"
          ]
        },
        {
          "output_type": "stream",
          "name": "stdout",
          "text": [
            "image updated at \"./a_dog_with_a_ball.000013.jpg\"\n"
          ]
        },
        {
          "output_type": "stream",
          "name": "stderr",
          "text": [
            "\n",
            "loss: -22.99:   7%|▋         | 53/800 [00:16<03:40,  3.38it/s]\u001b[A\n",
            "loss: -22.99:   7%|▋         | 54/800 [00:16<03:37,  3.43it/s]\u001b[A\n",
            "loss: -23.74:   7%|▋         | 54/800 [00:16<03:37,  3.43it/s]\u001b[A\n",
            "loss: -23.74:   7%|▋         | 55/800 [00:16<03:38,  3.41it/s]\u001b[A\n",
            "loss: -25.29:   7%|▋         | 55/800 [00:16<03:38,  3.41it/s]\u001b[A\n",
            "\n",
            "epochs:   0%|          | 0/1 [00:16<?, ?it/s]\n",
            "loss: -25.29:   7%|▋         | 56/800 [00:16<03:38,  3.41it/s]\u001b[A\n",
            "loss: -20.97:   7%|▋         | 56/800 [00:16<03:38,  3.41it/s]\u001b[A\n",
            "loss: -20.97:   7%|▋         | 57/800 [00:16<03:44,  3.31it/s]\u001b[A"
          ]
        },
        {
          "output_type": "stream",
          "name": "stdout",
          "text": [
            "image updated at \"./a_dog_with_a_ball.000014.jpg\"\n"
          ]
        },
        {
          "output_type": "stream",
          "name": "stderr",
          "text": [
            "\n",
            "loss: -31.91:   7%|▋         | 57/800 [00:17<03:44,  3.31it/s]\u001b[A\n",
            "loss: -31.91:   7%|▋         | 58/800 [00:17<03:44,  3.31it/s]\u001b[A\n",
            "loss: -19.09:   7%|▋         | 58/800 [00:17<03:44,  3.31it/s]\u001b[A\n",
            "loss: -19.09:   7%|▋         | 59/800 [00:17<03:40,  3.36it/s]\u001b[A\n",
            "loss: -24.61:   7%|▋         | 59/800 [00:17<03:40,  3.36it/s]\u001b[A\n",
            "\n",
            "epochs:   0%|          | 0/1 [00:18<?, ?it/s]\n",
            "loss: -24.61:   8%|▊         | 60/800 [00:18<03:38,  3.39it/s]\u001b[A\n",
            "loss: -31.30:   8%|▊         | 60/800 [00:18<03:38,  3.39it/s]\u001b[A\n",
            "loss: -31.30:   8%|▊         | 61/800 [00:18<03:43,  3.30it/s]\u001b[A"
          ]
        },
        {
          "output_type": "stream",
          "name": "stdout",
          "text": [
            "image updated at \"./a_dog_with_a_ball.000015.jpg\"\n"
          ]
        },
        {
          "output_type": "stream",
          "name": "stderr",
          "text": [
            "\n",
            "loss: -26.70:   8%|▊         | 61/800 [00:18<03:43,  3.30it/s]\u001b[A\n",
            "loss: -26.70:   8%|▊         | 62/800 [00:18<03:41,  3.33it/s]\u001b[A\n",
            "loss: -28.57:   8%|▊         | 62/800 [00:18<03:41,  3.33it/s]\u001b[A\n",
            "loss: -28.57:   8%|▊         | 63/800 [00:18<03:39,  3.36it/s]\u001b[A\n",
            "loss: -20.90:   8%|▊         | 63/800 [00:18<03:39,  3.36it/s]\u001b[A\n",
            "\n",
            "epochs:   0%|          | 0/1 [00:19<?, ?it/s]\n",
            "loss: -20.90:   8%|▊         | 64/800 [00:19<03:36,  3.40it/s]\u001b[A\n",
            "loss: -31.31:   8%|▊         | 64/800 [00:19<03:36,  3.40it/s]\u001b[A\n",
            "loss: -31.31:   8%|▊         | 65/800 [00:19<03:41,  3.32it/s]\u001b[A"
          ]
        },
        {
          "output_type": "stream",
          "name": "stdout",
          "text": [
            "image updated at \"./a_dog_with_a_ball.000016.jpg\"\n"
          ]
        },
        {
          "output_type": "stream",
          "name": "stderr",
          "text": [
            "\n",
            "loss: -21.11:   8%|▊         | 65/800 [00:19<03:41,  3.32it/s]\u001b[A\n",
            "loss: -21.11:   8%|▊         | 66/800 [00:19<03:38,  3.36it/s]\u001b[A\n",
            "loss: -31.07:   8%|▊         | 66/800 [00:19<03:38,  3.36it/s]\u001b[A\n",
            "loss: -31.07:   8%|▊         | 67/800 [00:19<03:36,  3.39it/s]\u001b[A\n",
            "loss: -32.10:   8%|▊         | 67/800 [00:20<03:36,  3.39it/s]\u001b[A\n",
            "\n",
            "epochs:   0%|          | 0/1 [00:20<?, ?it/s]\n",
            "loss: -32.10:   8%|▊         | 68/800 [00:20<03:36,  3.38it/s]\u001b[A\n",
            "loss: -20.37:   8%|▊         | 68/800 [00:20<03:36,  3.38it/s]\u001b[A\n",
            "loss: -20.37:   9%|▊         | 69/800 [00:20<03:43,  3.27it/s]\u001b[A"
          ]
        },
        {
          "output_type": "stream",
          "name": "stdout",
          "text": [
            "image updated at \"./a_dog_with_a_ball.000017.jpg\"\n"
          ]
        },
        {
          "output_type": "stream",
          "name": "stderr",
          "text": [
            "\n",
            "loss: -20.14:   9%|▊         | 69/800 [00:20<03:43,  3.27it/s]\u001b[A\n",
            "loss: -20.14:   9%|▉         | 70/800 [00:20<03:42,  3.29it/s]\u001b[A\n",
            "loss: -24.79:   9%|▉         | 70/800 [00:21<03:42,  3.29it/s]\u001b[A\n",
            "loss: -24.79:   9%|▉         | 71/800 [00:21<03:37,  3.35it/s]\u001b[A\n",
            "loss: -22.49:   9%|▉         | 71/800 [00:21<03:37,  3.35it/s]\u001b[A\n",
            "\n",
            "epochs:   0%|          | 0/1 [00:21<?, ?it/s]\n",
            "loss: -22.49:   9%|▉         | 72/800 [00:21<03:35,  3.37it/s]\u001b[A\n",
            "loss: -24.26:   9%|▉         | 72/800 [00:21<03:35,  3.37it/s]\u001b[A\n",
            "loss: -24.26:   9%|▉         | 73/800 [00:21<03:41,  3.29it/s]\u001b[A"
          ]
        },
        {
          "output_type": "stream",
          "name": "stdout",
          "text": [
            "image updated at \"./a_dog_with_a_ball.000018.jpg\"\n"
          ]
        },
        {
          "output_type": "stream",
          "name": "stderr",
          "text": [
            "\n",
            "loss: -19.08:   9%|▉         | 73/800 [00:22<03:41,  3.29it/s]\u001b[A\n",
            "loss: -19.08:   9%|▉         | 74/800 [00:22<03:38,  3.32it/s]\u001b[A\n",
            "loss: -29.30:   9%|▉         | 74/800 [00:22<03:38,  3.32it/s]\u001b[A\n",
            "loss: -29.30:   9%|▉         | 75/800 [00:22<03:36,  3.35it/s]\u001b[A\n",
            "loss: -22.87:   9%|▉         | 75/800 [00:22<03:36,  3.35it/s]\u001b[A\n",
            "\n",
            "epochs:   0%|          | 0/1 [00:22<?, ?it/s]\n",
            "loss: -22.87:  10%|▉         | 76/800 [00:22<03:33,  3.38it/s]\u001b[A\n",
            "loss: -32.52:  10%|▉         | 76/800 [00:22<03:33,  3.38it/s]\u001b[A\n",
            "loss: -32.52:  10%|▉         | 77/800 [00:22<03:40,  3.28it/s]\u001b[A"
          ]
        },
        {
          "output_type": "stream",
          "name": "stdout",
          "text": [
            "image updated at \"./a_dog_with_a_ball.000019.jpg\"\n"
          ]
        },
        {
          "output_type": "stream",
          "name": "stderr",
          "text": [
            "\n",
            "loss: -25.34:  10%|▉         | 77/800 [00:23<03:40,  3.28it/s]\u001b[A\n",
            "loss: -25.34:  10%|▉         | 78/800 [00:23<03:36,  3.34it/s]\u001b[A\n",
            "loss: -22.05:  10%|▉         | 78/800 [00:23<03:36,  3.34it/s]\u001b[A\n",
            "loss: -22.05:  10%|▉         | 79/800 [00:23<03:35,  3.35it/s]\u001b[A\n",
            "loss: -31.83:  10%|▉         | 79/800 [00:23<03:35,  3.35it/s]\u001b[A\n",
            "\n",
            "epochs:   0%|          | 0/1 [00:24<?, ?it/s]\n",
            "loss: -31.83:  10%|█         | 80/800 [00:24<03:32,  3.38it/s]\u001b[A\n",
            "loss: -25.30:  10%|█         | 80/800 [00:24<03:32,  3.38it/s]\u001b[A\n",
            "loss: -25.30:  10%|█         | 81/800 [00:24<03:36,  3.33it/s]\u001b[A"
          ]
        },
        {
          "output_type": "stream",
          "name": "stdout",
          "text": [
            "image updated at \"./a_dog_with_a_ball.000020.jpg\"\n"
          ]
        },
        {
          "output_type": "stream",
          "name": "stderr",
          "text": [
            "\n",
            "loss: -30.25:  10%|█         | 81/800 [00:24<03:36,  3.33it/s]\u001b[A\n",
            "loss: -30.25:  10%|█         | 82/800 [00:24<03:32,  3.38it/s]\u001b[A\n",
            "loss: -24.63:  10%|█         | 82/800 [00:24<03:32,  3.38it/s]\u001b[A\n",
            "loss: -24.63:  10%|█         | 83/800 [00:24<03:30,  3.41it/s]\u001b[A\n",
            "loss: -30.35:  10%|█         | 83/800 [00:24<03:30,  3.41it/s]\u001b[A\n",
            "\n",
            "epochs:   0%|          | 0/1 [00:25<?, ?it/s]\n",
            "loss: -30.35:  10%|█         | 84/800 [00:25<03:29,  3.42it/s]\u001b[A\n",
            "loss: -24.83:  10%|█         | 84/800 [00:25<03:29,  3.42it/s]\u001b[A\n",
            "loss: -24.83:  11%|█         | 85/800 [00:25<03:36,  3.30it/s]\u001b[A"
          ]
        },
        {
          "output_type": "stream",
          "name": "stdout",
          "text": [
            "image updated at \"./a_dog_with_a_ball.000021.jpg\"\n"
          ]
        },
        {
          "output_type": "stream",
          "name": "stderr",
          "text": [
            "\n",
            "loss: -24.39:  11%|█         | 85/800 [00:25<03:36,  3.30it/s]\u001b[A\n",
            "loss: -24.39:  11%|█         | 86/800 [00:25<03:32,  3.36it/s]\u001b[A\n",
            "loss: -28.05:  11%|█         | 86/800 [00:25<03:32,  3.36it/s]\u001b[A\n",
            "loss: -28.05:  11%|█         | 87/800 [00:25<03:31,  3.37it/s]\u001b[A\n",
            "loss: -30.86:  11%|█         | 87/800 [00:26<03:31,  3.37it/s]\u001b[A\n",
            "\n",
            "epochs:   0%|          | 0/1 [00:26<?, ?it/s]\n",
            "loss: -30.86:  11%|█         | 88/800 [00:26<03:31,  3.37it/s]\u001b[A\n",
            "loss: -20.07:  11%|█         | 88/800 [00:26<03:31,  3.37it/s]\u001b[A\n",
            "loss: -20.07:  11%|█         | 89/800 [00:26<03:34,  3.31it/s]\u001b[A"
          ]
        },
        {
          "output_type": "stream",
          "name": "stdout",
          "text": [
            "image updated at \"./a_dog_with_a_ball.000022.jpg\"\n"
          ]
        },
        {
          "output_type": "stream",
          "name": "stderr",
          "text": [
            "\n",
            "loss: -28.05:  11%|█         | 89/800 [00:26<03:34,  3.31it/s]\u001b[A\n",
            "loss: -28.05:  11%|█▏        | 90/800 [00:26<03:28,  3.40it/s]\u001b[A\n",
            "loss: -20.15:  11%|█▏        | 90/800 [00:27<03:28,  3.40it/s]\u001b[A\n",
            "loss: -20.15:  11%|█▏        | 91/800 [00:27<03:29,  3.39it/s]\u001b[A\n",
            "loss: -31.83:  11%|█▏        | 91/800 [00:27<03:29,  3.39it/s]\u001b[A\n",
            "\n",
            "epochs:   0%|          | 0/1 [00:27<?, ?it/s]\n",
            "loss: -31.83:  12%|█▏        | 92/800 [00:27<03:28,  3.40it/s]\u001b[A\n",
            "loss: -32.74:  12%|█▏        | 92/800 [00:27<03:28,  3.40it/s]\u001b[A\n",
            "loss: -32.74:  12%|█▏        | 93/800 [00:27<03:35,  3.29it/s]\u001b[A"
          ]
        },
        {
          "output_type": "stream",
          "name": "stdout",
          "text": [
            "image updated at \"./a_dog_with_a_ball.000023.jpg\"\n"
          ]
        },
        {
          "output_type": "stream",
          "name": "stderr",
          "text": [
            "\n",
            "loss: -32.65:  12%|█▏        | 93/800 [00:27<03:35,  3.29it/s]\u001b[A\n",
            "loss: -32.65:  12%|█▏        | 94/800 [00:27<03:31,  3.33it/s]\u001b[A\n",
            "loss: -20.02:  12%|█▏        | 94/800 [00:28<03:31,  3.33it/s]\u001b[A\n",
            "loss: -20.02:  12%|█▏        | 95/800 [00:28<03:29,  3.36it/s]\u001b[A\n",
            "loss: -31.19:  12%|█▏        | 95/800 [00:28<03:29,  3.36it/s]\u001b[A\n",
            "\n",
            "epochs:   0%|          | 0/1 [00:28<?, ?it/s]\n",
            "loss: -31.19:  12%|█▏        | 96/800 [00:28<03:31,  3.32it/s]\u001b[A\n",
            "loss: -22.85:  12%|█▏        | 96/800 [00:28<03:31,  3.32it/s]\u001b[A\n",
            "loss: -22.85:  12%|█▏        | 97/800 [00:28<03:35,  3.27it/s]\u001b[A"
          ]
        },
        {
          "output_type": "stream",
          "name": "stdout",
          "text": [
            "image updated at \"./a_dog_with_a_ball.000024.jpg\"\n"
          ]
        },
        {
          "output_type": "stream",
          "name": "stderr",
          "text": [
            "\n",
            "loss: -30.94:  12%|█▏        | 97/800 [00:29<03:35,  3.27it/s]\u001b[A\n",
            "loss: -30.94:  12%|█▏        | 98/800 [00:29<03:30,  3.33it/s]\u001b[A\n",
            "loss: -20.04:  12%|█▏        | 98/800 [00:29<03:30,  3.33it/s]\u001b[A\n",
            "loss: -20.04:  12%|█▏        | 99/800 [00:29<03:27,  3.38it/s]\u001b[A\n",
            "loss: -27.78:  12%|█▏        | 99/800 [00:29<03:27,  3.38it/s]\u001b[A\n",
            "\n",
            "epochs:   0%|          | 0/1 [00:30<?, ?it/s]\n",
            "loss: -27.78:  12%|█▎        | 100/800 [00:30<03:26,  3.39it/s]\u001b[A\n",
            "loss: -22.62:  12%|█▎        | 100/800 [00:30<03:26,  3.39it/s]\u001b[A\n",
            "loss: -22.62:  13%|█▎        | 101/800 [00:30<03:32,  3.29it/s]\u001b[A"
          ]
        },
        {
          "output_type": "stream",
          "name": "stdout",
          "text": [
            "image updated at \"./a_dog_with_a_ball.000025.jpg\"\n"
          ]
        },
        {
          "output_type": "stream",
          "name": "stderr",
          "text": [
            "\n",
            "loss: -20.30:  13%|█▎        | 101/800 [00:30<03:32,  3.29it/s]\u001b[A\n",
            "loss: -20.30:  13%|█▎        | 102/800 [00:30<03:29,  3.33it/s]\u001b[A\n",
            "loss: -33.60:  13%|█▎        | 102/800 [00:30<03:29,  3.33it/s]\u001b[A\n",
            "loss: -33.60:  13%|█▎        | 103/800 [00:30<03:28,  3.35it/s]\u001b[A\n",
            "loss: -21.06:  13%|█▎        | 103/800 [00:30<03:28,  3.35it/s]\u001b[A\n",
            "\n",
            "epochs:   0%|          | 0/1 [00:31<?, ?it/s]\n",
            "loss: -21.06:  13%|█▎        | 104/800 [00:31<03:25,  3.38it/s]\u001b[A\n",
            "loss: -23.44:  13%|█▎        | 104/800 [00:31<03:25,  3.38it/s]\u001b[A\n",
            "loss: -23.44:  13%|█▎        | 105/800 [00:31<03:32,  3.28it/s]\u001b[A"
          ]
        },
        {
          "output_type": "stream",
          "name": "stdout",
          "text": [
            "image updated at \"./a_dog_with_a_ball.000026.jpg\"\n"
          ]
        },
        {
          "output_type": "stream",
          "name": "stderr",
          "text": [
            "\n",
            "loss: -20.21:  13%|█▎        | 105/800 [00:31<03:32,  3.28it/s]\u001b[A\n",
            "loss: -20.21:  13%|█▎        | 106/800 [00:31<03:28,  3.33it/s]\u001b[A\n",
            "loss: -32.13:  13%|█▎        | 106/800 [00:31<03:28,  3.33it/s]\u001b[A\n",
            "loss: -32.13:  13%|█▎        | 107/800 [00:31<03:27,  3.34it/s]\u001b[A\n",
            "loss: -21.58:  13%|█▎        | 107/800 [00:32<03:27,  3.34it/s]\u001b[A\n",
            "\n",
            "epochs:   0%|          | 0/1 [00:32<?, ?it/s]\n",
            "loss: -21.58:  14%|█▎        | 108/800 [00:32<03:25,  3.37it/s]\u001b[A\n",
            "loss: -33.95:  14%|█▎        | 108/800 [00:32<03:25,  3.37it/s]\u001b[A\n",
            "loss: -33.95:  14%|█▎        | 109/800 [00:32<03:29,  3.29it/s]\u001b[A"
          ]
        },
        {
          "output_type": "stream",
          "name": "stdout",
          "text": [
            "image updated at \"./a_dog_with_a_ball.000027.jpg\"\n"
          ]
        },
        {
          "output_type": "stream",
          "name": "stderr",
          "text": [
            "\n",
            "loss: -26.85:  14%|█▎        | 109/800 [00:32<03:29,  3.29it/s]\u001b[A\n",
            "loss: -26.85:  14%|█▍        | 110/800 [00:32<03:26,  3.35it/s]\u001b[A\n",
            "loss: -25.64:  14%|█▍        | 110/800 [00:33<03:26,  3.35it/s]\u001b[A\n",
            "loss: -25.64:  14%|█▍        | 111/800 [00:33<03:25,  3.35it/s]\u001b[A\n",
            "loss: -33.59:  14%|█▍        | 111/800 [00:33<03:25,  3.35it/s]\u001b[A\n",
            "\n",
            "epochs:   0%|          | 0/1 [00:33<?, ?it/s]\n",
            "loss: -33.59:  14%|█▍        | 112/800 [00:33<03:25,  3.35it/s]\u001b[A\n",
            "loss: -27.92:  14%|█▍        | 112/800 [00:33<03:25,  3.35it/s]\u001b[A\n",
            "loss: -27.92:  14%|█▍        | 113/800 [00:33<03:28,  3.30it/s]\u001b[A"
          ]
        },
        {
          "output_type": "stream",
          "name": "stdout",
          "text": [
            "image updated at \"./a_dog_with_a_ball.000028.jpg\"\n"
          ]
        },
        {
          "output_type": "stream",
          "name": "stderr",
          "text": [
            "\n",
            "loss: -33.79:  14%|█▍        | 113/800 [00:33<03:28,  3.30it/s]\u001b[A\n",
            "loss: -33.79:  14%|█▍        | 114/800 [00:33<03:25,  3.35it/s]\u001b[A\n",
            "loss: -26.97:  14%|█▍        | 114/800 [00:34<03:25,  3.35it/s]\u001b[A\n",
            "loss: -26.97:  14%|█▍        | 115/800 [00:34<03:22,  3.38it/s]\u001b[A\n",
            "loss: -32.32:  14%|█▍        | 115/800 [00:34<03:22,  3.38it/s]\u001b[A\n",
            "\n",
            "epochs:   0%|          | 0/1 [00:34<?, ?it/s]\n",
            "loss: -32.32:  14%|█▍        | 116/800 [00:34<03:21,  3.40it/s]\u001b[A\n",
            "loss: -27.51:  14%|█▍        | 116/800 [00:34<03:21,  3.40it/s]\u001b[A\n",
            "loss: -27.51:  15%|█▍        | 117/800 [00:34<03:25,  3.32it/s]\u001b[A"
          ]
        },
        {
          "output_type": "stream",
          "name": "stdout",
          "text": [
            "image updated at \"./a_dog_with_a_ball.000029.jpg\"\n"
          ]
        },
        {
          "output_type": "stream",
          "name": "stderr",
          "text": [
            "\n",
            "loss: -22.28:  15%|█▍        | 117/800 [00:35<03:25,  3.32it/s]\u001b[A\n",
            "loss: -22.28:  15%|█▍        | 118/800 [00:35<03:23,  3.36it/s]\u001b[A\n",
            "loss: -34.24:  15%|█▍        | 118/800 [00:35<03:23,  3.36it/s]\u001b[A\n",
            "loss: -34.24:  15%|█▍        | 119/800 [00:35<03:22,  3.37it/s]\u001b[A\n",
            "loss: -20.86:  15%|█▍        | 119/800 [00:35<03:22,  3.37it/s]\u001b[A\n",
            "\n",
            "epochs:   0%|          | 0/1 [00:36<?, ?it/s]\n",
            "loss: -20.86:  15%|█▌        | 120/800 [00:36<03:21,  3.37it/s]\u001b[A\n",
            "loss: -34.61:  15%|█▌        | 120/800 [00:36<03:21,  3.37it/s]\u001b[A\n",
            "loss: -34.61:  15%|█▌        | 121/800 [00:36<03:28,  3.25it/s]\u001b[A"
          ]
        },
        {
          "output_type": "stream",
          "name": "stdout",
          "text": [
            "image updated at \"./a_dog_with_a_ball.000030.jpg\"\n"
          ]
        },
        {
          "output_type": "stream",
          "name": "stderr",
          "text": [
            "\n",
            "loss: -19.61:  15%|█▌        | 121/800 [00:36<03:28,  3.25it/s]\u001b[A\n",
            "loss: -19.61:  15%|█▌        | 122/800 [00:36<03:25,  3.30it/s]\u001b[A\n",
            "loss: -26.28:  15%|█▌        | 122/800 [00:36<03:25,  3.30it/s]\u001b[A\n",
            "loss: -26.28:  15%|█▌        | 123/800 [00:36<03:23,  3.33it/s]\u001b[A\n",
            "loss: -22.17:  15%|█▌        | 123/800 [00:36<03:23,  3.33it/s]\u001b[A\n",
            "\n",
            "epochs:   0%|          | 0/1 [00:37<?, ?it/s]\n",
            "loss: -22.17:  16%|█▌        | 124/800 [00:37<03:21,  3.35it/s]\u001b[A\n",
            "loss: -32.41:  16%|█▌        | 124/800 [00:37<03:21,  3.35it/s]\u001b[A\n",
            "loss: -32.41:  16%|█▌        | 125/800 [00:37<03:27,  3.25it/s]\u001b[A"
          ]
        },
        {
          "output_type": "stream",
          "name": "stdout",
          "text": [
            "image updated at \"./a_dog_with_a_ball.000031.jpg\"\n"
          ]
        },
        {
          "output_type": "stream",
          "name": "stderr",
          "text": [
            "\n",
            "loss: -26.77:  16%|█▌        | 125/800 [00:37<03:27,  3.25it/s]\u001b[A\n",
            "loss: -26.77:  16%|█▌        | 126/800 [00:37<03:25,  3.29it/s]\u001b[A\n",
            "loss: -27.61:  16%|█▌        | 126/800 [00:37<03:25,  3.29it/s]\u001b[A\n",
            "loss: -27.61:  16%|█▌        | 127/800 [00:37<03:22,  3.33it/s]\u001b[A\n",
            "loss: -33.67:  16%|█▌        | 127/800 [00:38<03:22,  3.33it/s]\u001b[A\n",
            "\n",
            "epochs:   0%|          | 0/1 [00:38<?, ?it/s]\n",
            "loss: -33.67:  16%|█▌        | 128/800 [00:38<03:22,  3.33it/s]\u001b[A\n",
            "loss: -23.03:  16%|█▌        | 128/800 [00:38<03:22,  3.33it/s]\u001b[A\n",
            "loss: -23.03:  16%|█▌        | 129/800 [00:38<03:23,  3.29it/s]\u001b[A"
          ]
        },
        {
          "output_type": "stream",
          "name": "stdout",
          "text": [
            "image updated at \"./a_dog_with_a_ball.000032.jpg\"\n"
          ]
        },
        {
          "output_type": "stream",
          "name": "stderr",
          "text": [
            "\n",
            "loss: -20.75:  16%|█▌        | 129/800 [00:38<03:23,  3.29it/s]\u001b[A\n",
            "loss: -20.75:  16%|█▋        | 130/800 [00:38<03:20,  3.34it/s]\u001b[A\n",
            "loss: -24.18:  16%|█▋        | 130/800 [00:39<03:20,  3.34it/s]\u001b[A\n",
            "loss: -24.18:  16%|█▋        | 131/800 [00:39<03:19,  3.36it/s]\u001b[A\n",
            "loss: -34.54:  16%|█▋        | 131/800 [00:39<03:19,  3.36it/s]\u001b[A\n",
            "\n",
            "epochs:   0%|          | 0/1 [00:39<?, ?it/s]\n",
            "loss: -34.54:  16%|█▋        | 132/800 [00:39<03:19,  3.35it/s]\u001b[A\n",
            "loss: -34.69:  16%|█▋        | 132/800 [00:39<03:19,  3.35it/s]\u001b[A\n",
            "loss: -34.69:  17%|█▋        | 133/800 [00:39<03:23,  3.28it/s]\u001b[A"
          ]
        },
        {
          "output_type": "stream",
          "name": "stdout",
          "text": [
            "image updated at \"./a_dog_with_a_ball.000033.jpg\"\n"
          ]
        },
        {
          "output_type": "stream",
          "name": "stderr",
          "text": [
            "\n",
            "loss: -27.65:  17%|█▋        | 133/800 [00:39<03:23,  3.28it/s]\u001b[A\n",
            "loss: -27.65:  17%|█▋        | 134/800 [00:39<03:20,  3.32it/s]\u001b[A\n",
            "loss: -20.55:  17%|█▋        | 134/800 [00:40<03:20,  3.32it/s]\u001b[A\n",
            "loss: -20.55:  17%|█▋        | 135/800 [00:40<03:26,  3.22it/s]\u001b[A\n",
            "loss: -26.78:  17%|█▋        | 135/800 [00:40<03:26,  3.22it/s]\u001b[A\n",
            "\n",
            "epochs:   0%|          | 0/1 [00:40<?, ?it/s]\n",
            "loss: -26.78:  17%|█▋        | 136/800 [00:40<03:23,  3.26it/s]\u001b[A\n",
            "loss: -34.09:  17%|█▋        | 136/800 [00:40<03:23,  3.26it/s]\u001b[A\n",
            "loss: -34.09:  17%|█▋        | 137/800 [00:40<03:36,  3.06it/s]\u001b[A"
          ]
        },
        {
          "output_type": "stream",
          "name": "stdout",
          "text": [
            "image updated at \"./a_dog_with_a_ball.000034.jpg\"\n"
          ]
        },
        {
          "output_type": "stream",
          "name": "stderr",
          "text": [
            "\n",
            "loss: -34.09:  17%|█▋        | 137/800 [00:41<03:36,  3.06it/s]\u001b[A\n",
            "loss: -34.09:  17%|█▋        | 138/800 [00:41<03:32,  3.12it/s]\u001b[A\n",
            "loss: -34.12:  17%|█▋        | 138/800 [00:41<03:32,  3.12it/s]\u001b[A\n",
            "loss: -34.12:  17%|█▋        | 139/800 [00:41<03:26,  3.21it/s]\u001b[A\n",
            "loss: -20.24:  17%|█▋        | 139/800 [00:41<03:26,  3.21it/s]\u001b[A\n",
            "\n",
            "epochs:   0%|          | 0/1 [00:42<?, ?it/s]\n",
            "loss: -20.24:  18%|█▊        | 140/800 [00:42<03:22,  3.26it/s]\u001b[A\n",
            "loss: -34.41:  18%|█▊        | 140/800 [00:42<03:22,  3.26it/s]\u001b[A\n",
            "loss: -34.41:  18%|█▊        | 141/800 [00:42<03:27,  3.18it/s]\u001b[A"
          ]
        },
        {
          "output_type": "stream",
          "name": "stdout",
          "text": [
            "image updated at \"./a_dog_with_a_ball.000035.jpg\"\n"
          ]
        },
        {
          "output_type": "stream",
          "name": "stderr",
          "text": [
            "\n",
            "loss: -25.67:  18%|█▊        | 141/800 [00:42<03:27,  3.18it/s]\u001b[A\n",
            "loss: -25.67:  18%|█▊        | 142/800 [00:42<03:22,  3.25it/s]\u001b[A\n",
            "loss: -29.12:  18%|█▊        | 142/800 [00:42<03:22,  3.25it/s]\u001b[A\n",
            "loss: -29.12:  18%|█▊        | 143/800 [00:42<03:19,  3.29it/s]\u001b[A\n",
            "loss: -34.59:  18%|█▊        | 143/800 [00:43<03:19,  3.29it/s]\u001b[A\n",
            "\n",
            "epochs:   0%|          | 0/1 [00:43<?, ?it/s]\n",
            "loss: -34.59:  18%|█▊        | 144/800 [00:43<03:17,  3.32it/s]\u001b[A\n",
            "loss: -22.68:  18%|█▊        | 144/800 [00:43<03:17,  3.32it/s]\u001b[A\n",
            "loss: -22.68:  18%|█▊        | 145/800 [00:43<03:23,  3.22it/s]\u001b[A"
          ]
        },
        {
          "output_type": "stream",
          "name": "stdout",
          "text": [
            "image updated at \"./a_dog_with_a_ball.000036.jpg\"\n"
          ]
        },
        {
          "output_type": "stream",
          "name": "stderr",
          "text": [
            "\n",
            "loss: -20.66:  18%|█▊        | 145/800 [00:43<03:23,  3.22it/s]\u001b[A\n",
            "loss: -20.66:  18%|█▊        | 146/800 [00:43<03:19,  3.28it/s]\u001b[A\n",
            "loss: -33.89:  18%|█▊        | 146/800 [00:44<03:19,  3.28it/s]\u001b[A\n",
            "loss: -33.89:  18%|█▊        | 147/800 [00:44<03:17,  3.31it/s]\u001b[A\n",
            "loss: -27.32:  18%|█▊        | 147/800 [00:44<03:17,  3.31it/s]\u001b[A\n",
            "\n",
            "epochs:   0%|          | 0/1 [00:44<?, ?it/s]\n",
            "loss: -27.32:  18%|█▊        | 148/800 [00:44<03:15,  3.33it/s]\u001b[A\n",
            "loss: -22.53:  18%|█▊        | 148/800 [00:44<03:15,  3.33it/s]\u001b[A\n",
            "loss: -22.53:  19%|█▊        | 149/800 [00:44<03:21,  3.23it/s]\u001b[A"
          ]
        },
        {
          "output_type": "stream",
          "name": "stdout",
          "text": [
            "image updated at \"./a_dog_with_a_ball.000037.jpg\"\n"
          ]
        },
        {
          "output_type": "stream",
          "name": "stderr",
          "text": [
            "\n",
            "loss: -34.18:  19%|█▊        | 149/800 [00:44<03:21,  3.23it/s]\u001b[A\n",
            "loss: -34.18:  19%|█▉        | 150/800 [00:44<03:20,  3.25it/s]\u001b[A\n",
            "loss: -34.17:  19%|█▉        | 150/800 [00:45<03:20,  3.25it/s]\u001b[A\n",
            "loss: -34.17:  19%|█▉        | 151/800 [00:45<03:17,  3.29it/s]\u001b[A\n",
            "loss: -21.36:  19%|█▉        | 151/800 [00:45<03:17,  3.29it/s]\u001b[A\n",
            "\n",
            "epochs:   0%|          | 0/1 [00:45<?, ?it/s]\n",
            "loss: -21.36:  19%|█▉        | 152/800 [00:45<03:15,  3.32it/s]\u001b[A\n",
            "loss: -27.50:  19%|█▉        | 152/800 [00:45<03:15,  3.32it/s]\u001b[A\n",
            "loss: -27.50:  19%|█▉        | 153/800 [00:45<03:19,  3.24it/s]\u001b[A"
          ]
        },
        {
          "output_type": "stream",
          "name": "stdout",
          "text": [
            "image updated at \"./a_dog_with_a_ball.000038.jpg\"\n"
          ]
        },
        {
          "output_type": "stream",
          "name": "stderr",
          "text": [
            "\n",
            "loss: -32.91:  19%|█▉        | 153/800 [00:46<03:19,  3.24it/s]\u001b[A\n",
            "loss: -32.91:  19%|█▉        | 154/800 [00:46<03:17,  3.27it/s]\u001b[A\n",
            "loss: -34.03:  19%|█▉        | 154/800 [00:46<03:17,  3.27it/s]\u001b[A\n",
            "loss: -34.03:  19%|█▉        | 155/800 [00:46<03:15,  3.30it/s]\u001b[A\n",
            "loss: -35.57:  19%|█▉        | 155/800 [00:46<03:15,  3.30it/s]\u001b[A\n",
            "\n",
            "epochs:   0%|          | 0/1 [00:47<?, ?it/s]\n",
            "loss: -35.57:  20%|█▉        | 156/800 [00:47<03:14,  3.30it/s]\u001b[A\n",
            "loss: -35.21:  20%|█▉        | 156/800 [00:47<03:14,  3.30it/s]\u001b[A\n",
            "loss: -35.21:  20%|█▉        | 157/800 [00:47<03:20,  3.21it/s]\u001b[A"
          ]
        },
        {
          "output_type": "stream",
          "name": "stdout",
          "text": [
            "image updated at \"./a_dog_with_a_ball.000039.jpg\"\n"
          ]
        },
        {
          "output_type": "stream",
          "name": "stderr",
          "text": [
            "\n",
            "loss: -33.60:  20%|█▉        | 157/800 [00:47<03:20,  3.21it/s]\u001b[A\n",
            "loss: -33.60:  20%|█▉        | 158/800 [00:47<03:15,  3.28it/s]\u001b[A\n",
            "loss: -34.23:  20%|█▉        | 158/800 [00:47<03:15,  3.28it/s]\u001b[A\n",
            "loss: -34.23:  20%|█▉        | 159/800 [00:47<03:13,  3.31it/s]\u001b[A\n",
            "loss: -35.56:  20%|█▉        | 159/800 [00:47<03:13,  3.31it/s]\u001b[A\n",
            "\n",
            "epochs:   0%|          | 0/1 [00:48<?, ?it/s]\n",
            "loss: -35.56:  20%|██        | 160/800 [00:48<03:12,  3.32it/s]\u001b[A\n",
            "loss: -35.62:  20%|██        | 160/800 [00:48<03:12,  3.32it/s]\u001b[A\n",
            "loss: -35.62:  20%|██        | 161/800 [00:48<03:16,  3.25it/s]\u001b[A"
          ]
        },
        {
          "output_type": "stream",
          "name": "stdout",
          "text": [
            "image updated at \"./a_dog_with_a_ball.000040.jpg\"\n"
          ]
        },
        {
          "output_type": "stream",
          "name": "stderr",
          "text": [
            "\n",
            "loss: -33.67:  20%|██        | 161/800 [00:48<03:16,  3.25it/s]\u001b[A\n",
            "loss: -33.67:  20%|██        | 162/800 [00:48<03:13,  3.30it/s]\u001b[A\n",
            "loss: -25.53:  20%|██        | 162/800 [00:48<03:13,  3.30it/s]\u001b[A\n",
            "loss: -25.53:  20%|██        | 163/800 [00:48<03:10,  3.34it/s]\u001b[A\n",
            "loss: -21.20:  20%|██        | 163/800 [00:49<03:10,  3.34it/s]\u001b[A\n",
            "\n",
            "epochs:   0%|          | 0/1 [00:49<?, ?it/s]\n",
            "loss: -21.20:  20%|██        | 164/800 [00:49<03:10,  3.35it/s]\u001b[A\n",
            "loss: -32.87:  20%|██        | 164/800 [00:49<03:10,  3.35it/s]\u001b[A\n",
            "loss: -32.87:  21%|██        | 165/800 [00:49<03:14,  3.27it/s]\u001b[A"
          ]
        },
        {
          "output_type": "stream",
          "name": "stdout",
          "text": [
            "image updated at \"./a_dog_with_a_ball.000041.jpg\"\n"
          ]
        },
        {
          "output_type": "stream",
          "name": "stderr",
          "text": [
            "\n",
            "loss: -28.44:  21%|██        | 165/800 [00:49<03:14,  3.27it/s]\u001b[A\n",
            "loss: -28.44:  21%|██        | 166/800 [00:49<03:11,  3.30it/s]\u001b[A\n",
            "loss: -36.26:  21%|██        | 166/800 [00:50<03:11,  3.30it/s]\u001b[A\n",
            "loss: -36.26:  21%|██        | 167/800 [00:50<03:14,  3.26it/s]\u001b[A\n",
            "loss: -27.77:  21%|██        | 167/800 [00:50<03:14,  3.26it/s]\u001b[A\n",
            "\n",
            "epochs:   0%|          | 0/1 [00:50<?, ?it/s]\n",
            "loss: -27.77:  21%|██        | 168/800 [00:50<03:13,  3.26it/s]\u001b[A\n",
            "loss: -25.97:  21%|██        | 168/800 [00:50<03:13,  3.26it/s]\u001b[A\n",
            "loss: -25.97:  21%|██        | 169/800 [00:50<03:16,  3.21it/s]\u001b[A"
          ]
        },
        {
          "output_type": "stream",
          "name": "stdout",
          "text": [
            "image updated at \"./a_dog_with_a_ball.000042.jpg\"\n"
          ]
        },
        {
          "output_type": "stream",
          "name": "stderr",
          "text": [
            "\n",
            "loss: -18.88:  21%|██        | 169/800 [00:51<03:16,  3.21it/s]\u001b[A\n",
            "loss: -18.88:  21%|██▏       | 170/800 [00:51<03:12,  3.28it/s]\u001b[A\n",
            "loss: -34.08:  21%|██▏       | 170/800 [00:51<03:12,  3.28it/s]\u001b[A\n",
            "loss: -34.08:  21%|██▏       | 171/800 [00:51<03:10,  3.29it/s]\u001b[A\n",
            "loss: -27.52:  21%|██▏       | 171/800 [00:51<03:10,  3.29it/s]\u001b[A\n",
            "\n",
            "epochs:   0%|          | 0/1 [00:51<?, ?it/s]\n",
            "loss: -27.52:  22%|██▏       | 172/800 [00:51<03:09,  3.31it/s]\u001b[A\n",
            "loss: -24.18:  22%|██▏       | 172/800 [00:51<03:09,  3.31it/s]\u001b[A\n",
            "loss: -24.18:  22%|██▏       | 173/800 [00:51<03:14,  3.23it/s]\u001b[A"
          ]
        },
        {
          "output_type": "stream",
          "name": "stdout",
          "text": [
            "image updated at \"./a_dog_with_a_ball.000043.jpg\"\n"
          ]
        },
        {
          "output_type": "stream",
          "name": "stderr",
          "text": [
            "\n",
            "loss: -24.35:  22%|██▏       | 173/800 [00:52<03:14,  3.23it/s]\u001b[A\n",
            "loss: -24.35:  22%|██▏       | 174/800 [00:52<03:11,  3.28it/s]\u001b[A\n",
            "loss: -35.18:  22%|██▏       | 174/800 [00:52<03:11,  3.28it/s]\u001b[A\n",
            "loss: -35.18:  22%|██▏       | 175/800 [00:52<03:09,  3.29it/s]\u001b[A\n",
            "loss: -35.16:  22%|██▏       | 175/800 [00:52<03:09,  3.29it/s]\u001b[A\n",
            "\n",
            "epochs:   0%|          | 0/1 [00:53<?, ?it/s]\n",
            "loss: -35.16:  22%|██▏       | 176/800 [00:53<03:09,  3.30it/s]\u001b[A\n",
            "loss: -18.92:  22%|██▏       | 176/800 [00:53<03:09,  3.30it/s]\u001b[A\n",
            "loss: -18.92:  22%|██▏       | 177/800 [00:53<03:13,  3.22it/s]\u001b[A"
          ]
        },
        {
          "output_type": "stream",
          "name": "stdout",
          "text": [
            "image updated at \"./a_dog_with_a_ball.000044.jpg\"\n"
          ]
        },
        {
          "output_type": "stream",
          "name": "stderr",
          "text": [
            "\n",
            "loss: -21.05:  22%|██▏       | 177/800 [00:53<03:13,  3.22it/s]\u001b[A\n",
            "loss: -21.05:  22%|██▏       | 178/800 [00:53<03:10,  3.27it/s]\u001b[A\n",
            "loss: -26.40:  22%|██▏       | 178/800 [00:53<03:10,  3.27it/s]\u001b[A\n",
            "loss: -26.40:  22%|██▏       | 179/800 [00:53<03:07,  3.31it/s]\u001b[A\n",
            "loss: -24.54:  22%|██▏       | 179/800 [00:54<03:07,  3.31it/s]\u001b[A\n",
            "\n",
            "epochs:   0%|          | 0/1 [00:54<?, ?it/s]\n",
            "loss: -24.54:  22%|██▎       | 180/800 [00:54<03:06,  3.33it/s]\u001b[A\n",
            "loss: -27.76:  22%|██▎       | 180/800 [00:54<03:06,  3.33it/s]\u001b[A\n",
            "loss: -27.76:  23%|██▎       | 181/800 [00:54<03:11,  3.22it/s]\u001b[A"
          ]
        },
        {
          "output_type": "stream",
          "name": "stdout",
          "text": [
            "image updated at \"./a_dog_with_a_ball.000045.jpg\"\n"
          ]
        },
        {
          "output_type": "stream",
          "name": "stderr",
          "text": [
            "\n",
            "loss: -34.32:  23%|██▎       | 181/800 [00:54<03:11,  3.22it/s]\u001b[A\n",
            "loss: -34.32:  23%|██▎       | 182/800 [00:54<03:09,  3.27it/s]\u001b[A\n",
            "loss: -33.86:  23%|██▎       | 182/800 [00:54<03:09,  3.27it/s]\u001b[A\n",
            "loss: -33.86:  23%|██▎       | 183/800 [00:55<03:08,  3.27it/s]\u001b[A\n",
            "loss: -33.74:  23%|██▎       | 183/800 [00:55<03:08,  3.27it/s]\u001b[A\n",
            "\n",
            "epochs:   0%|          | 0/1 [00:55<?, ?it/s]\n",
            "loss: -33.74:  23%|██▎       | 184/800 [00:55<03:07,  3.29it/s]\u001b[A\n",
            "loss: -28.25:  23%|██▎       | 184/800 [00:55<03:07,  3.29it/s]\u001b[A\n",
            "loss: -28.25:  23%|██▎       | 185/800 [00:55<03:10,  3.23it/s]\u001b[A"
          ]
        },
        {
          "output_type": "stream",
          "name": "stdout",
          "text": [
            "image updated at \"./a_dog_with_a_ball.000046.jpg\"\n"
          ]
        },
        {
          "output_type": "stream",
          "name": "stderr",
          "text": [
            "\n",
            "loss: -29.03:  23%|██▎       | 185/800 [00:55<03:10,  3.23it/s]\u001b[A\n",
            "loss: -29.03:  23%|██▎       | 186/800 [00:55<03:08,  3.26it/s]\u001b[A\n",
            "loss: -34.87:  23%|██▎       | 186/800 [00:56<03:08,  3.26it/s]\u001b[A\n",
            "loss: -34.87:  23%|██▎       | 187/800 [00:56<03:05,  3.30it/s]\u001b[A\n",
            "loss: -34.95:  23%|██▎       | 187/800 [00:56<03:05,  3.30it/s]\u001b[A\n",
            "\n",
            "epochs:   0%|          | 0/1 [00:56<?, ?it/s]\n",
            "loss: -34.95:  24%|██▎       | 188/800 [00:56<03:04,  3.31it/s]\u001b[A\n",
            "loss: -21.11:  24%|██▎       | 188/800 [00:56<03:04,  3.31it/s]\u001b[A\n",
            "loss: -21.11:  24%|██▎       | 189/800 [00:56<03:10,  3.21it/s]\u001b[A"
          ]
        },
        {
          "output_type": "stream",
          "name": "stdout",
          "text": [
            "image updated at \"./a_dog_with_a_ball.000047.jpg\"\n"
          ]
        },
        {
          "output_type": "stream",
          "name": "stderr",
          "text": [
            "\n",
            "loss: -26.34:  24%|██▎       | 189/800 [00:57<03:10,  3.21it/s]\u001b[A\n",
            "loss: -26.34:  24%|██▍       | 190/800 [00:57<03:07,  3.25it/s]\u001b[A\n",
            "loss: -35.30:  24%|██▍       | 190/800 [00:57<03:07,  3.25it/s]\u001b[A\n",
            "loss: -35.30:  24%|██▍       | 191/800 [00:57<03:05,  3.29it/s]\u001b[A\n",
            "loss: -33.95:  24%|██▍       | 191/800 [00:57<03:05,  3.29it/s]\u001b[A\n",
            "\n",
            "epochs:   0%|          | 0/1 [00:58<?, ?it/s]\n",
            "loss: -33.95:  24%|██▍       | 192/800 [00:58<03:03,  3.32it/s]\u001b[A\n",
            "loss: -35.03:  24%|██▍       | 192/800 [00:58<03:03,  3.32it/s]\u001b[A\n",
            "loss: -35.03:  24%|██▍       | 193/800 [00:58<03:09,  3.20it/s]\u001b[A"
          ]
        },
        {
          "output_type": "stream",
          "name": "stdout",
          "text": [
            "image updated at \"./a_dog_with_a_ball.000048.jpg\"\n"
          ]
        },
        {
          "output_type": "stream",
          "name": "stderr",
          "text": [
            "\n",
            "loss: -20.35:  24%|██▍       | 193/800 [00:58<03:09,  3.20it/s]\u001b[A\n",
            "loss: -20.35:  24%|██▍       | 194/800 [00:58<03:05,  3.26it/s]\u001b[A\n",
            "loss: -29.49:  24%|██▍       | 194/800 [00:58<03:05,  3.26it/s]\u001b[A\n",
            "loss: -29.49:  24%|██▍       | 195/800 [00:58<03:04,  3.29it/s]\u001b[A\n",
            "loss: -34.99:  24%|██▍       | 195/800 [00:58<03:04,  3.29it/s]\u001b[A\n",
            "\n",
            "epochs:   0%|          | 0/1 [00:59<?, ?it/s]\n",
            "loss: -34.99:  24%|██▍       | 196/800 [00:59<03:03,  3.28it/s]\u001b[A\n",
            "loss: -21.41:  24%|██▍       | 196/800 [00:59<03:03,  3.28it/s]\u001b[A\n",
            "loss: -21.41:  25%|██▍       | 197/800 [00:59<03:07,  3.21it/s]\u001b[A"
          ]
        },
        {
          "output_type": "stream",
          "name": "stdout",
          "text": [
            "image updated at \"./a_dog_with_a_ball.000049.jpg\"\n"
          ]
        },
        {
          "output_type": "stream",
          "name": "stderr",
          "text": [
            "\n",
            "loss: -29.98:  25%|██▍       | 197/800 [00:59<03:07,  3.21it/s]\u001b[A\n",
            "loss: -29.98:  25%|██▍       | 198/800 [00:59<03:05,  3.25it/s]\u001b[A\n",
            "loss: -28.65:  25%|██▍       | 198/800 [00:59<03:05,  3.25it/s]\u001b[A\n",
            "loss: -28.65:  25%|██▍       | 199/800 [00:59<03:02,  3.30it/s]\u001b[A\n",
            "loss: -35.22:  25%|██▍       | 199/800 [01:00<03:02,  3.30it/s]\u001b[A\n",
            "\n",
            "epochs:   0%|          | 0/1 [01:00<?, ?it/s]\n",
            "loss: -35.22:  25%|██▌       | 200/800 [01:00<03:00,  3.32it/s]\u001b[A\n",
            "loss: -29.44:  25%|██▌       | 200/800 [01:00<03:00,  3.32it/s]\u001b[A\n",
            "loss: -29.44:  25%|██▌       | 201/800 [01:00<03:04,  3.24it/s]\u001b[A"
          ]
        },
        {
          "output_type": "stream",
          "name": "stdout",
          "text": [
            "image updated at \"./a_dog_with_a_ball.000050.jpg\"\n"
          ]
        },
        {
          "output_type": "stream",
          "name": "stderr",
          "text": [
            "\n",
            "loss: -25.86:  25%|██▌       | 201/800 [01:00<03:04,  3.24it/s]\u001b[A\n",
            "loss: -25.86:  25%|██▌       | 202/800 [01:00<03:01,  3.29it/s]\u001b[A\n",
            "loss: -20.33:  25%|██▌       | 202/800 [01:01<03:01,  3.29it/s]\u001b[A\n",
            "loss: -20.33:  25%|██▌       | 203/800 [01:01<03:00,  3.31it/s]\u001b[A\n",
            "loss: -35.18:  25%|██▌       | 203/800 [01:01<03:00,  3.31it/s]\u001b[A\n",
            "\n",
            "epochs:   0%|          | 0/1 [01:01<?, ?it/s]\n",
            "loss: -35.18:  26%|██▌       | 204/800 [01:01<02:59,  3.32it/s]\u001b[A\n",
            "loss: -20.99:  26%|██▌       | 204/800 [01:01<02:59,  3.32it/s]\u001b[A\n",
            "loss: -20.99:  26%|██▌       | 205/800 [01:01<03:04,  3.23it/s]\u001b[A"
          ]
        },
        {
          "output_type": "stream",
          "name": "stdout",
          "text": [
            "image updated at \"./a_dog_with_a_ball.000051.jpg\"\n"
          ]
        },
        {
          "output_type": "stream",
          "name": "stderr",
          "text": [
            "\n",
            "loss: -20.96:  26%|██▌       | 205/800 [01:02<03:04,  3.23it/s]\u001b[A\n",
            "loss: -20.96:  26%|██▌       | 206/800 [01:02<03:01,  3.28it/s]\u001b[A\n",
            "loss: -19.89:  26%|██▌       | 206/800 [01:02<03:01,  3.28it/s]\u001b[A\n",
            "loss: -19.89:  26%|██▌       | 207/800 [01:02<02:58,  3.32it/s]\u001b[A\n",
            "loss: -34.21:  26%|██▌       | 207/800 [01:02<02:58,  3.32it/s]\u001b[A\n",
            "\n",
            "epochs:   0%|          | 0/1 [01:02<?, ?it/s]\n",
            "loss: -34.21:  26%|██▌       | 208/800 [01:02<02:58,  3.32it/s]\u001b[A\n",
            "loss: -31.02:  26%|██▌       | 208/800 [01:02<02:58,  3.32it/s]\u001b[A\n",
            "loss: -31.02:  26%|██▌       | 209/800 [01:02<03:02,  3.25it/s]\u001b[A"
          ]
        },
        {
          "output_type": "stream",
          "name": "stdout",
          "text": [
            "image updated at \"./a_dog_with_a_ball.000052.jpg\"\n"
          ]
        },
        {
          "output_type": "stream",
          "name": "stderr",
          "text": [
            "\n",
            "loss: -30.22:  26%|██▌       | 209/800 [01:03<03:02,  3.25it/s]\u001b[A\n",
            "loss: -30.22:  26%|██▋       | 210/800 [01:03<02:58,  3.31it/s]\u001b[A\n",
            "loss: -27.22:  26%|██▋       | 210/800 [01:03<02:58,  3.31it/s]\u001b[A\n",
            "loss: -27.22:  26%|██▋       | 211/800 [01:03<02:57,  3.32it/s]\u001b[A\n",
            "loss: -34.74:  26%|██▋       | 211/800 [01:03<02:57,  3.32it/s]\u001b[A\n",
            "\n",
            "epochs:   0%|          | 0/1 [01:04<?, ?it/s]\n",
            "loss: -34.74:  26%|██▋       | 212/800 [01:04<02:57,  3.31it/s]\u001b[A\n",
            "loss: -21.06:  26%|██▋       | 212/800 [01:04<02:57,  3.31it/s]\u001b[A\n",
            "loss: -21.06:  27%|██▋       | 213/800 [01:04<03:01,  3.23it/s]\u001b[A"
          ]
        },
        {
          "output_type": "stream",
          "name": "stdout",
          "text": [
            "image updated at \"./a_dog_with_a_ball.000053.jpg\"\n"
          ]
        },
        {
          "output_type": "stream",
          "name": "stderr",
          "text": [
            "\n",
            "loss: -28.45:  27%|██▋       | 213/800 [01:04<03:01,  3.23it/s]\u001b[A\n",
            "loss: -28.45:  27%|██▋       | 214/800 [01:04<02:58,  3.29it/s]\u001b[A\n",
            "loss: -35.54:  27%|██▋       | 214/800 [01:04<02:58,  3.29it/s]\u001b[A\n",
            "loss: -35.54:  27%|██▋       | 215/800 [01:04<02:57,  3.30it/s]\u001b[A\n",
            "loss: -24.16:  27%|██▋       | 215/800 [01:05<02:57,  3.30it/s]\u001b[A\n",
            "\n",
            "epochs:   0%|          | 0/1 [01:05<?, ?it/s]\n",
            "loss: -24.16:  27%|██▋       | 216/800 [01:05<02:55,  3.33it/s]\u001b[A\n",
            "loss: -31.15:  27%|██▋       | 216/800 [01:05<02:55,  3.33it/s]\u001b[A\n",
            "loss: -31.15:  27%|██▋       | 217/800 [01:05<02:58,  3.27it/s]\u001b[A"
          ]
        },
        {
          "output_type": "stream",
          "name": "stdout",
          "text": [
            "image updated at \"./a_dog_with_a_ball.000054.jpg\"\n"
          ]
        },
        {
          "output_type": "stream",
          "name": "stderr",
          "text": [
            "\n",
            "loss: -22.89:  27%|██▋       | 217/800 [01:05<02:58,  3.27it/s]\u001b[A\n",
            "loss: -22.89:  27%|██▋       | 218/800 [01:05<02:54,  3.33it/s]\u001b[A\n",
            "loss: -34.63:  27%|██▋       | 218/800 [01:05<02:54,  3.33it/s]\u001b[A\n",
            "loss: -34.63:  27%|██▋       | 219/800 [01:05<02:53,  3.35it/s]\u001b[A\n",
            "loss: -21.91:  27%|██▋       | 219/800 [01:06<02:53,  3.35it/s]\u001b[A\n",
            "\n",
            "epochs:   0%|          | 0/1 [01:06<?, ?it/s]\n",
            "loss: -21.91:  28%|██▊       | 220/800 [01:06<02:53,  3.35it/s]\u001b[A\n",
            "loss: -35.04:  28%|██▊       | 220/800 [01:06<02:53,  3.35it/s]\u001b[A\n",
            "loss: -35.04:  28%|██▊       | 221/800 [01:06<02:56,  3.28it/s]\u001b[A"
          ]
        },
        {
          "output_type": "stream",
          "name": "stdout",
          "text": [
            "image updated at \"./a_dog_with_a_ball.000055.jpg\"\n"
          ]
        },
        {
          "output_type": "stream",
          "name": "stderr",
          "text": [
            "\n",
            "loss: -27.69:  28%|██▊       | 221/800 [01:06<02:56,  3.28it/s]\u001b[A\n",
            "loss: -27.69:  28%|██▊       | 222/800 [01:06<02:53,  3.33it/s]\u001b[A\n",
            "loss: -25.78:  28%|██▊       | 222/800 [01:07<02:53,  3.33it/s]\u001b[A\n",
            "loss: -25.78:  28%|██▊       | 223/800 [01:07<02:51,  3.36it/s]\u001b[A\n",
            "loss: -19.97:  28%|██▊       | 223/800 [01:07<02:51,  3.36it/s]\u001b[A\n",
            "\n",
            "epochs:   0%|          | 0/1 [01:07<?, ?it/s]\n",
            "loss: -19.97:  28%|██▊       | 224/800 [01:07<02:50,  3.37it/s]\u001b[A\n",
            "loss: -25.20:  28%|██▊       | 224/800 [01:07<02:50,  3.37it/s]\u001b[A\n",
            "loss: -25.20:  28%|██▊       | 225/800 [01:07<02:56,  3.25it/s]\u001b[A"
          ]
        },
        {
          "output_type": "stream",
          "name": "stdout",
          "text": [
            "image updated at \"./a_dog_with_a_ball.000056.jpg\"\n"
          ]
        },
        {
          "output_type": "stream",
          "name": "stderr",
          "text": [
            "\n",
            "loss: -33.89:  28%|██▊       | 225/800 [01:08<02:56,  3.25it/s]\u001b[A\n",
            "loss: -33.89:  28%|██▊       | 226/800 [01:08<02:54,  3.29it/s]\u001b[A\n",
            "loss: -21.81:  28%|██▊       | 226/800 [01:08<02:54,  3.29it/s]\u001b[A\n",
            "loss: -21.81:  28%|██▊       | 227/800 [01:08<02:52,  3.32it/s]\u001b[A\n",
            "loss: -34.78:  28%|██▊       | 227/800 [01:08<02:52,  3.32it/s]\u001b[A\n",
            "\n",
            "epochs:   0%|          | 0/1 [01:08<?, ?it/s]\n",
            "loss: -34.78:  28%|██▊       | 228/800 [01:08<02:51,  3.33it/s]\u001b[A\n",
            "loss: -35.86:  28%|██▊       | 228/800 [01:08<02:51,  3.33it/s]\u001b[A\n",
            "loss: -35.86:  29%|██▊       | 229/800 [01:09<02:57,  3.22it/s]\u001b[A"
          ]
        },
        {
          "output_type": "stream",
          "name": "stdout",
          "text": [
            "image updated at \"./a_dog_with_a_ball.000057.jpg\"\n"
          ]
        },
        {
          "output_type": "stream",
          "name": "stderr",
          "text": [
            "\n",
            "loss: -30.45:  29%|██▊       | 229/800 [01:09<02:57,  3.22it/s]\u001b[A\n",
            "loss: -30.45:  29%|██▉       | 230/800 [01:09<02:55,  3.24it/s]\u001b[A\n",
            "loss: -24.81:  29%|██▉       | 230/800 [01:09<02:55,  3.24it/s]\u001b[A\n",
            "loss: -24.81:  29%|██▉       | 231/800 [01:09<02:53,  3.28it/s]\u001b[A\n",
            "loss: -25.38:  29%|██▉       | 231/800 [01:09<02:53,  3.28it/s]\u001b[A\n",
            "\n",
            "epochs:   0%|          | 0/1 [01:10<?, ?it/s]\n",
            "loss: -25.38:  29%|██▉       | 232/800 [01:10<02:50,  3.32it/s]\u001b[A\n",
            "loss: -35.27:  29%|██▉       | 232/800 [01:10<02:50,  3.32it/s]\u001b[A\n",
            "loss: -35.27:  29%|██▉       | 233/800 [01:10<02:53,  3.26it/s]\u001b[A"
          ]
        },
        {
          "output_type": "stream",
          "name": "stdout",
          "text": [
            "image updated at \"./a_dog_with_a_ball.000058.jpg\"\n"
          ]
        },
        {
          "output_type": "stream",
          "name": "stderr",
          "text": [
            "\n",
            "loss: -34.39:  29%|██▉       | 233/800 [01:10<02:53,  3.26it/s]\u001b[A\n",
            "loss: -34.39:  29%|██▉       | 234/800 [01:10<02:52,  3.29it/s]\u001b[A\n",
            "loss: -20.43:  29%|██▉       | 234/800 [01:10<02:52,  3.29it/s]\u001b[A\n",
            "loss: -20.43:  29%|██▉       | 235/800 [01:10<02:50,  3.32it/s]\u001b[A\n",
            "loss: -27.85:  29%|██▉       | 235/800 [01:11<02:50,  3.32it/s]\u001b[A\n",
            "\n",
            "epochs:   0%|          | 0/1 [01:11<?, ?it/s]\n",
            "loss: -27.85:  30%|██▉       | 236/800 [01:11<02:48,  3.34it/s]\u001b[A\n",
            "loss: -24.64:  30%|██▉       | 236/800 [01:11<02:48,  3.34it/s]\u001b[A\n",
            "loss: -24.64:  30%|██▉       | 237/800 [01:11<02:53,  3.25it/s]\u001b[A"
          ]
        },
        {
          "output_type": "stream",
          "name": "stdout",
          "text": [
            "image updated at \"./a_dog_with_a_ball.000059.jpg\"\n"
          ]
        },
        {
          "output_type": "stream",
          "name": "stderr",
          "text": [
            "\n",
            "loss: -33.12:  30%|██▉       | 237/800 [01:11<02:53,  3.25it/s]\u001b[A\n",
            "loss: -33.12:  30%|██▉       | 238/800 [01:11<02:50,  3.30it/s]\u001b[A\n",
            "loss: -20.78:  30%|██▉       | 238/800 [01:12<02:50,  3.30it/s]\u001b[A\n",
            "loss: -20.78:  30%|██▉       | 239/800 [01:12<02:48,  3.33it/s]\u001b[A\n",
            "loss: -26.18:  30%|██▉       | 239/800 [01:12<02:48,  3.33it/s]\u001b[A\n",
            "\n",
            "epochs:   0%|          | 0/1 [01:12<?, ?it/s]\n",
            "loss: -26.18:  30%|███       | 240/800 [01:12<02:47,  3.34it/s]\u001b[A\n",
            "loss: -30.76:  30%|███       | 240/800 [01:12<02:47,  3.34it/s]\u001b[A\n",
            "loss: -30.76:  30%|███       | 241/800 [01:12<02:53,  3.23it/s]\u001b[A"
          ]
        },
        {
          "output_type": "stream",
          "name": "stdout",
          "text": [
            "image updated at \"./a_dog_with_a_ball.000060.jpg\"\n"
          ]
        },
        {
          "output_type": "stream",
          "name": "stderr",
          "text": [
            "\n",
            "loss: -20.34:  30%|███       | 241/800 [01:12<02:53,  3.23it/s]\u001b[A\n",
            "loss: -20.34:  30%|███       | 242/800 [01:12<02:49,  3.29it/s]\u001b[A\n",
            "loss: -27.98:  30%|███       | 242/800 [01:13<02:49,  3.29it/s]\u001b[A\n",
            "loss: -27.98:  30%|███       | 243/800 [01:13<02:47,  3.33it/s]\u001b[A\n",
            "loss: -34.29:  30%|███       | 243/800 [01:13<02:47,  3.33it/s]\u001b[A\n",
            "\n",
            "epochs:   0%|          | 0/1 [01:13<?, ?it/s]\n",
            "loss: -34.29:  30%|███       | 244/800 [01:13<02:46,  3.34it/s]\u001b[A\n",
            "loss: -25.63:  30%|███       | 244/800 [01:13<02:46,  3.34it/s]\u001b[A\n",
            "loss: -25.63:  31%|███       | 245/800 [01:13<02:51,  3.24it/s]\u001b[A"
          ]
        },
        {
          "output_type": "stream",
          "name": "stdout",
          "text": [
            "image updated at \"./a_dog_with_a_ball.000061.jpg\"\n"
          ]
        },
        {
          "output_type": "stream",
          "name": "stderr",
          "text": [
            "\n",
            "loss: -34.93:  31%|███       | 245/800 [01:14<02:51,  3.24it/s]\u001b[A\n",
            "loss: -34.93:  31%|███       | 246/800 [01:14<02:48,  3.29it/s]\u001b[A\n",
            "loss: -33.89:  31%|███       | 246/800 [01:14<02:48,  3.29it/s]\u001b[A\n",
            "loss: -33.89:  31%|███       | 247/800 [01:14<02:46,  3.32it/s]\u001b[A\n",
            "loss: -35.20:  31%|███       | 247/800 [01:14<02:46,  3.32it/s]\u001b[A\n",
            "\n",
            "epochs:   0%|          | 0/1 [01:15<?, ?it/s]\n",
            "loss: -35.20:  31%|███       | 248/800 [01:15<02:45,  3.34it/s]\u001b[A\n",
            "loss: -28.65:  31%|███       | 248/800 [01:15<02:45,  3.34it/s]\u001b[A\n",
            "loss: -28.65:  31%|███       | 249/800 [01:15<02:50,  3.23it/s]\u001b[A"
          ]
        },
        {
          "output_type": "stream",
          "name": "stdout",
          "text": [
            "image updated at \"./a_dog_with_a_ball.000062.jpg\"\n"
          ]
        },
        {
          "output_type": "stream",
          "name": "stderr",
          "text": [
            "\n",
            "loss: -20.04:  31%|███       | 249/800 [01:15<02:50,  3.23it/s]\u001b[A\n",
            "loss: -20.04:  31%|███▏      | 250/800 [01:15<02:47,  3.28it/s]\u001b[A\n",
            "loss: -26.19:  31%|███▏      | 250/800 [01:15<02:47,  3.28it/s]\u001b[A\n",
            "loss: -26.19:  31%|███▏      | 251/800 [01:15<02:45,  3.31it/s]\u001b[A\n",
            "loss: -26.15:  31%|███▏      | 251/800 [01:15<02:45,  3.31it/s]\u001b[A\n",
            "\n",
            "epochs:   0%|          | 0/1 [01:16<?, ?it/s]\n",
            "loss: -26.15:  32%|███▏      | 252/800 [01:16<02:43,  3.36it/s]\u001b[A\n",
            "loss: -27.19:  32%|███▏      | 252/800 [01:16<02:43,  3.36it/s]\u001b[A\n",
            "loss: -27.19:  32%|███▏      | 253/800 [01:16<02:45,  3.30it/s]\u001b[A"
          ]
        },
        {
          "output_type": "stream",
          "name": "stdout",
          "text": [
            "image updated at \"./a_dog_with_a_ball.000063.jpg\"\n"
          ]
        },
        {
          "output_type": "stream",
          "name": "stderr",
          "text": [
            "\n",
            "loss: -19.94:  32%|███▏      | 253/800 [01:16<02:45,  3.30it/s]\u001b[A\n",
            "loss: -19.94:  32%|███▏      | 254/800 [01:16<02:42,  3.36it/s]\u001b[A\n",
            "loss: -21.79:  32%|███▏      | 254/800 [01:16<02:42,  3.36it/s]\u001b[A\n",
            "loss: -21.79:  32%|███▏      | 255/800 [01:16<02:40,  3.39it/s]\u001b[A\n",
            "loss: -35.48:  32%|███▏      | 255/800 [01:17<02:40,  3.39it/s]\u001b[A\n",
            "\n",
            "epochs:   0%|          | 0/1 [01:17<?, ?it/s]\n",
            "loss: -35.48:  32%|███▏      | 256/800 [01:17<02:40,  3.39it/s]\u001b[A\n",
            "loss: -26.59:  32%|███▏      | 256/800 [01:17<02:40,  3.39it/s]\u001b[A\n",
            "loss: -26.59:  32%|███▏      | 257/800 [01:17<02:46,  3.27it/s]\u001b[A"
          ]
        },
        {
          "output_type": "stream",
          "name": "stdout",
          "text": [
            "image updated at \"./a_dog_with_a_ball.000064.jpg\"\n"
          ]
        },
        {
          "output_type": "stream",
          "name": "stderr",
          "text": [
            "\n",
            "loss: -34.11:  32%|███▏      | 257/800 [01:17<02:46,  3.27it/s]\u001b[A\n",
            "loss: -34.11:  32%|███▏      | 258/800 [01:17<02:44,  3.29it/s]\u001b[A\n",
            "loss: -34.98:  32%|███▏      | 258/800 [01:18<02:44,  3.29it/s]\u001b[A\n",
            "loss: -34.98:  32%|███▏      | 259/800 [01:18<02:42,  3.33it/s]\u001b[A\n",
            "loss: -20.54:  32%|███▏      | 259/800 [01:18<02:42,  3.33it/s]\u001b[A\n",
            "\n",
            "epochs:   0%|          | 0/1 [01:18<?, ?it/s]\n",
            "loss: -20.54:  32%|███▎      | 260/800 [01:18<02:41,  3.34it/s]\u001b[A\n",
            "loss: -35.85:  32%|███▎      | 260/800 [01:18<02:41,  3.34it/s]\u001b[A\n",
            "loss: -35.85:  33%|███▎      | 261/800 [01:18<02:43,  3.29it/s]\u001b[A"
          ]
        },
        {
          "output_type": "stream",
          "name": "stdout",
          "text": [
            "image updated at \"./a_dog_with_a_ball.000065.jpg\"\n"
          ]
        },
        {
          "output_type": "stream",
          "name": "stderr",
          "text": [
            "\n",
            "loss: -19.70:  33%|███▎      | 261/800 [01:18<02:43,  3.29it/s]\u001b[A\n",
            "loss: -19.70:  33%|███▎      | 262/800 [01:18<02:40,  3.35it/s]\u001b[A\n",
            "loss: -20.45:  33%|███▎      | 262/800 [01:19<02:40,  3.35it/s]\u001b[A\n",
            "loss: -20.45:  33%|███▎      | 263/800 [01:19<02:39,  3.37it/s]\u001b[A\n",
            "loss: -19.96:  33%|███▎      | 263/800 [01:19<02:39,  3.37it/s]\u001b[A\n",
            "\n",
            "epochs:   0%|          | 0/1 [01:19<?, ?it/s]\n",
            "loss: -19.96:  33%|███▎      | 264/800 [01:19<02:38,  3.38it/s]\u001b[A\n",
            "loss: -29.22:  33%|███▎      | 264/800 [01:19<02:38,  3.38it/s]\u001b[A\n",
            "loss: -29.22:  33%|███▎      | 265/800 [01:19<02:42,  3.29it/s]\u001b[A"
          ]
        },
        {
          "output_type": "stream",
          "name": "stdout",
          "text": [
            "image updated at \"./a_dog_with_a_ball.000066.jpg\"\n"
          ]
        },
        {
          "output_type": "stream",
          "name": "stderr",
          "text": [
            "\n",
            "loss: -19.99:  33%|███▎      | 265/800 [01:20<02:42,  3.29it/s]\u001b[A\n",
            "loss: -19.99:  33%|███▎      | 266/800 [01:20<02:40,  3.33it/s]\u001b[A\n",
            "loss: -35.22:  33%|███▎      | 266/800 [01:20<02:40,  3.33it/s]\u001b[A\n",
            "loss: -35.22:  33%|███▎      | 267/800 [01:20<02:39,  3.35it/s]\u001b[A\n",
            "loss: -36.25:  33%|███▎      | 267/800 [01:20<02:39,  3.35it/s]\u001b[A\n",
            "\n",
            "epochs:   0%|          | 0/1 [01:21<?, ?it/s]\n",
            "loss: -36.25:  34%|███▎      | 268/800 [01:21<02:38,  3.37it/s]\u001b[A\n",
            "loss: -24.29:  34%|███▎      | 268/800 [01:21<02:38,  3.37it/s]\u001b[A\n",
            "loss: -24.29:  34%|███▎      | 269/800 [01:21<02:42,  3.26it/s]\u001b[A"
          ]
        },
        {
          "output_type": "stream",
          "name": "stdout",
          "text": [
            "image updated at \"./a_dog_with_a_ball.000067.jpg\"\n"
          ]
        },
        {
          "output_type": "stream",
          "name": "stderr",
          "text": [
            "\n",
            "loss: -25.11:  34%|███▎      | 269/800 [01:21<02:42,  3.26it/s]\u001b[A\n",
            "loss: -25.11:  34%|███▍      | 270/800 [01:21<02:39,  3.32it/s]\u001b[A\n",
            "loss: -34.25:  34%|███▍      | 270/800 [01:21<02:39,  3.32it/s]\u001b[A\n",
            "loss: -34.25:  34%|███▍      | 271/800 [01:21<02:38,  3.34it/s]\u001b[A\n",
            "loss: -28.92:  34%|███▍      | 271/800 [01:21<02:38,  3.34it/s]\u001b[A\n",
            "\n",
            "epochs:   0%|          | 0/1 [01:22<?, ?it/s]\n",
            "loss: -28.92:  34%|███▍      | 272/800 [01:22<02:36,  3.37it/s]\u001b[A\n",
            "loss: -35.59:  34%|███▍      | 272/800 [01:22<02:36,  3.37it/s]\u001b[A\n",
            "loss: -35.59:  34%|███▍      | 273/800 [01:22<02:42,  3.25it/s]\u001b[A"
          ]
        },
        {
          "output_type": "stream",
          "name": "stdout",
          "text": [
            "image updated at \"./a_dog_with_a_ball.000068.jpg\"\n"
          ]
        },
        {
          "output_type": "stream",
          "name": "stderr",
          "text": [
            "\n",
            "loss: -26.74:  34%|███▍      | 273/800 [01:22<02:42,  3.25it/s]\u001b[A\n",
            "loss: -26.74:  34%|███▍      | 274/800 [01:22<02:38,  3.31it/s]\u001b[A\n",
            "loss: -35.68:  34%|███▍      | 274/800 [01:22<02:38,  3.31it/s]\u001b[A\n",
            "loss: -35.68:  34%|███▍      | 275/800 [01:22<02:36,  3.35it/s]\u001b[A\n",
            "loss: -35.17:  34%|███▍      | 275/800 [01:23<02:36,  3.35it/s]\u001b[A\n",
            "\n",
            "epochs:   0%|          | 0/1 [01:23<?, ?it/s]\n",
            "loss: -35.17:  34%|███▍      | 276/800 [01:23<02:35,  3.37it/s]\u001b[A\n",
            "loss: -31.55:  34%|███▍      | 276/800 [01:23<02:35,  3.37it/s]\u001b[A\n",
            "loss: -31.55:  35%|███▍      | 277/800 [01:23<02:38,  3.31it/s]\u001b[A"
          ]
        },
        {
          "output_type": "stream",
          "name": "stdout",
          "text": [
            "image updated at \"./a_dog_with_a_ball.000069.jpg\"\n"
          ]
        },
        {
          "output_type": "stream",
          "name": "stderr",
          "text": [
            "\n",
            "loss: -36.19:  35%|███▍      | 277/800 [01:23<02:38,  3.31it/s]\u001b[A\n",
            "loss: -36.19:  35%|███▍      | 278/800 [01:23<02:35,  3.35it/s]\u001b[A\n",
            "loss: -36.24:  35%|███▍      | 278/800 [01:24<02:35,  3.35it/s]\u001b[A\n",
            "loss: -36.24:  35%|███▍      | 279/800 [01:24<02:34,  3.36it/s]\u001b[A\n",
            "loss: -36.55:  35%|███▍      | 279/800 [01:24<02:34,  3.36it/s]\u001b[A\n",
            "\n",
            "epochs:   0%|          | 0/1 [01:24<?, ?it/s]\n",
            "loss: -36.55:  35%|███▌      | 280/800 [01:24<02:34,  3.36it/s]\u001b[A\n",
            "loss: -35.68:  35%|███▌      | 280/800 [01:24<02:34,  3.36it/s]\u001b[A\n",
            "loss: -35.68:  35%|███▌      | 281/800 [01:24<02:40,  3.24it/s]\u001b[A"
          ]
        },
        {
          "output_type": "stream",
          "name": "stdout",
          "text": [
            "image updated at \"./a_dog_with_a_ball.000070.jpg\"\n"
          ]
        },
        {
          "output_type": "stream",
          "name": "stderr",
          "text": [
            "\n",
            "loss: -36.45:  35%|███▌      | 281/800 [01:24<02:40,  3.24it/s]\u001b[A\n",
            "loss: -36.45:  35%|███▌      | 282/800 [01:24<02:36,  3.30it/s]\u001b[A\n",
            "loss: -21.33:  35%|███▌      | 282/800 [01:25<02:36,  3.30it/s]\u001b[A\n",
            "loss: -21.33:  35%|███▌      | 283/800 [01:25<02:34,  3.34it/s]\u001b[A\n",
            "loss: -26.50:  35%|███▌      | 283/800 [01:25<02:34,  3.34it/s]\u001b[A\n",
            "\n",
            "epochs:   0%|          | 0/1 [01:25<?, ?it/s]\n",
            "loss: -26.50:  36%|███▌      | 284/800 [01:25<02:34,  3.33it/s]\u001b[A\n",
            "loss: -28.05:  36%|███▌      | 284/800 [01:25<02:34,  3.33it/s]\u001b[A\n",
            "loss: -28.05:  36%|███▌      | 285/800 [01:25<02:38,  3.26it/s]\u001b[A"
          ]
        },
        {
          "output_type": "stream",
          "name": "stdout",
          "text": [
            "image updated at \"./a_dog_with_a_ball.000071.jpg\"\n"
          ]
        },
        {
          "output_type": "stream",
          "name": "stderr",
          "text": [
            "\n",
            "loss: -35.42:  36%|███▌      | 285/800 [01:26<02:38,  3.26it/s]\u001b[A\n",
            "loss: -35.42:  36%|███▌      | 286/800 [01:26<02:35,  3.31it/s]\u001b[A\n",
            "loss: -22.47:  36%|███▌      | 286/800 [01:26<02:35,  3.31it/s]\u001b[A\n",
            "loss: -22.47:  36%|███▌      | 287/800 [01:26<02:32,  3.36it/s]\u001b[A\n",
            "loss: -35.96:  36%|███▌      | 287/800 [01:26<02:32,  3.36it/s]\u001b[A\n",
            "\n",
            "epochs:   0%|          | 0/1 [01:27<?, ?it/s]\n",
            "loss: -35.96:  36%|███▌      | 288/800 [01:27<02:31,  3.38it/s]\u001b[A\n",
            "loss: -35.46:  36%|███▌      | 288/800 [01:27<02:31,  3.38it/s]\u001b[A\n",
            "loss: -35.46:  36%|███▌      | 289/800 [01:27<02:36,  3.26it/s]\u001b[A"
          ]
        },
        {
          "output_type": "stream",
          "name": "stdout",
          "text": [
            "image updated at \"./a_dog_with_a_ball.000072.jpg\"\n"
          ]
        },
        {
          "output_type": "stream",
          "name": "stderr",
          "text": [
            "\n",
            "loss: -28.81:  36%|███▌      | 289/800 [01:27<02:36,  3.26it/s]\u001b[A\n",
            "loss: -28.81:  36%|███▋      | 290/800 [01:27<02:34,  3.31it/s]\u001b[A\n",
            "loss: -24.95:  36%|███▋      | 290/800 [01:27<02:34,  3.31it/s]\u001b[A\n",
            "loss: -24.95:  36%|███▋      | 291/800 [01:27<02:32,  3.34it/s]\u001b[A\n",
            "loss: -35.26:  36%|███▋      | 291/800 [01:27<02:32,  3.34it/s]\u001b[A\n",
            "\n",
            "epochs:   0%|          | 0/1 [01:28<?, ?it/s]\n",
            "loss: -35.26:  36%|███▋      | 292/800 [01:28<02:30,  3.37it/s]\u001b[A\n",
            "loss: -31.39:  36%|███▋      | 292/800 [01:28<02:30,  3.37it/s]\u001b[A\n",
            "loss: -31.39:  37%|███▋      | 293/800 [01:28<02:35,  3.27it/s]\u001b[A"
          ]
        },
        {
          "output_type": "stream",
          "name": "stdout",
          "text": [
            "image updated at \"./a_dog_with_a_ball.000073.jpg\"\n"
          ]
        },
        {
          "output_type": "stream",
          "name": "stderr",
          "text": [
            "\n",
            "loss: -20.45:  37%|███▋      | 293/800 [01:28<02:35,  3.27it/s]\u001b[A\n",
            "loss: -20.45:  37%|███▋      | 294/800 [01:28<02:32,  3.31it/s]\u001b[A\n",
            "loss: -35.20:  37%|███▋      | 294/800 [01:28<02:32,  3.31it/s]\u001b[A\n",
            "loss: -35.20:  37%|███▋      | 295/800 [01:28<02:31,  3.34it/s]\u001b[A\n",
            "loss: -28.84:  37%|███▋      | 295/800 [01:29<02:31,  3.34it/s]\u001b[A\n",
            "\n",
            "epochs:   0%|          | 0/1 [01:29<?, ?it/s]\n",
            "loss: -28.84:  37%|███▋      | 296/800 [01:29<02:31,  3.33it/s]\u001b[A\n",
            "loss: -20.59:  37%|███▋      | 296/800 [01:29<02:31,  3.33it/s]\u001b[A\n",
            "loss: -20.59:  37%|███▋      | 297/800 [01:29<02:34,  3.25it/s]\u001b[A"
          ]
        },
        {
          "output_type": "stream",
          "name": "stdout",
          "text": [
            "image updated at \"./a_dog_with_a_ball.000074.jpg\"\n"
          ]
        },
        {
          "output_type": "stream",
          "name": "stderr",
          "text": [
            "\n",
            "loss: -35.51:  37%|███▋      | 297/800 [01:29<02:34,  3.25it/s]\u001b[A\n",
            "loss: -35.51:  37%|███▋      | 298/800 [01:29<02:31,  3.31it/s]\u001b[A\n",
            "loss: -19.88:  37%|███▋      | 298/800 [01:30<02:31,  3.31it/s]\u001b[A\n",
            "loss: -19.88:  37%|███▋      | 299/800 [01:30<02:30,  3.34it/s]\u001b[A\n",
            "loss: -33.36:  37%|███▋      | 299/800 [01:30<02:30,  3.34it/s]\u001b[A\n",
            "\n",
            "epochs:   0%|          | 0/1 [01:30<?, ?it/s]\n",
            "loss: -33.36:  38%|███▊      | 300/800 [01:30<02:30,  3.33it/s]\u001b[A\n",
            "loss: -35.06:  38%|███▊      | 300/800 [01:30<02:30,  3.33it/s]\u001b[A\n",
            "loss: -35.06:  38%|███▊      | 301/800 [01:30<02:35,  3.21it/s]\u001b[A"
          ]
        },
        {
          "output_type": "stream",
          "name": "stdout",
          "text": [
            "image updated at \"./a_dog_with_a_ball.000075.jpg\"\n"
          ]
        },
        {
          "output_type": "stream",
          "name": "stderr",
          "text": [
            "\n",
            "loss: -22.20:  38%|███▊      | 301/800 [01:31<02:35,  3.21it/s]\u001b[A\n",
            "loss: -22.20:  38%|███▊      | 302/800 [01:31<02:32,  3.27it/s]\u001b[A\n",
            "loss: -30.69:  38%|███▊      | 302/800 [01:31<02:32,  3.27it/s]\u001b[A\n",
            "loss: -30.69:  38%|███▊      | 303/800 [01:31<02:30,  3.31it/s]\u001b[A\n",
            "loss: -35.87:  38%|███▊      | 303/800 [01:31<02:30,  3.31it/s]\u001b[A\n",
            "\n",
            "epochs:   0%|          | 0/1 [01:31<?, ?it/s]\n",
            "loss: -35.87:  38%|███▊      | 304/800 [01:31<02:29,  3.32it/s]\u001b[A\n",
            "loss: -35.65:  38%|███▊      | 304/800 [01:31<02:29,  3.32it/s]\u001b[A\n",
            "loss: -35.65:  38%|███▊      | 305/800 [01:31<02:33,  3.22it/s]\u001b[A"
          ]
        },
        {
          "output_type": "stream",
          "name": "stdout",
          "text": [
            "image updated at \"./a_dog_with_a_ball.000076.jpg\"\n"
          ]
        },
        {
          "output_type": "stream",
          "name": "stderr",
          "text": [
            "\n",
            "loss: -28.59:  38%|███▊      | 305/800 [01:32<02:33,  3.22it/s]\u001b[A\n",
            "loss: -28.59:  38%|███▊      | 306/800 [01:32<02:30,  3.28it/s]\u001b[A\n",
            "loss: -35.45:  38%|███▊      | 306/800 [01:32<02:30,  3.28it/s]\u001b[A\n",
            "loss: -35.45:  38%|███▊      | 307/800 [01:32<02:29,  3.30it/s]\u001b[A\n",
            "loss: -35.95:  38%|███▊      | 307/800 [01:32<02:29,  3.30it/s]\u001b[A\n",
            "\n",
            "epochs:   0%|          | 0/1 [01:33<?, ?it/s]\n",
            "loss: -35.95:  38%|███▊      | 308/800 [01:33<02:28,  3.32it/s]\u001b[A\n",
            "loss: -27.21:  38%|███▊      | 308/800 [01:33<02:28,  3.32it/s]\u001b[A\n",
            "loss: -27.21:  39%|███▊      | 309/800 [01:33<02:31,  3.24it/s]\u001b[A"
          ]
        },
        {
          "output_type": "stream",
          "name": "stdout",
          "text": [
            "image updated at \"./a_dog_with_a_ball.000077.jpg\"\n"
          ]
        },
        {
          "output_type": "stream",
          "name": "stderr",
          "text": [
            "\n",
            "loss: -19.33:  39%|███▊      | 309/800 [01:33<02:31,  3.24it/s]\u001b[A\n",
            "loss: -19.33:  39%|███▉      | 310/800 [01:33<02:28,  3.29it/s]\u001b[A\n",
            "loss: -36.01:  39%|███▉      | 310/800 [01:33<02:28,  3.29it/s]\u001b[A\n",
            "loss: -36.01:  39%|███▉      | 311/800 [01:33<02:27,  3.31it/s]\u001b[A\n",
            "loss: -25.29:  39%|███▉      | 311/800 [01:34<02:27,  3.31it/s]\u001b[A\n",
            "\n",
            "epochs:   0%|          | 0/1 [01:34<?, ?it/s]\n",
            "loss: -25.29:  39%|███▉      | 312/800 [01:34<02:25,  3.36it/s]\u001b[A\n",
            "loss: -20.70:  39%|███▉      | 312/800 [01:34<02:25,  3.36it/s]\u001b[A\n",
            "loss: -20.70:  39%|███▉      | 313/800 [01:34<02:29,  3.25it/s]\u001b[A"
          ]
        },
        {
          "output_type": "stream",
          "name": "stdout",
          "text": [
            "image updated at \"./a_dog_with_a_ball.000078.jpg\"\n"
          ]
        },
        {
          "output_type": "stream",
          "name": "stderr",
          "text": [
            "\n",
            "loss: -21.03:  39%|███▉      | 313/800 [01:34<02:29,  3.25it/s]\u001b[A\n",
            "loss: -21.03:  39%|███▉      | 314/800 [01:34<02:26,  3.31it/s]\u001b[A\n",
            "loss: -35.45:  39%|███▉      | 314/800 [01:34<02:26,  3.31it/s]\u001b[A\n",
            "loss: -35.45:  39%|███▉      | 315/800 [01:34<02:26,  3.32it/s]\u001b[A\n",
            "loss: -20.43:  39%|███▉      | 315/800 [01:35<02:26,  3.32it/s]\u001b[A\n",
            "\n",
            "epochs:   0%|          | 0/1 [01:35<?, ?it/s]\n",
            "loss: -20.43:  40%|███▉      | 316/800 [01:35<02:24,  3.35it/s]\u001b[A\n",
            "loss: -28.56:  40%|███▉      | 316/800 [01:35<02:24,  3.35it/s]\u001b[A\n",
            "loss: -28.56:  40%|███▉      | 317/800 [01:35<02:28,  3.25it/s]\u001b[A"
          ]
        },
        {
          "output_type": "stream",
          "name": "stdout",
          "text": [
            "image updated at \"./a_dog_with_a_ball.000079.jpg\"\n"
          ]
        },
        {
          "output_type": "stream",
          "name": "stderr",
          "text": [
            "\n",
            "loss: -34.08:  40%|███▉      | 317/800 [01:35<02:28,  3.25it/s]\u001b[A\n",
            "loss: -34.08:  40%|███▉      | 318/800 [01:35<02:26,  3.29it/s]\u001b[A\n",
            "loss: -21.37:  40%|███▉      | 318/800 [01:36<02:26,  3.29it/s]\u001b[A\n",
            "loss: -21.37:  40%|███▉      | 319/800 [01:36<02:25,  3.31it/s]\u001b[A\n",
            "loss: -23.32:  40%|███▉      | 319/800 [01:36<02:25,  3.31it/s]\u001b[A\n",
            "\n",
            "epochs:   0%|          | 0/1 [01:36<?, ?it/s]\n",
            "loss: -23.32:  40%|████      | 320/800 [01:36<02:23,  3.34it/s]\u001b[A\n",
            "loss: -22.57:  40%|████      | 320/800 [01:36<02:23,  3.34it/s]\u001b[A\n",
            "loss: -22.57:  40%|████      | 321/800 [01:36<02:26,  3.27it/s]\u001b[A"
          ]
        },
        {
          "output_type": "stream",
          "name": "stdout",
          "text": [
            "image updated at \"./a_dog_with_a_ball.000080.jpg\"\n"
          ]
        },
        {
          "output_type": "stream",
          "name": "stderr",
          "text": [
            "\n",
            "loss: -30.55:  40%|████      | 321/800 [01:37<02:26,  3.27it/s]\u001b[A\n",
            "loss: -30.55:  40%|████      | 322/800 [01:37<02:23,  3.33it/s]\u001b[A\n",
            "loss: -22.87:  40%|████      | 322/800 [01:37<02:23,  3.33it/s]\u001b[A\n",
            "loss: -22.87:  40%|████      | 323/800 [01:37<02:21,  3.37it/s]\u001b[A\n",
            "loss: -35.49:  40%|████      | 323/800 [01:37<02:21,  3.37it/s]\u001b[A\n",
            "\n",
            "epochs:   0%|          | 0/1 [01:37<?, ?it/s]\n",
            "loss: -35.49:  40%|████      | 324/800 [01:37<02:21,  3.37it/s]\u001b[A\n",
            "loss: -34.46:  40%|████      | 324/800 [01:37<02:21,  3.37it/s]\u001b[A\n",
            "loss: -34.46:  41%|████      | 325/800 [01:37<02:24,  3.28it/s]\u001b[A"
          ]
        },
        {
          "output_type": "stream",
          "name": "stdout",
          "text": [
            "image updated at \"./a_dog_with_a_ball.000081.jpg\"\n"
          ]
        },
        {
          "output_type": "stream",
          "name": "stderr",
          "text": [
            "\n",
            "loss: -35.87:  41%|████      | 325/800 [01:38<02:24,  3.28it/s]\u001b[A\n",
            "loss: -35.87:  41%|████      | 326/800 [01:38<02:23,  3.31it/s]\u001b[A\n",
            "loss: -27.79:  41%|████      | 326/800 [01:38<02:23,  3.31it/s]\u001b[A\n",
            "loss: -27.79:  41%|████      | 327/800 [01:38<02:21,  3.35it/s]\u001b[A\n",
            "loss: -24.37:  41%|████      | 327/800 [01:38<02:21,  3.35it/s]\u001b[A\n",
            "\n",
            "epochs:   0%|          | 0/1 [01:39<?, ?it/s]\n",
            "loss: -24.37:  41%|████      | 328/800 [01:39<02:20,  3.36it/s]\u001b[A\n",
            "loss: -34.71:  41%|████      | 328/800 [01:39<02:20,  3.36it/s]\u001b[A\n",
            "loss: -34.71:  41%|████      | 329/800 [01:39<02:25,  3.25it/s]\u001b[A"
          ]
        },
        {
          "output_type": "stream",
          "name": "stdout",
          "text": [
            "image updated at \"./a_dog_with_a_ball.000082.jpg\"\n"
          ]
        },
        {
          "output_type": "stream",
          "name": "stderr",
          "text": [
            "\n",
            "loss: -27.42:  41%|████      | 329/800 [01:39<02:25,  3.25it/s]\u001b[A\n",
            "loss: -27.42:  41%|████▏     | 330/800 [01:39<02:22,  3.29it/s]\u001b[A\n",
            "loss: -28.43:  41%|████▏     | 330/800 [01:39<02:22,  3.29it/s]\u001b[A\n",
            "loss: -28.43:  41%|████▏     | 331/800 [01:39<02:20,  3.34it/s]\u001b[A\n",
            "loss: -28.79:  41%|████▏     | 331/800 [01:40<02:20,  3.34it/s]\u001b[A\n",
            "\n",
            "epochs:   0%|          | 0/1 [01:40<?, ?it/s]\n",
            "loss: -28.79:  42%|████▏     | 332/800 [01:40<02:19,  3.34it/s]\u001b[A\n",
            "loss: -27.84:  42%|████▏     | 332/800 [01:40<02:19,  3.34it/s]\u001b[A\n",
            "loss: -27.84:  42%|████▏     | 333/800 [01:40<02:23,  3.25it/s]\u001b[A"
          ]
        },
        {
          "output_type": "stream",
          "name": "stdout",
          "text": [
            "image updated at \"./a_dog_with_a_ball.000083.jpg\"\n"
          ]
        },
        {
          "output_type": "stream",
          "name": "stderr",
          "text": [
            "\n",
            "loss: -29.41:  42%|████▏     | 333/800 [01:40<02:23,  3.25it/s]\u001b[A\n",
            "loss: -29.41:  42%|████▏     | 334/800 [01:40<02:21,  3.29it/s]\u001b[A\n",
            "loss: -23.76:  42%|████▏     | 334/800 [01:40<02:21,  3.29it/s]\u001b[A\n",
            "loss: -23.76:  42%|████▏     | 335/800 [01:40<02:19,  3.34it/s]\u001b[A\n",
            "loss: -28.16:  42%|████▏     | 335/800 [01:41<02:19,  3.34it/s]\u001b[A\n",
            "\n",
            "epochs:   0%|          | 0/1 [01:41<?, ?it/s]\n",
            "loss: -28.16:  42%|████▏     | 336/800 [01:41<02:18,  3.35it/s]\u001b[A\n",
            "loss: -29.00:  42%|████▏     | 336/800 [01:41<02:18,  3.35it/s]\u001b[A\n",
            "loss: -29.00:  42%|████▏     | 337/800 [01:41<02:20,  3.30it/s]\u001b[A"
          ]
        },
        {
          "output_type": "stream",
          "name": "stdout",
          "text": [
            "image updated at \"./a_dog_with_a_ball.000084.jpg\"\n"
          ]
        },
        {
          "output_type": "stream",
          "name": "stderr",
          "text": [
            "\n",
            "loss: -34.69:  42%|████▏     | 337/800 [01:41<02:20,  3.30it/s]\u001b[A\n",
            "loss: -34.69:  42%|████▏     | 338/800 [01:41<02:18,  3.35it/s]\u001b[A\n",
            "loss: -31.33:  42%|████▏     | 338/800 [01:42<02:18,  3.35it/s]\u001b[A\n",
            "loss: -31.33:  42%|████▏     | 339/800 [01:42<02:16,  3.37it/s]\u001b[A\n",
            "loss: -29.65:  42%|████▏     | 339/800 [01:42<02:16,  3.37it/s]\u001b[A\n",
            "\n",
            "epochs:   0%|          | 0/1 [01:42<?, ?it/s]\n",
            "loss: -29.65:  42%|████▎     | 340/800 [01:42<02:16,  3.37it/s]\u001b[A\n",
            "loss: -31.26:  42%|████▎     | 340/800 [01:42<02:16,  3.37it/s]\u001b[A\n",
            "loss: -31.26:  43%|████▎     | 341/800 [01:42<02:20,  3.28it/s]\u001b[A"
          ]
        },
        {
          "output_type": "stream",
          "name": "stdout",
          "text": [
            "image updated at \"./a_dog_with_a_ball.000085.jpg\"\n"
          ]
        },
        {
          "output_type": "stream",
          "name": "stderr",
          "text": [
            "\n",
            "loss: -35.37:  43%|████▎     | 341/800 [01:43<02:20,  3.28it/s]\u001b[A\n",
            "loss: -35.37:  43%|████▎     | 342/800 [01:43<02:18,  3.31it/s]\u001b[A\n",
            "loss: -30.46:  43%|████▎     | 342/800 [01:43<02:18,  3.31it/s]\u001b[A\n",
            "loss: -30.46:  43%|████▎     | 343/800 [01:43<02:16,  3.34it/s]\u001b[A\n",
            "loss: -35.05:  43%|████▎     | 343/800 [01:43<02:16,  3.34it/s]\u001b[A\n",
            "\n",
            "epochs:   0%|          | 0/1 [01:44<?, ?it/s]\n",
            "loss: -35.05:  43%|████▎     | 344/800 [01:44<02:16,  3.33it/s]\u001b[A\n",
            "loss: -35.04:  43%|████▎     | 344/800 [01:44<02:16,  3.33it/s]\u001b[A\n",
            "loss: -35.04:  43%|████▎     | 345/800 [01:44<02:21,  3.22it/s]\u001b[A"
          ]
        },
        {
          "output_type": "stream",
          "name": "stdout",
          "text": [
            "image updated at \"./a_dog_with_a_ball.000086.jpg\"\n"
          ]
        },
        {
          "output_type": "stream",
          "name": "stderr",
          "text": [
            "\n",
            "loss: -34.21:  43%|████▎     | 345/800 [01:44<02:21,  3.22it/s]\u001b[A\n",
            "loss: -34.21:  43%|████▎     | 346/800 [01:44<02:19,  3.26it/s]\u001b[A\n",
            "loss: -27.82:  43%|████▎     | 346/800 [01:44<02:19,  3.26it/s]\u001b[A\n",
            "loss: -27.82:  43%|████▎     | 347/800 [01:44<02:17,  3.30it/s]\u001b[A\n",
            "loss: -29.54:  43%|████▎     | 347/800 [01:44<02:17,  3.30it/s]\u001b[A\n",
            "\n",
            "epochs:   0%|          | 0/1 [01:45<?, ?it/s]\n",
            "loss: -29.54:  44%|████▎     | 348/800 [01:45<02:16,  3.32it/s]\u001b[A\n",
            "loss: -31.92:  44%|████▎     | 348/800 [01:45<02:16,  3.32it/s]\u001b[A\n",
            "loss: -31.92:  44%|████▎     | 349/800 [01:45<02:19,  3.24it/s]\u001b[A"
          ]
        },
        {
          "output_type": "stream",
          "name": "stdout",
          "text": [
            "image updated at \"./a_dog_with_a_ball.000087.jpg\"\n"
          ]
        },
        {
          "output_type": "stream",
          "name": "stderr",
          "text": [
            "\n",
            "loss: -26.86:  44%|████▎     | 349/800 [01:45<02:19,  3.24it/s]\u001b[A\n",
            "loss: -26.86:  44%|████▍     | 350/800 [01:45<02:16,  3.31it/s]\u001b[A\n",
            "loss: -36.16:  44%|████▍     | 350/800 [01:45<02:16,  3.31it/s]\u001b[A\n",
            "loss: -36.16:  44%|████▍     | 351/800 [01:45<02:14,  3.35it/s]\u001b[A\n",
            "loss: -36.14:  44%|████▍     | 351/800 [01:46<02:14,  3.35it/s]\u001b[A\n",
            "\n",
            "epochs:   0%|          | 0/1 [01:46<?, ?it/s]\n",
            "loss: -36.14:  44%|████▍     | 352/800 [01:46<02:13,  3.36it/s]\u001b[A\n",
            "loss: -36.25:  44%|████▍     | 352/800 [01:46<02:13,  3.36it/s]\u001b[A\n",
            "loss: -36.25:  44%|████▍     | 353/800 [01:46<02:18,  3.24it/s]\u001b[A"
          ]
        },
        {
          "output_type": "stream",
          "name": "stdout",
          "text": [
            "image updated at \"./a_dog_with_a_ball.000088.jpg\"\n"
          ]
        },
        {
          "output_type": "stream",
          "name": "stderr",
          "text": [
            "\n",
            "loss: -36.43:  44%|████▍     | 353/800 [01:46<02:18,  3.24it/s]\u001b[A\n",
            "loss: -36.43:  44%|████▍     | 354/800 [01:46<02:15,  3.29it/s]\u001b[A\n",
            "loss: -32.50:  44%|████▍     | 354/800 [01:47<02:15,  3.29it/s]\u001b[A\n",
            "loss: -32.50:  44%|████▍     | 355/800 [01:47<02:16,  3.27it/s]\u001b[A\n",
            "loss: -20.28:  44%|████▍     | 355/800 [01:47<02:16,  3.27it/s]\u001b[A\n",
            "\n",
            "epochs:   0%|          | 0/1 [01:47<?, ?it/s]\n",
            "loss: -20.28:  44%|████▍     | 356/800 [01:47<02:13,  3.31it/s]\u001b[A\n",
            "loss: -31.29:  44%|████▍     | 356/800 [01:47<02:13,  3.31it/s]\u001b[A\n",
            "loss: -31.29:  45%|████▍     | 357/800 [01:47<02:15,  3.26it/s]\u001b[A"
          ]
        },
        {
          "output_type": "stream",
          "name": "stdout",
          "text": [
            "image updated at \"./a_dog_with_a_ball.000089.jpg\"\n"
          ]
        },
        {
          "output_type": "stream",
          "name": "stderr",
          "text": [
            "\n",
            "loss: -34.40:  45%|████▍     | 357/800 [01:47<02:15,  3.26it/s]\u001b[A\n",
            "loss: -34.40:  45%|████▍     | 358/800 [01:47<02:15,  3.27it/s]\u001b[A\n",
            "loss: -20.69:  45%|████▍     | 358/800 [01:48<02:15,  3.27it/s]\u001b[A\n",
            "loss: -20.69:  45%|████▍     | 359/800 [01:48<02:12,  3.33it/s]\u001b[A\n",
            "loss: -33.17:  45%|████▍     | 359/800 [01:48<02:12,  3.33it/s]\u001b[A\n",
            "\n",
            "epochs:   0%|          | 0/1 [01:48<?, ?it/s]\n",
            "loss: -33.17:  45%|████▌     | 360/800 [01:48<02:11,  3.34it/s]\u001b[A\n",
            "loss: -31.77:  45%|████▌     | 360/800 [01:48<02:11,  3.34it/s]\u001b[A\n",
            "loss: -31.77:  45%|████▌     | 361/800 [01:48<02:14,  3.26it/s]\u001b[A"
          ]
        },
        {
          "output_type": "stream",
          "name": "stdout",
          "text": [
            "image updated at \"./a_dog_with_a_ball.000090.jpg\"\n"
          ]
        },
        {
          "output_type": "stream",
          "name": "stderr",
          "text": [
            "\n",
            "loss: -35.57:  45%|████▌     | 361/800 [01:49<02:14,  3.26it/s]\u001b[A\n",
            "loss: -35.57:  45%|████▌     | 362/800 [01:49<02:12,  3.31it/s]\u001b[A\n",
            "loss: -25.99:  45%|████▌     | 362/800 [01:49<02:12,  3.31it/s]\u001b[A\n",
            "loss: -25.99:  45%|████▌     | 363/800 [01:49<02:10,  3.36it/s]\u001b[A\n",
            "loss: -33.56:  45%|████▌     | 363/800 [01:49<02:10,  3.36it/s]\u001b[A\n",
            "\n",
            "epochs:   0%|          | 0/1 [01:50<?, ?it/s]\n",
            "loss: -33.56:  46%|████▌     | 364/800 [01:50<02:10,  3.35it/s]\u001b[A\n",
            "loss: -34.54:  46%|████▌     | 364/800 [01:50<02:10,  3.35it/s]\u001b[A\n",
            "loss: -34.54:  46%|████▌     | 365/800 [01:50<02:11,  3.30it/s]\u001b[A"
          ]
        },
        {
          "output_type": "stream",
          "name": "stdout",
          "text": [
            "image updated at \"./a_dog_with_a_ball.000091.jpg\"\n"
          ]
        },
        {
          "output_type": "stream",
          "name": "stderr",
          "text": [
            "\n",
            "loss: -23.09:  46%|████▌     | 365/800 [01:50<02:11,  3.30it/s]\u001b[A\n",
            "loss: -23.09:  46%|████▌     | 366/800 [01:50<02:09,  3.35it/s]\u001b[A\n",
            "loss: -31.05:  46%|████▌     | 366/800 [01:50<02:09,  3.35it/s]\u001b[A\n",
            "loss: -31.05:  46%|████▌     | 367/800 [01:50<02:08,  3.37it/s]\u001b[A\n",
            "loss: -22.81:  46%|████▌     | 367/800 [01:50<02:08,  3.37it/s]\u001b[A\n",
            "\n",
            "epochs:   0%|          | 0/1 [01:51<?, ?it/s]\n",
            "loss: -22.81:  46%|████▌     | 368/800 [01:51<02:07,  3.38it/s]\u001b[A\n",
            "loss: -32.17:  46%|████▌     | 368/800 [01:51<02:07,  3.38it/s]\u001b[A\n",
            "loss: -32.17:  46%|████▌     | 369/800 [01:51<02:09,  3.33it/s]\u001b[A"
          ]
        },
        {
          "output_type": "stream",
          "name": "stdout",
          "text": [
            "image updated at \"./a_dog_with_a_ball.000092.jpg\"\n"
          ]
        },
        {
          "output_type": "stream",
          "name": "stderr",
          "text": [
            "\n",
            "loss: -34.11:  46%|████▌     | 369/800 [01:51<02:09,  3.33it/s]\u001b[A\n",
            "loss: -34.11:  46%|████▋     | 370/800 [01:51<02:07,  3.36it/s]\u001b[A\n",
            "loss: -33.44:  46%|████▋     | 370/800 [01:51<02:07,  3.36it/s]\u001b[A\n",
            "loss: -33.44:  46%|████▋     | 371/800 [01:51<02:07,  3.36it/s]\u001b[A\n",
            "loss: -19.96:  46%|████▋     | 371/800 [01:52<02:07,  3.36it/s]\u001b[A\n",
            "\n",
            "epochs:   0%|          | 0/1 [01:52<?, ?it/s]\n",
            "loss: -19.96:  46%|████▋     | 372/800 [01:52<02:07,  3.36it/s]\u001b[A\n",
            "loss: -35.13:  46%|████▋     | 372/800 [01:52<02:07,  3.36it/s]\u001b[A\n",
            "loss: -35.13:  47%|████▋     | 373/800 [01:52<02:10,  3.26it/s]\u001b[A"
          ]
        },
        {
          "output_type": "stream",
          "name": "stdout",
          "text": [
            "image updated at \"./a_dog_with_a_ball.000093.jpg\"\n"
          ]
        },
        {
          "output_type": "stream",
          "name": "stderr",
          "text": [
            "\n",
            "loss: -24.63:  47%|████▋     | 373/800 [01:52<02:10,  3.26it/s]\u001b[A\n",
            "loss: -24.63:  47%|████▋     | 374/800 [01:52<02:09,  3.30it/s]\u001b[A\n",
            "loss: -35.62:  47%|████▋     | 374/800 [01:53<02:09,  3.30it/s]\u001b[A\n",
            "loss: -35.62:  47%|████▋     | 375/800 [01:53<02:08,  3.30it/s]\u001b[A\n",
            "loss: -34.79:  47%|████▋     | 375/800 [01:53<02:08,  3.30it/s]\u001b[A\n",
            "\n",
            "epochs:   0%|          | 0/1 [01:53<?, ?it/s]\n",
            "loss: -34.79:  47%|████▋     | 376/800 [01:53<02:07,  3.33it/s]\u001b[A\n",
            "loss: -20.56:  47%|████▋     | 376/800 [01:53<02:07,  3.33it/s]\u001b[A\n",
            "loss: -20.56:  47%|████▋     | 377/800 [01:53<02:07,  3.31it/s]\u001b[A"
          ]
        },
        {
          "output_type": "stream",
          "name": "stdout",
          "text": [
            "image updated at \"./a_dog_with_a_ball.000094.jpg\"\n"
          ]
        },
        {
          "output_type": "stream",
          "name": "stderr",
          "text": [
            "\n",
            "loss: -20.62:  47%|████▋     | 377/800 [01:53<02:07,  3.31it/s]\u001b[A\n",
            "loss: -20.62:  47%|████▋     | 378/800 [01:53<02:05,  3.36it/s]\u001b[A\n",
            "loss: -22.42:  47%|████▋     | 378/800 [01:54<02:05,  3.36it/s]\u001b[A\n",
            "loss: -22.42:  47%|████▋     | 379/800 [01:54<02:04,  3.37it/s]\u001b[A\n",
            "loss: -25.14:  47%|████▋     | 379/800 [01:54<02:04,  3.37it/s]\u001b[A\n",
            "\n",
            "epochs:   0%|          | 0/1 [01:54<?, ?it/s]\n",
            "loss: -25.14:  48%|████▊     | 380/800 [01:54<02:04,  3.39it/s]\u001b[A\n",
            "loss: -31.19:  48%|████▊     | 380/800 [01:54<02:04,  3.39it/s]\u001b[A\n",
            "loss: -31.19:  48%|████▊     | 381/800 [01:54<02:06,  3.32it/s]\u001b[A"
          ]
        },
        {
          "output_type": "stream",
          "name": "stdout",
          "text": [
            "image updated at \"./a_dog_with_a_ball.000095.jpg\"\n"
          ]
        },
        {
          "output_type": "stream",
          "name": "stderr",
          "text": [
            "\n",
            "loss: -31.91:  48%|████▊     | 381/800 [01:55<02:06,  3.32it/s]\u001b[A\n",
            "loss: -31.91:  48%|████▊     | 382/800 [01:55<02:03,  3.37it/s]\u001b[A\n",
            "loss: -35.27:  48%|████▊     | 382/800 [01:55<02:03,  3.37it/s]\u001b[A\n",
            "loss: -35.27:  48%|████▊     | 383/800 [01:55<02:03,  3.37it/s]\u001b[A\n",
            "loss: -35.77:  48%|████▊     | 383/800 [01:55<02:03,  3.37it/s]\u001b[A\n",
            "\n",
            "epochs:   0%|          | 0/1 [01:56<?, ?it/s]\n",
            "loss: -35.77:  48%|████▊     | 384/800 [01:56<02:02,  3.39it/s]\u001b[A\n",
            "loss: -34.94:  48%|████▊     | 384/800 [01:56<02:02,  3.39it/s]\u001b[A\n",
            "loss: -34.94:  48%|████▊     | 385/800 [01:56<02:05,  3.30it/s]\u001b[A"
          ]
        },
        {
          "output_type": "stream",
          "name": "stdout",
          "text": [
            "image updated at \"./a_dog_with_a_ball.000096.jpg\"\n"
          ]
        },
        {
          "output_type": "stream",
          "name": "stderr",
          "text": [
            "\n",
            "loss: -20.53:  48%|████▊     | 385/800 [01:56<02:05,  3.30it/s]\u001b[A\n",
            "loss: -20.53:  48%|████▊     | 386/800 [01:56<02:03,  3.35it/s]\u001b[A\n",
            "loss: -34.96:  48%|████▊     | 386/800 [01:56<02:03,  3.35it/s]\u001b[A\n",
            "loss: -34.96:  48%|████▊     | 387/800 [01:56<02:02,  3.38it/s]\u001b[A\n",
            "loss: -32.11:  48%|████▊     | 387/800 [01:56<02:02,  3.38it/s]\u001b[A\n",
            "\n",
            "epochs:   0%|          | 0/1 [01:57<?, ?it/s]\n",
            "loss: -32.11:  48%|████▊     | 388/800 [01:57<02:01,  3.39it/s]\u001b[A\n",
            "loss: -34.61:  48%|████▊     | 388/800 [01:57<02:01,  3.39it/s]\u001b[A\n",
            "loss: -34.61:  49%|████▊     | 389/800 [01:57<02:05,  3.28it/s]\u001b[A"
          ]
        },
        {
          "output_type": "stream",
          "name": "stdout",
          "text": [
            "image updated at \"./a_dog_with_a_ball.000097.jpg\"\n"
          ]
        },
        {
          "output_type": "stream",
          "name": "stderr",
          "text": [
            "\n",
            "loss: -35.60:  49%|████▊     | 389/800 [01:57<02:05,  3.28it/s]\u001b[A\n",
            "loss: -35.60:  49%|████▉     | 390/800 [01:57<02:04,  3.30it/s]\u001b[A\n",
            "loss: -21.69:  49%|████▉     | 390/800 [01:57<02:04,  3.30it/s]\u001b[A\n",
            "loss: -21.69:  49%|████▉     | 391/800 [01:57<02:01,  3.35it/s]\u001b[A\n",
            "loss: -22.40:  49%|████▉     | 391/800 [01:58<02:01,  3.35it/s]\u001b[A\n",
            "\n",
            "epochs:   0%|          | 0/1 [01:58<?, ?it/s]\n",
            "loss: -22.40:  49%|████▉     | 392/800 [01:58<02:00,  3.38it/s]\u001b[A\n",
            "loss: -33.52:  49%|████▉     | 392/800 [01:58<02:00,  3.38it/s]\u001b[A\n",
            "loss: -33.52:  49%|████▉     | 393/800 [01:58<02:04,  3.27it/s]\u001b[A"
          ]
        },
        {
          "output_type": "stream",
          "name": "stdout",
          "text": [
            "image updated at \"./a_dog_with_a_ball.000098.jpg\"\n"
          ]
        },
        {
          "output_type": "stream",
          "name": "stderr",
          "text": [
            "\n",
            "loss: -23.94:  49%|████▉     | 393/800 [01:58<02:04,  3.27it/s]\u001b[A\n",
            "loss: -23.94:  49%|████▉     | 394/800 [01:58<02:02,  3.32it/s]\u001b[A\n",
            "loss: -31.45:  49%|████▉     | 394/800 [01:59<02:02,  3.32it/s]\u001b[A\n",
            "loss: -31.45:  49%|████▉     | 395/800 [01:59<02:00,  3.37it/s]\u001b[A\n",
            "loss: -35.78:  49%|████▉     | 395/800 [01:59<02:00,  3.37it/s]\u001b[A\n",
            "\n",
            "epochs:   0%|          | 0/1 [01:59<?, ?it/s]\n",
            "loss: -35.78:  50%|████▉     | 396/800 [01:59<01:59,  3.37it/s]\u001b[A\n",
            "loss: -30.49:  50%|████▉     | 396/800 [01:59<01:59,  3.37it/s]\u001b[A\n",
            "loss: -30.49:  50%|████▉     | 397/800 [01:59<02:02,  3.28it/s]\u001b[A"
          ]
        },
        {
          "output_type": "stream",
          "name": "stdout",
          "text": [
            "image updated at \"./a_dog_with_a_ball.000099.jpg\"\n"
          ]
        },
        {
          "output_type": "stream",
          "name": "stderr",
          "text": [
            "\n",
            "loss: -34.75:  50%|████▉     | 397/800 [01:59<02:02,  3.28it/s]\u001b[A\n",
            "loss: -34.75:  50%|████▉     | 398/800 [01:59<02:00,  3.33it/s]\u001b[A\n",
            "loss: -20.37:  50%|████▉     | 398/800 [02:00<02:00,  3.33it/s]\u001b[A\n",
            "loss: -20.37:  50%|████▉     | 399/800 [02:00<02:00,  3.34it/s]\u001b[A\n",
            "loss: -28.26:  50%|████▉     | 399/800 [02:00<02:00,  3.34it/s]\u001b[A\n",
            "\n",
            "epochs:   0%|          | 0/1 [02:00<?, ?it/s]\n",
            "loss: -28.26:  50%|█████     | 400/800 [02:00<01:59,  3.35it/s]\u001b[A\n",
            "loss: -35.09:  50%|█████     | 400/800 [02:00<01:59,  3.35it/s]\u001b[A\n",
            "loss: -35.09:  50%|█████     | 401/800 [02:00<02:01,  3.27it/s]\u001b[A"
          ]
        },
        {
          "output_type": "stream",
          "name": "stdout",
          "text": [
            "image updated at \"./a_dog_with_a_ball.000100.jpg\"\n"
          ]
        },
        {
          "output_type": "stream",
          "name": "stderr",
          "text": [
            "\n",
            "loss: -35.91:  50%|█████     | 401/800 [02:01<02:01,  3.27it/s]\u001b[A\n",
            "loss: -35.91:  50%|█████     | 402/800 [02:01<01:59,  3.32it/s]\u001b[A\n",
            "loss: -21.88:  50%|█████     | 402/800 [02:01<01:59,  3.32it/s]\u001b[A\n",
            "loss: -21.88:  50%|█████     | 403/800 [02:01<01:58,  3.36it/s]\u001b[A\n",
            "loss: -31.18:  50%|█████     | 403/800 [02:01<01:58,  3.36it/s]\u001b[A\n",
            "\n",
            "epochs:   0%|          | 0/1 [02:02<?, ?it/s]\n",
            "loss: -31.18:  50%|█████     | 404/800 [02:02<01:57,  3.37it/s]\u001b[A\n",
            "loss: -35.43:  50%|█████     | 404/800 [02:02<01:57,  3.37it/s]\u001b[A\n",
            "loss: -35.43:  51%|█████     | 405/800 [02:02<02:00,  3.28it/s]\u001b[A"
          ]
        },
        {
          "output_type": "stream",
          "name": "stdout",
          "text": [
            "image updated at \"./a_dog_with_a_ball.000101.jpg\"\n"
          ]
        },
        {
          "output_type": "stream",
          "name": "stderr",
          "text": [
            "\n",
            "loss: -36.38:  51%|█████     | 405/800 [02:02<02:00,  3.28it/s]\u001b[A\n",
            "loss: -36.38:  51%|█████     | 406/800 [02:02<01:58,  3.31it/s]\u001b[A\n",
            "loss: -35.93:  51%|█████     | 406/800 [02:02<01:58,  3.31it/s]\u001b[A\n",
            "loss: -35.93:  51%|█████     | 407/800 [02:02<01:58,  3.32it/s]\u001b[A\n",
            "loss: -33.47:  51%|█████     | 407/800 [02:02<01:58,  3.32it/s]\u001b[A\n",
            "\n",
            "epochs:   0%|          | 0/1 [02:03<?, ?it/s]\n",
            "loss: -33.47:  51%|█████     | 408/800 [02:03<01:56,  3.36it/s]\u001b[A\n",
            "loss: -34.95:  51%|█████     | 408/800 [02:03<01:56,  3.36it/s]\u001b[A\n",
            "loss: -34.95:  51%|█████     | 409/800 [02:03<01:59,  3.27it/s]\u001b[A"
          ]
        },
        {
          "output_type": "stream",
          "name": "stdout",
          "text": [
            "image updated at \"./a_dog_with_a_ball.000102.jpg\"\n"
          ]
        },
        {
          "output_type": "stream",
          "name": "stderr",
          "text": [
            "\n",
            "loss: -35.45:  51%|█████     | 409/800 [02:03<01:59,  3.27it/s]\u001b[A\n",
            "loss: -35.45:  51%|█████▏    | 410/800 [02:03<01:58,  3.30it/s]\u001b[A\n",
            "loss: -36.28:  51%|█████▏    | 410/800 [02:03<01:58,  3.30it/s]\u001b[A\n",
            "loss: -36.28:  51%|█████▏    | 411/800 [02:03<01:57,  3.31it/s]\u001b[A\n",
            "loss: -36.50:  51%|█████▏    | 411/800 [02:04<01:57,  3.31it/s]\u001b[A\n",
            "\n",
            "epochs:   0%|          | 0/1 [02:04<?, ?it/s]\n",
            "loss: -36.50:  52%|█████▏    | 412/800 [02:04<01:57,  3.30it/s]\u001b[A\n",
            "loss: -35.36:  52%|█████▏    | 412/800 [02:04<01:57,  3.30it/s]\u001b[A\n",
            "loss: -35.36:  52%|█████▏    | 413/800 [02:04<01:59,  3.23it/s]\u001b[A"
          ]
        },
        {
          "output_type": "stream",
          "name": "stdout",
          "text": [
            "image updated at \"./a_dog_with_a_ball.000103.jpg\"\n"
          ]
        },
        {
          "output_type": "stream",
          "name": "stderr",
          "text": [
            "\n",
            "loss: -35.56:  52%|█████▏    | 413/800 [02:04<01:59,  3.23it/s]\u001b[A\n",
            "loss: -35.56:  52%|█████▏    | 414/800 [02:04<01:57,  3.27it/s]\u001b[A\n",
            "loss: -36.55:  52%|█████▏    | 414/800 [02:05<01:57,  3.27it/s]\u001b[A\n",
            "loss: -36.55:  52%|█████▏    | 415/800 [02:05<01:57,  3.28it/s]\u001b[A\n",
            "loss: -36.85:  52%|█████▏    | 415/800 [02:05<01:57,  3.28it/s]\u001b[A\n",
            "\n",
            "epochs:   0%|          | 0/1 [02:05<?, ?it/s]\n",
            "loss: -36.85:  52%|█████▏    | 416/800 [02:05<01:56,  3.29it/s]\u001b[A\n",
            "loss: -36.71:  52%|█████▏    | 416/800 [02:05<01:56,  3.29it/s]\u001b[A\n",
            "loss: -36.71:  52%|█████▏    | 417/800 [02:05<02:00,  3.18it/s]\u001b[A"
          ]
        },
        {
          "output_type": "stream",
          "name": "stdout",
          "text": [
            "image updated at \"./a_dog_with_a_ball.000104.jpg\"\n"
          ]
        },
        {
          "output_type": "stream",
          "name": "stderr",
          "text": [
            "\n",
            "loss: -19.39:  52%|█████▏    | 417/800 [02:06<02:00,  3.18it/s]\u001b[A\n",
            "loss: -19.39:  52%|█████▏    | 418/800 [02:06<01:58,  3.23it/s]\u001b[A\n",
            "loss: -31.89:  52%|█████▏    | 418/800 [02:06<01:58,  3.23it/s]\u001b[A\n",
            "loss: -31.89:  52%|█████▏    | 419/800 [02:06<01:57,  3.25it/s]\u001b[A\n",
            "loss: -20.93:  52%|█████▏    | 419/800 [02:06<01:57,  3.25it/s]\u001b[A\n",
            "\n",
            "epochs:   0%|          | 0/1 [02:06<?, ?it/s]\n",
            "loss: -20.93:  52%|█████▎    | 420/800 [02:06<01:55,  3.28it/s]\u001b[A\n",
            "loss: -22.64:  52%|█████▎    | 420/800 [02:06<01:55,  3.28it/s]\u001b[A\n",
            "loss: -22.64:  53%|█████▎    | 421/800 [02:06<01:58,  3.20it/s]\u001b[A"
          ]
        },
        {
          "output_type": "stream",
          "name": "stdout",
          "text": [
            "image updated at \"./a_dog_with_a_ball.000105.jpg\"\n"
          ]
        },
        {
          "output_type": "stream",
          "name": "stderr",
          "text": [
            "\n",
            "loss: -30.47:  53%|█████▎    | 421/800 [02:07<01:58,  3.20it/s]\u001b[A\n",
            "loss: -30.47:  53%|█████▎    | 422/800 [02:07<01:55,  3.28it/s]\u001b[A\n",
            "loss: -32.61:  53%|█████▎    | 422/800 [02:07<01:55,  3.28it/s]\u001b[A\n",
            "loss: -32.61:  53%|█████▎    | 423/800 [02:07<01:53,  3.32it/s]\u001b[A\n",
            "loss: -24.24:  53%|█████▎    | 423/800 [02:07<01:53,  3.32it/s]\u001b[A\n",
            "\n",
            "epochs:   0%|          | 0/1 [02:08<?, ?it/s]\n",
            "loss: -24.24:  53%|█████▎    | 424/800 [02:08<01:52,  3.33it/s]\u001b[A\n",
            "loss: -30.93:  53%|█████▎    | 424/800 [02:08<01:52,  3.33it/s]\u001b[A\n",
            "loss: -30.93:  53%|█████▎    | 425/800 [02:08<01:55,  3.25it/s]\u001b[A"
          ]
        },
        {
          "output_type": "stream",
          "name": "stdout",
          "text": [
            "image updated at \"./a_dog_with_a_ball.000106.jpg\"\n"
          ]
        },
        {
          "output_type": "stream",
          "name": "stderr",
          "text": [
            "\n",
            "loss: -36.10:  53%|█████▎    | 425/800 [02:08<01:55,  3.25it/s]\u001b[A\n",
            "loss: -36.10:  53%|█████▎    | 426/800 [02:08<01:52,  3.32it/s]\u001b[A\n",
            "loss: -34.30:  53%|█████▎    | 426/800 [02:08<01:52,  3.32it/s]\u001b[A\n",
            "loss: -34.30:  53%|█████▎    | 427/800 [02:08<01:51,  3.34it/s]\u001b[A\n",
            "loss: -36.27:  53%|█████▎    | 427/800 [02:09<01:51,  3.34it/s]\u001b[A\n",
            "\n",
            "epochs:   0%|          | 0/1 [02:09<?, ?it/s]\n",
            "loss: -36.27:  54%|█████▎    | 428/800 [02:09<01:51,  3.33it/s]\u001b[A\n",
            "loss: -33.99:  54%|█████▎    | 428/800 [02:09<01:51,  3.33it/s]\u001b[A\n",
            "loss: -33.99:  54%|█████▎    | 429/800 [02:09<01:53,  3.26it/s]\u001b[A"
          ]
        },
        {
          "output_type": "stream",
          "name": "stdout",
          "text": [
            "image updated at \"./a_dog_with_a_ball.000107.jpg\"\n"
          ]
        },
        {
          "output_type": "stream",
          "name": "stderr",
          "text": [
            "\n",
            "loss: -28.55:  54%|█████▎    | 429/800 [02:09<01:53,  3.26it/s]\u001b[A\n",
            "loss: -28.55:  54%|█████▍    | 430/800 [02:09<01:51,  3.32it/s]\u001b[A\n",
            "loss: -35.54:  54%|█████▍    | 430/800 [02:09<01:51,  3.32it/s]\u001b[A\n",
            "loss: -35.54:  54%|█████▍    | 431/800 [02:09<01:51,  3.32it/s]\u001b[A\n",
            "loss: -22.67:  54%|█████▍    | 431/800 [02:10<01:51,  3.32it/s]\u001b[A\n",
            "\n",
            "epochs:   0%|          | 0/1 [02:10<?, ?it/s]\n",
            "loss: -22.67:  54%|█████▍    | 432/800 [02:10<01:50,  3.33it/s]\u001b[A\n",
            "loss: -35.15:  54%|█████▍    | 432/800 [02:10<01:50,  3.33it/s]\u001b[A\n",
            "loss: -35.15:  54%|█████▍    | 433/800 [02:10<01:52,  3.27it/s]\u001b[A"
          ]
        },
        {
          "output_type": "stream",
          "name": "stdout",
          "text": [
            "image updated at \"./a_dog_with_a_ball.000108.jpg\"\n"
          ]
        },
        {
          "output_type": "stream",
          "name": "stderr",
          "text": [
            "\n",
            "loss: -33.88:  54%|█████▍    | 433/800 [02:10<01:52,  3.27it/s]\u001b[A\n",
            "loss: -33.88:  54%|█████▍    | 434/800 [02:10<01:50,  3.31it/s]\u001b[A\n",
            "loss: -34.20:  54%|█████▍    | 434/800 [02:11<01:50,  3.31it/s]\u001b[A\n",
            "loss: -34.20:  54%|█████▍    | 435/800 [02:11<01:49,  3.33it/s]\u001b[A\n",
            "loss: -36.02:  54%|█████▍    | 435/800 [02:11<01:49,  3.33it/s]\u001b[A\n",
            "\n",
            "epochs:   0%|          | 0/1 [02:11<?, ?it/s]\n",
            "loss: -36.02:  55%|█████▍    | 436/800 [02:11<01:50,  3.30it/s]\u001b[A\n",
            "loss: -36.36:  55%|█████▍    | 436/800 [02:11<01:50,  3.30it/s]\u001b[A\n",
            "loss: -36.36:  55%|█████▍    | 437/800 [02:11<01:52,  3.23it/s]\u001b[A"
          ]
        },
        {
          "output_type": "stream",
          "name": "stdout",
          "text": [
            "image updated at \"./a_dog_with_a_ball.000109.jpg\"\n"
          ]
        },
        {
          "output_type": "stream",
          "name": "stderr",
          "text": [
            "\n",
            "loss: -21.05:  55%|█████▍    | 437/800 [02:12<01:52,  3.23it/s]\u001b[A\n",
            "loss: -21.05:  55%|█████▍    | 438/800 [02:12<01:49,  3.29it/s]\u001b[A\n",
            "loss: -36.92:  55%|█████▍    | 438/800 [02:12<01:49,  3.29it/s]\u001b[A\n",
            "loss: -36.92:  55%|█████▍    | 439/800 [02:12<01:48,  3.33it/s]\u001b[A\n",
            "loss: -26.76:  55%|█████▍    | 439/800 [02:12<01:48,  3.33it/s]\u001b[A\n",
            "\n",
            "epochs:   0%|          | 0/1 [02:12<?, ?it/s]\n",
            "loss: -26.76:  55%|█████▌    | 440/800 [02:12<01:47,  3.35it/s]\u001b[A\n",
            "loss: -35.24:  55%|█████▌    | 440/800 [02:12<01:47,  3.35it/s]\u001b[A\n",
            "loss: -35.24:  55%|█████▌    | 441/800 [02:13<01:50,  3.24it/s]\u001b[A"
          ]
        },
        {
          "output_type": "stream",
          "name": "stdout",
          "text": [
            "image updated at \"./a_dog_with_a_ball.000110.jpg\"\n"
          ]
        },
        {
          "output_type": "stream",
          "name": "stderr",
          "text": [
            "\n",
            "loss: -35.00:  55%|█████▌    | 441/800 [02:13<01:50,  3.24it/s]\u001b[A\n",
            "loss: -35.00:  55%|█████▌    | 442/800 [02:13<01:48,  3.29it/s]\u001b[A\n",
            "loss: -24.45:  55%|█████▌    | 442/800 [02:13<01:48,  3.29it/s]\u001b[A\n",
            "loss: -24.45:  55%|█████▌    | 443/800 [02:13<01:47,  3.33it/s]\u001b[A\n",
            "loss: -31.88:  55%|█████▌    | 443/800 [02:13<01:47,  3.33it/s]\u001b[A\n",
            "\n",
            "epochs:   0%|          | 0/1 [02:14<?, ?it/s]\n",
            "loss: -31.88:  56%|█████▌    | 444/800 [02:14<01:46,  3.35it/s]\u001b[A\n",
            "loss: -36.18:  56%|█████▌    | 444/800 [02:14<01:46,  3.35it/s]\u001b[A\n",
            "loss: -36.18:  56%|█████▌    | 445/800 [02:14<01:49,  3.23it/s]\u001b[A"
          ]
        },
        {
          "output_type": "stream",
          "name": "stdout",
          "text": [
            "image updated at \"./a_dog_with_a_ball.000111.jpg\"\n"
          ]
        },
        {
          "output_type": "stream",
          "name": "stderr",
          "text": [
            "\n",
            "loss: -22.86:  56%|█████▌    | 445/800 [02:14<01:49,  3.23it/s]\u001b[A\n",
            "loss: -22.86:  56%|█████▌    | 446/800 [02:14<01:48,  3.25it/s]\u001b[A\n",
            "loss: -36.35:  56%|█████▌    | 446/800 [02:14<01:48,  3.25it/s]\u001b[A\n",
            "loss: -36.35:  56%|█████▌    | 447/800 [02:14<01:47,  3.29it/s]\u001b[A\n",
            "loss: -35.06:  56%|█████▌    | 447/800 [02:15<01:47,  3.29it/s]\u001b[A\n",
            "\n",
            "epochs:   0%|          | 0/1 [02:15<?, ?it/s]\n",
            "loss: -35.06:  56%|█████▌    | 448/800 [02:15<01:46,  3.32it/s]\u001b[A\n",
            "loss: -34.84:  56%|█████▌    | 448/800 [02:15<01:46,  3.32it/s]\u001b[A\n",
            "loss: -34.84:  56%|█████▌    | 449/800 [02:15<01:48,  3.24it/s]\u001b[A"
          ]
        },
        {
          "output_type": "stream",
          "name": "stdout",
          "text": [
            "image updated at \"./a_dog_with_a_ball.000112.jpg\"\n"
          ]
        },
        {
          "output_type": "stream",
          "name": "stderr",
          "text": [
            "\n",
            "loss: -36.51:  56%|█████▌    | 449/800 [02:15<01:48,  3.24it/s]\u001b[A\n",
            "loss: -36.51:  56%|█████▋    | 450/800 [02:15<01:46,  3.29it/s]\u001b[A\n",
            "loss: -36.53:  56%|█████▋    | 450/800 [02:16<01:46,  3.29it/s]\u001b[A\n",
            "loss: -36.53:  56%|█████▋    | 451/800 [02:16<01:46,  3.29it/s]\u001b[A\n",
            "loss: -36.79:  56%|█████▋    | 451/800 [02:16<01:46,  3.29it/s]\u001b[A\n",
            "\n",
            "epochs:   0%|          | 0/1 [02:16<?, ?it/s]\n",
            "loss: -36.79:  56%|█████▋    | 452/800 [02:16<01:44,  3.33it/s]\u001b[A\n",
            "loss: -20.24:  56%|█████▋    | 452/800 [02:16<01:44,  3.33it/s]\u001b[A\n",
            "loss: -20.24:  57%|█████▋    | 453/800 [02:16<01:47,  3.23it/s]\u001b[A"
          ]
        },
        {
          "output_type": "stream",
          "name": "stdout",
          "text": [
            "image updated at \"./a_dog_with_a_ball.000113.jpg\"\n"
          ]
        },
        {
          "output_type": "stream",
          "name": "stderr",
          "text": [
            "\n",
            "loss: -35.37:  57%|█████▋    | 453/800 [02:16<01:47,  3.23it/s]\u001b[A\n",
            "loss: -35.37:  57%|█████▋    | 454/800 [02:16<01:44,  3.30it/s]\u001b[A\n",
            "loss: -36.82:  57%|█████▋    | 454/800 [02:17<01:44,  3.30it/s]\u001b[A\n",
            "loss: -36.82:  57%|█████▋    | 455/800 [02:17<01:44,  3.30it/s]\u001b[A\n",
            "loss: -31.92:  57%|█████▋    | 455/800 [02:17<01:44,  3.30it/s]\u001b[A\n",
            "\n",
            "epochs:   0%|          | 0/1 [02:17<?, ?it/s]\n",
            "loss: -31.92:  57%|█████▋    | 456/800 [02:17<01:43,  3.32it/s]\u001b[A\n",
            "loss: -20.57:  57%|█████▋    | 456/800 [02:17<01:43,  3.32it/s]\u001b[A\n",
            "loss: -20.57:  57%|█████▋    | 457/800 [02:17<01:45,  3.25it/s]\u001b[A"
          ]
        },
        {
          "output_type": "stream",
          "name": "stdout",
          "text": [
            "image updated at \"./a_dog_with_a_ball.000114.jpg\"\n"
          ]
        },
        {
          "output_type": "stream",
          "name": "stderr",
          "text": [
            "\n",
            "loss: -26.18:  57%|█████▋    | 457/800 [02:18<01:45,  3.25it/s]\u001b[A\n",
            "loss: -26.18:  57%|█████▋    | 458/800 [02:18<01:43,  3.29it/s]\u001b[A\n",
            "loss: -36.91:  57%|█████▋    | 458/800 [02:18<01:43,  3.29it/s]\u001b[A\n",
            "loss: -36.91:  57%|█████▋    | 459/800 [02:18<01:42,  3.33it/s]\u001b[A\n",
            "loss: -36.92:  57%|█████▋    | 459/800 [02:18<01:42,  3.33it/s]\u001b[A\n",
            "\n",
            "epochs:   0%|          | 0/1 [02:19<?, ?it/s]\n",
            "loss: -36.92:  57%|█████▊    | 460/800 [02:19<01:41,  3.34it/s]\u001b[A\n",
            "loss: -37.33:  57%|█████▊    | 460/800 [02:19<01:41,  3.34it/s]\u001b[A\n",
            "loss: -37.33:  58%|█████▊    | 461/800 [02:19<01:43,  3.26it/s]\u001b[A"
          ]
        },
        {
          "output_type": "stream",
          "name": "stdout",
          "text": [
            "image updated at \"./a_dog_with_a_ball.000115.jpg\"\n"
          ]
        },
        {
          "output_type": "stream",
          "name": "stderr",
          "text": [
            "\n",
            "loss: -29.86:  58%|█████▊    | 461/800 [02:19<01:43,  3.26it/s]\u001b[A\n",
            "loss: -29.86:  58%|█████▊    | 462/800 [02:19<01:42,  3.31it/s]\u001b[A\n",
            "loss: -21.46:  58%|█████▊    | 462/800 [02:19<01:42,  3.31it/s]\u001b[A\n",
            "loss: -21.46:  58%|█████▊    | 463/800 [02:19<01:41,  3.32it/s]\u001b[A\n",
            "loss: -34.77:  58%|█████▊    | 463/800 [02:19<01:41,  3.32it/s]\u001b[A\n",
            "\n",
            "epochs:   0%|          | 0/1 [02:20<?, ?it/s]\n",
            "loss: -34.77:  58%|█████▊    | 464/800 [02:20<01:40,  3.36it/s]\u001b[A\n",
            "loss: -36.66:  58%|█████▊    | 464/800 [02:20<01:40,  3.36it/s]\u001b[A\n",
            "loss: -36.66:  58%|█████▊    | 465/800 [02:20<01:43,  3.23it/s]\u001b[A"
          ]
        },
        {
          "output_type": "stream",
          "name": "stdout",
          "text": [
            "image updated at \"./a_dog_with_a_ball.000116.jpg\"\n"
          ]
        },
        {
          "output_type": "stream",
          "name": "stderr",
          "text": [
            "\n",
            "loss: -37.20:  58%|█████▊    | 465/800 [02:20<01:43,  3.23it/s]\u001b[A\n",
            "loss: -37.20:  58%|█████▊    | 466/800 [02:20<01:41,  3.29it/s]\u001b[A\n",
            "loss: -33.96:  58%|█████▊    | 466/800 [02:20<01:41,  3.29it/s]\u001b[A\n",
            "loss: -33.96:  58%|█████▊    | 467/800 [02:20<01:40,  3.32it/s]\u001b[A\n",
            "loss: -26.26:  58%|█████▊    | 467/800 [02:21<01:40,  3.32it/s]\u001b[A\n",
            "\n",
            "epochs:   0%|          | 0/1 [02:21<?, ?it/s]\n",
            "loss: -26.26:  58%|█████▊    | 468/800 [02:21<01:39,  3.34it/s]\u001b[A\n",
            "loss: -36.99:  58%|█████▊    | 468/800 [02:21<01:39,  3.34it/s]\u001b[A\n",
            "loss: -36.99:  59%|█████▊    | 469/800 [02:21<01:42,  3.24it/s]\u001b[A"
          ]
        },
        {
          "output_type": "stream",
          "name": "stdout",
          "text": [
            "image updated at \"./a_dog_with_a_ball.000117.jpg\"\n"
          ]
        },
        {
          "output_type": "stream",
          "name": "stderr",
          "text": [
            "\n",
            "loss: -36.65:  59%|█████▊    | 469/800 [02:21<01:42,  3.24it/s]\u001b[A\n",
            "loss: -36.65:  59%|█████▉    | 470/800 [02:21<01:40,  3.28it/s]\u001b[A\n",
            "loss: -33.17:  59%|█████▉    | 470/800 [02:22<01:40,  3.28it/s]\u001b[A\n",
            "loss: -33.17:  59%|█████▉    | 471/800 [02:22<01:40,  3.28it/s]\u001b[A\n",
            "loss: -23.60:  59%|█████▉    | 471/800 [02:22<01:40,  3.28it/s]\u001b[A\n",
            "\n",
            "epochs:   0%|          | 0/1 [02:22<?, ?it/s]\n",
            "loss: -23.60:  59%|█████▉    | 472/800 [02:22<01:39,  3.31it/s]\u001b[A\n",
            "loss: -20.99:  59%|█████▉    | 472/800 [02:22<01:39,  3.31it/s]\u001b[A\n",
            "loss: -20.99:  59%|█████▉    | 473/800 [02:22<01:40,  3.25it/s]\u001b[A"
          ]
        },
        {
          "output_type": "stream",
          "name": "stdout",
          "text": [
            "image updated at \"./a_dog_with_a_ball.000118.jpg\"\n"
          ]
        },
        {
          "output_type": "stream",
          "name": "stderr",
          "text": [
            "\n",
            "loss: -32.87:  59%|█████▉    | 473/800 [02:23<01:40,  3.25it/s]\u001b[A\n",
            "loss: -32.87:  59%|█████▉    | 474/800 [02:23<01:38,  3.31it/s]\u001b[A\n",
            "loss: -23.38:  59%|█████▉    | 474/800 [02:23<01:38,  3.31it/s]\u001b[A\n",
            "loss: -23.38:  59%|█████▉    | 475/800 [02:23<01:37,  3.34it/s]\u001b[A\n",
            "loss: -20.63:  59%|█████▉    | 475/800 [02:23<01:37,  3.34it/s]\u001b[A\n",
            "\n",
            "epochs:   0%|          | 0/1 [02:23<?, ?it/s]\n",
            "loss: -20.63:  60%|█████▉    | 476/800 [02:23<01:36,  3.36it/s]\u001b[A\n",
            "loss: -36.76:  60%|█████▉    | 476/800 [02:23<01:36,  3.36it/s]\u001b[A\n",
            "loss: -36.76:  60%|█████▉    | 477/800 [02:23<01:39,  3.26it/s]\u001b[A"
          ]
        },
        {
          "output_type": "stream",
          "name": "stdout",
          "text": [
            "image updated at \"./a_dog_with_a_ball.000119.jpg\"\n"
          ]
        },
        {
          "output_type": "stream",
          "name": "stderr",
          "text": [
            "\n",
            "loss: -34.50:  60%|█████▉    | 477/800 [02:24<01:39,  3.26it/s]\u001b[A\n",
            "loss: -34.50:  60%|█████▉    | 478/800 [02:24<01:38,  3.28it/s]\u001b[A\n",
            "loss: -22.10:  60%|█████▉    | 478/800 [02:24<01:38,  3.28it/s]\u001b[A\n",
            "loss: -22.10:  60%|█████▉    | 479/800 [02:24<01:36,  3.34it/s]\u001b[A\n",
            "loss: -36.05:  60%|█████▉    | 479/800 [02:24<01:36,  3.34it/s]\u001b[A\n",
            "\n",
            "epochs:   0%|          | 0/1 [02:25<?, ?it/s]\n",
            "loss: -36.05:  60%|██████    | 480/800 [02:25<01:35,  3.35it/s]\u001b[A\n",
            "loss: -20.25:  60%|██████    | 480/800 [02:25<01:35,  3.35it/s]\u001b[A\n",
            "loss: -20.25:  60%|██████    | 481/800 [02:25<01:38,  3.25it/s]\u001b[A"
          ]
        },
        {
          "output_type": "stream",
          "name": "stdout",
          "text": [
            "image updated at \"./a_dog_with_a_ball.000120.jpg\"\n"
          ]
        },
        {
          "output_type": "stream",
          "name": "stderr",
          "text": [
            "\n",
            "loss: -35.85:  60%|██████    | 481/800 [02:25<01:38,  3.25it/s]\u001b[A\n",
            "loss: -35.85:  60%|██████    | 482/800 [02:25<01:36,  3.29it/s]\u001b[A\n",
            "loss: -36.35:  60%|██████    | 482/800 [02:25<01:36,  3.29it/s]\u001b[A\n",
            "loss: -36.35:  60%|██████    | 483/800 [02:25<01:35,  3.31it/s]\u001b[A\n",
            "loss: -37.55:  60%|██████    | 483/800 [02:26<01:35,  3.31it/s]\u001b[A\n",
            "\n",
            "epochs:   0%|          | 0/1 [02:26<?, ?it/s]\n",
            "loss: -37.55:  60%|██████    | 484/800 [02:26<01:34,  3.35it/s]\u001b[A\n",
            "loss: -36.11:  60%|██████    | 484/800 [02:26<01:34,  3.35it/s]\u001b[A\n",
            "loss: -36.11:  61%|██████    | 485/800 [02:26<01:35,  3.31it/s]\u001b[A"
          ]
        },
        {
          "output_type": "stream",
          "name": "stdout",
          "text": [
            "image updated at \"./a_dog_with_a_ball.000121.jpg\"\n"
          ]
        },
        {
          "output_type": "stream",
          "name": "stderr",
          "text": [
            "\n",
            "loss: -20.61:  61%|██████    | 485/800 [02:26<01:35,  3.31it/s]\u001b[A\n",
            "loss: -20.61:  61%|██████    | 486/800 [02:26<01:33,  3.36it/s]\u001b[A\n",
            "loss: -21.29:  61%|██████    | 486/800 [02:26<01:33,  3.36it/s]\u001b[A\n",
            "loss: -21.29:  61%|██████    | 487/800 [02:26<01:32,  3.38it/s]\u001b[A\n",
            "loss: -37.97:  61%|██████    | 487/800 [02:27<01:32,  3.38it/s]\u001b[A\n",
            "\n",
            "epochs:   0%|          | 0/1 [02:27<?, ?it/s]\n",
            "loss: -37.97:  61%|██████    | 488/800 [02:27<01:31,  3.40it/s]\u001b[A\n",
            "loss: -29.25:  61%|██████    | 488/800 [02:27<01:31,  3.40it/s]\u001b[A\n",
            "loss: -29.25:  61%|██████    | 489/800 [02:27<01:35,  3.27it/s]\u001b[A"
          ]
        },
        {
          "output_type": "stream",
          "name": "stdout",
          "text": [
            "image updated at \"./a_dog_with_a_ball.000122.jpg\"\n"
          ]
        },
        {
          "output_type": "stream",
          "name": "stderr",
          "text": [
            "\n",
            "loss: -26.44:  61%|██████    | 489/800 [02:27<01:35,  3.27it/s]\u001b[A\n",
            "loss: -26.44:  61%|██████▏   | 490/800 [02:27<01:33,  3.30it/s]\u001b[A\n",
            "loss: -35.47:  61%|██████▏   | 490/800 [02:28<01:33,  3.30it/s]\u001b[A\n",
            "loss: -35.47:  61%|██████▏   | 491/800 [02:28<01:33,  3.30it/s]\u001b[A\n",
            "loss: -36.05:  61%|██████▏   | 491/800 [02:28<01:33,  3.30it/s]\u001b[A\n",
            "\n",
            "epochs:   0%|          | 0/1 [02:28<?, ?it/s]\n",
            "loss: -36.05:  62%|██████▏   | 492/800 [02:28<01:32,  3.33it/s]\u001b[A\n",
            "loss: -29.16:  62%|██████▏   | 492/800 [02:28<01:32,  3.33it/s]\u001b[A\n",
            "loss: -29.16:  62%|██████▏   | 493/800 [02:28<01:34,  3.23it/s]\u001b[A"
          ]
        },
        {
          "output_type": "stream",
          "name": "stdout",
          "text": [
            "image updated at \"./a_dog_with_a_ball.000123.jpg\"\n"
          ]
        },
        {
          "output_type": "stream",
          "name": "stderr",
          "text": [
            "\n",
            "loss: -36.84:  62%|██████▏   | 493/800 [02:29<01:34,  3.23it/s]\u001b[A\n",
            "loss: -36.84:  62%|██████▏   | 494/800 [02:29<01:33,  3.27it/s]\u001b[A\n",
            "loss: -31.16:  62%|██████▏   | 494/800 [02:29<01:33,  3.27it/s]\u001b[A\n",
            "loss: -31.16:  62%|██████▏   | 495/800 [02:29<01:32,  3.30it/s]\u001b[A\n",
            "loss: -35.96:  62%|██████▏   | 495/800 [02:29<01:32,  3.30it/s]\u001b[A\n",
            "\n",
            "epochs:   0%|          | 0/1 [02:29<?, ?it/s]\n",
            "loss: -35.96:  62%|██████▏   | 496/800 [02:29<01:31,  3.32it/s]\u001b[A\n",
            "loss: -23.67:  62%|██████▏   | 496/800 [02:29<01:31,  3.32it/s]\u001b[A\n",
            "loss: -23.67:  62%|██████▏   | 497/800 [02:29<01:34,  3.22it/s]\u001b[A"
          ]
        },
        {
          "output_type": "stream",
          "name": "stdout",
          "text": [
            "image updated at \"./a_dog_with_a_ball.000124.jpg\"\n"
          ]
        },
        {
          "output_type": "stream",
          "name": "stderr",
          "text": [
            "\n",
            "loss: -29.54:  62%|██████▏   | 497/800 [02:30<01:34,  3.22it/s]\u001b[A\n",
            "loss: -29.54:  62%|██████▏   | 498/800 [02:30<01:31,  3.29it/s]\u001b[A\n",
            "loss: -36.46:  62%|██████▏   | 498/800 [02:30<01:31,  3.29it/s]\u001b[A\n",
            "loss: -36.46:  62%|██████▏   | 499/800 [02:30<01:30,  3.34it/s]\u001b[A\n",
            "loss: -32.67:  62%|██████▏   | 499/800 [02:30<01:30,  3.34it/s]\u001b[A\n",
            "\n",
            "epochs:   0%|          | 0/1 [02:31<?, ?it/s]\n",
            "loss: -32.67:  62%|██████▎   | 500/800 [02:31<01:29,  3.36it/s]\u001b[A\n",
            "loss: -33.36:  62%|██████▎   | 500/800 [02:31<01:29,  3.36it/s]\u001b[A\n",
            "loss: -33.36:  63%|██████▎   | 501/800 [02:31<01:31,  3.26it/s]\u001b[A"
          ]
        },
        {
          "output_type": "stream",
          "name": "stdout",
          "text": [
            "image updated at \"./a_dog_with_a_ball.000125.jpg\"\n"
          ]
        },
        {
          "output_type": "stream",
          "name": "stderr",
          "text": [
            "\n",
            "loss: -33.77:  63%|██████▎   | 501/800 [02:31<01:31,  3.26it/s]\u001b[A\n",
            "loss: -33.77:  63%|██████▎   | 502/800 [02:31<01:29,  3.31it/s]\u001b[A\n",
            "loss: -21.13:  63%|██████▎   | 502/800 [02:31<01:29,  3.31it/s]\u001b[A\n",
            "loss: -21.13:  63%|██████▎   | 503/800 [02:31<01:29,  3.34it/s]\u001b[A\n",
            "loss: -29.10:  63%|██████▎   | 503/800 [02:32<01:29,  3.34it/s]\u001b[A\n",
            "\n",
            "epochs:   0%|          | 0/1 [02:32<?, ?it/s]\n",
            "loss: -29.10:  63%|██████▎   | 504/800 [02:32<01:28,  3.33it/s]\u001b[A\n",
            "loss: -31.46:  63%|██████▎   | 504/800 [02:32<01:28,  3.33it/s]\u001b[A\n",
            "loss: -31.46:  63%|██████▎   | 505/800 [02:32<01:31,  3.24it/s]\u001b[A"
          ]
        },
        {
          "output_type": "stream",
          "name": "stdout",
          "text": [
            "image updated at \"./a_dog_with_a_ball.000126.jpg\"\n"
          ]
        },
        {
          "output_type": "stream",
          "name": "stderr",
          "text": [
            "\n",
            "loss: -24.90:  63%|██████▎   | 505/800 [02:32<01:31,  3.24it/s]\u001b[A\n",
            "loss: -24.90:  63%|██████▎   | 506/800 [02:32<01:29,  3.28it/s]\u001b[A\n",
            "loss: -34.31:  63%|██████▎   | 506/800 [02:32<01:29,  3.28it/s]\u001b[A\n",
            "loss: -34.31:  63%|██████▎   | 507/800 [02:32<01:28,  3.33it/s]\u001b[A\n",
            "loss: -34.92:  63%|██████▎   | 507/800 [02:33<01:28,  3.33it/s]\u001b[A\n",
            "\n",
            "epochs:   0%|          | 0/1 [02:33<?, ?it/s]\n",
            "loss: -34.92:  64%|██████▎   | 508/800 [02:33<01:27,  3.35it/s]\u001b[A\n",
            "loss: -35.64:  64%|██████▎   | 508/800 [02:33<01:27,  3.35it/s]\u001b[A\n",
            "loss: -35.64:  64%|██████▎   | 509/800 [02:33<01:28,  3.27it/s]\u001b[A"
          ]
        },
        {
          "output_type": "stream",
          "name": "stdout",
          "text": [
            "image updated at \"./a_dog_with_a_ball.000127.jpg\"\n"
          ]
        },
        {
          "output_type": "stream",
          "name": "stderr",
          "text": [
            "\n",
            "loss: -36.81:  64%|██████▎   | 509/800 [02:33<01:28,  3.27it/s]\u001b[A\n",
            "loss: -36.81:  64%|██████▍   | 510/800 [02:33<01:27,  3.31it/s]\u001b[A\n",
            "loss: -24.97:  64%|██████▍   | 510/800 [02:34<01:27,  3.31it/s]\u001b[A\n",
            "loss: -24.97:  64%|██████▍   | 511/800 [02:34<01:26,  3.36it/s]\u001b[A\n",
            "loss: -20.28:  64%|██████▍   | 511/800 [02:34<01:26,  3.36it/s]\u001b[A\n",
            "\n",
            "epochs:   0%|          | 0/1 [02:34<?, ?it/s]\n",
            "loss: -20.28:  64%|██████▍   | 512/800 [02:34<01:24,  3.39it/s]\u001b[A\n",
            "loss: -36.97:  64%|██████▍   | 512/800 [02:34<01:24,  3.39it/s]\u001b[A\n",
            "loss: -36.97:  64%|██████▍   | 513/800 [02:34<01:27,  3.28it/s]\u001b[A"
          ]
        },
        {
          "output_type": "stream",
          "name": "stdout",
          "text": [
            "image updated at \"./a_dog_with_a_ball.000128.jpg\"\n"
          ]
        },
        {
          "output_type": "stream",
          "name": "stderr",
          "text": [
            "\n",
            "loss: -20.77:  64%|██████▍   | 513/800 [02:35<01:27,  3.28it/s]\u001b[A\n",
            "loss: -20.77:  64%|██████▍   | 514/800 [02:35<01:26,  3.32it/s]\u001b[A\n",
            "loss: -32.98:  64%|██████▍   | 514/800 [02:35<01:26,  3.32it/s]\u001b[A\n",
            "loss: -32.98:  64%|██████▍   | 515/800 [02:35<01:25,  3.33it/s]\u001b[A\n",
            "loss: -29.40:  64%|██████▍   | 515/800 [02:35<01:25,  3.33it/s]\u001b[A\n",
            "\n",
            "epochs:   0%|          | 0/1 [02:36<?, ?it/s]\n",
            "loss: -29.40:  64%|██████▍   | 516/800 [02:36<01:25,  3.32it/s]\u001b[A\n",
            "loss: -28.21:  64%|██████▍   | 516/800 [02:36<01:25,  3.32it/s]\u001b[A\n",
            "loss: -28.21:  65%|██████▍   | 517/800 [02:36<01:27,  3.23it/s]\u001b[A"
          ]
        },
        {
          "output_type": "stream",
          "name": "stdout",
          "text": [
            "image updated at \"./a_dog_with_a_ball.000129.jpg\"\n"
          ]
        },
        {
          "output_type": "stream",
          "name": "stderr",
          "text": [
            "\n",
            "loss: -32.16:  65%|██████▍   | 517/800 [02:36<01:27,  3.23it/s]\u001b[A\n",
            "loss: -32.16:  65%|██████▍   | 518/800 [02:36<01:25,  3.28it/s]\u001b[A\n",
            "loss: -33.47:  65%|██████▍   | 518/800 [02:36<01:25,  3.28it/s]\u001b[A\n",
            "loss: -33.47:  65%|██████▍   | 519/800 [02:36<01:25,  3.30it/s]\u001b[A\n",
            "loss: -34.10:  65%|██████▍   | 519/800 [02:36<01:25,  3.30it/s]\u001b[A\n",
            "\n",
            "epochs:   0%|          | 0/1 [02:37<?, ?it/s]\n",
            "loss: -34.10:  65%|██████▌   | 520/800 [02:37<01:24,  3.32it/s]\u001b[A\n",
            "loss: -29.55:  65%|██████▌   | 520/800 [02:37<01:24,  3.32it/s]\u001b[A\n",
            "loss: -29.55:  65%|██████▌   | 521/800 [02:37<01:26,  3.21it/s]\u001b[A"
          ]
        },
        {
          "output_type": "stream",
          "name": "stdout",
          "text": [
            "image updated at \"./a_dog_with_a_ball.000130.jpg\"\n"
          ]
        },
        {
          "output_type": "stream",
          "name": "stderr",
          "text": [
            "\n",
            "loss: -34.97:  65%|██████▌   | 521/800 [02:37<01:26,  3.21it/s]\u001b[A\n",
            "loss: -34.97:  65%|██████▌   | 522/800 [02:37<01:25,  3.26it/s]\u001b[A\n",
            "loss: -31.07:  65%|██████▌   | 522/800 [02:37<01:25,  3.26it/s]\u001b[A\n",
            "loss: -31.07:  65%|██████▌   | 523/800 [02:37<01:24,  3.29it/s]\u001b[A\n",
            "loss: -21.06:  65%|██████▌   | 523/800 [02:38<01:24,  3.29it/s]\u001b[A\n",
            "\n",
            "epochs:   0%|          | 0/1 [02:38<?, ?it/s]\n",
            "loss: -21.06:  66%|██████▌   | 524/800 [02:38<01:23,  3.30it/s]\u001b[A\n",
            "loss: -35.37:  66%|██████▌   | 524/800 [02:38<01:23,  3.30it/s]\u001b[A\n",
            "loss: -35.37:  66%|██████▌   | 525/800 [02:38<01:26,  3.18it/s]\u001b[A"
          ]
        },
        {
          "output_type": "stream",
          "name": "stdout",
          "text": [
            "image updated at \"./a_dog_with_a_ball.000131.jpg\"\n"
          ]
        },
        {
          "output_type": "stream",
          "name": "stderr",
          "text": [
            "\n",
            "loss: -37.35:  66%|██████▌   | 525/800 [02:38<01:26,  3.18it/s]\u001b[A\n",
            "loss: -37.35:  66%|██████▌   | 526/800 [02:38<01:24,  3.24it/s]\u001b[A\n",
            "loss: -37.31:  66%|██████▌   | 526/800 [02:39<01:24,  3.24it/s]\u001b[A\n",
            "loss: -37.31:  66%|██████▌   | 527/800 [02:39<01:23,  3.28it/s]\u001b[A\n",
            "loss: -20.11:  66%|██████▌   | 527/800 [02:39<01:23,  3.28it/s]\u001b[A\n",
            "\n",
            "epochs:   0%|          | 0/1 [02:39<?, ?it/s]\n",
            "loss: -20.11:  66%|██████▌   | 528/800 [02:39<01:22,  3.31it/s]\u001b[A\n",
            "loss: -34.55:  66%|██████▌   | 528/800 [02:39<01:22,  3.31it/s]\u001b[A\n",
            "loss: -34.55:  66%|██████▌   | 529/800 [02:39<01:23,  3.25it/s]\u001b[A"
          ]
        },
        {
          "output_type": "stream",
          "name": "stdout",
          "text": [
            "image updated at \"./a_dog_with_a_ball.000132.jpg\"\n"
          ]
        },
        {
          "output_type": "stream",
          "name": "stderr",
          "text": [
            "\n",
            "loss: -23.88:  66%|██████▌   | 529/800 [02:39<01:23,  3.25it/s]\u001b[A\n",
            "loss: -23.88:  66%|██████▋   | 530/800 [02:39<01:22,  3.28it/s]\u001b[A\n",
            "loss: -34.51:  66%|██████▋   | 530/800 [02:40<01:22,  3.28it/s]\u001b[A\n",
            "loss: -34.51:  66%|██████▋   | 531/800 [02:40<01:21,  3.30it/s]\u001b[A\n",
            "loss: -23.06:  66%|██████▋   | 531/800 [02:40<01:21,  3.30it/s]\u001b[A\n",
            "\n",
            "epochs:   0%|          | 0/1 [02:40<?, ?it/s]\n",
            "loss: -23.06:  66%|██████▋   | 532/800 [02:40<01:20,  3.34it/s]\u001b[A\n",
            "loss: -35.57:  66%|██████▋   | 532/800 [02:40<01:20,  3.34it/s]\u001b[A\n",
            "loss: -35.57:  67%|██████▋   | 533/800 [02:40<01:21,  3.27it/s]\u001b[A"
          ]
        },
        {
          "output_type": "stream",
          "name": "stdout",
          "text": [
            "image updated at \"./a_dog_with_a_ball.000133.jpg\"\n"
          ]
        },
        {
          "output_type": "stream",
          "name": "stderr",
          "text": [
            "\n",
            "loss: -33.10:  67%|██████▋   | 533/800 [02:41<01:21,  3.27it/s]\u001b[A\n",
            "loss: -33.10:  67%|██████▋   | 534/800 [02:41<01:21,  3.28it/s]\u001b[A\n",
            "loss: -37.06:  67%|██████▋   | 534/800 [02:41<01:21,  3.28it/s]\u001b[A\n",
            "loss: -37.06:  67%|██████▋   | 535/800 [02:41<01:20,  3.31it/s]\u001b[A\n",
            "loss: -36.15:  67%|██████▋   | 535/800 [02:41<01:20,  3.31it/s]\u001b[A\n",
            "\n",
            "epochs:   0%|          | 0/1 [02:42<?, ?it/s]\n",
            "loss: -36.15:  67%|██████▋   | 536/800 [02:42<01:19,  3.33it/s]\u001b[A\n",
            "loss: -36.76:  67%|██████▋   | 536/800 [02:42<01:19,  3.33it/s]\u001b[A\n",
            "loss: -36.76:  67%|██████▋   | 537/800 [02:42<01:21,  3.23it/s]\u001b[A"
          ]
        },
        {
          "output_type": "stream",
          "name": "stdout",
          "text": [
            "image updated at \"./a_dog_with_a_ball.000134.jpg\"\n"
          ]
        },
        {
          "output_type": "stream",
          "name": "stderr",
          "text": [
            "\n",
            "loss: -20.04:  67%|██████▋   | 537/800 [02:42<01:21,  3.23it/s]\u001b[A\n",
            "loss: -20.04:  67%|██████▋   | 538/800 [02:42<01:19,  3.30it/s]\u001b[A\n",
            "loss: -31.75:  67%|██████▋   | 538/800 [02:42<01:19,  3.30it/s]\u001b[A\n",
            "loss: -31.75:  67%|██████▋   | 539/800 [02:42<01:18,  3.31it/s]\u001b[A\n",
            "loss: -36.86:  67%|██████▋   | 539/800 [02:42<01:18,  3.31it/s]\u001b[A\n",
            "\n",
            "epochs:   0%|          | 0/1 [02:43<?, ?it/s]\n",
            "loss: -36.86:  68%|██████▊   | 540/800 [02:43<01:17,  3.34it/s]\u001b[A\n",
            "loss: -37.51:  68%|██████▊   | 540/800 [02:43<01:17,  3.34it/s]\u001b[A\n",
            "loss: -37.51:  68%|██████▊   | 541/800 [02:43<01:19,  3.26it/s]\u001b[A"
          ]
        },
        {
          "output_type": "stream",
          "name": "stdout",
          "text": [
            "image updated at \"./a_dog_with_a_ball.000135.jpg\"\n"
          ]
        },
        {
          "output_type": "stream",
          "name": "stderr",
          "text": [
            "\n",
            "loss: -35.91:  68%|██████▊   | 541/800 [02:43<01:19,  3.26it/s]\u001b[A\n",
            "loss: -35.91:  68%|██████▊   | 542/800 [02:43<01:18,  3.30it/s]\u001b[A\n",
            "loss: -24.68:  68%|██████▊   | 542/800 [02:43<01:18,  3.30it/s]\u001b[A\n",
            "loss: -24.68:  68%|██████▊   | 543/800 [02:43<01:17,  3.34it/s]\u001b[A\n",
            "loss: -37.74:  68%|██████▊   | 543/800 [02:44<01:17,  3.34it/s]\u001b[A\n",
            "\n",
            "epochs:   0%|          | 0/1 [02:44<?, ?it/s]\n",
            "loss: -37.74:  68%|██████▊   | 544/800 [02:44<01:16,  3.33it/s]\u001b[A\n",
            "loss: -24.73:  68%|██████▊   | 544/800 [02:44<01:16,  3.33it/s]\u001b[A\n",
            "loss: -24.73:  68%|██████▊   | 545/800 [02:44<01:18,  3.23it/s]\u001b[A"
          ]
        },
        {
          "output_type": "stream",
          "name": "stdout",
          "text": [
            "image updated at \"./a_dog_with_a_ball.000136.jpg\"\n"
          ]
        },
        {
          "output_type": "stream",
          "name": "stderr",
          "text": [
            "\n",
            "loss: -32.99:  68%|██████▊   | 545/800 [02:44<01:18,  3.23it/s]\u001b[A\n",
            "loss: -32.99:  68%|██████▊   | 546/800 [02:44<01:17,  3.28it/s]\u001b[A\n",
            "loss: -36.32:  68%|██████▊   | 546/800 [02:45<01:17,  3.28it/s]\u001b[A\n",
            "loss: -36.32:  68%|██████▊   | 547/800 [02:45<01:16,  3.32it/s]\u001b[A\n",
            "loss: -35.99:  68%|██████▊   | 547/800 [02:45<01:16,  3.32it/s]\u001b[A\n",
            "\n",
            "epochs:   0%|          | 0/1 [02:45<?, ?it/s]\n",
            "loss: -35.99:  68%|██████▊   | 548/800 [02:45<01:16,  3.31it/s]\u001b[A\n",
            "loss: -37.03:  68%|██████▊   | 548/800 [02:45<01:16,  3.31it/s]\u001b[A\n",
            "loss: -37.03:  69%|██████▊   | 549/800 [02:45<01:17,  3.25it/s]\u001b[A"
          ]
        },
        {
          "output_type": "stream",
          "name": "stdout",
          "text": [
            "image updated at \"./a_dog_with_a_ball.000137.jpg\"\n"
          ]
        },
        {
          "output_type": "stream",
          "name": "stderr",
          "text": [
            "\n",
            "loss: -19.51:  69%|██████▊   | 549/800 [02:46<01:17,  3.25it/s]\u001b[A\n",
            "loss: -19.51:  69%|██████▉   | 550/800 [02:46<01:18,  3.17it/s]\u001b[A\n",
            "loss: -23.54:  69%|██████▉   | 550/800 [02:46<01:18,  3.17it/s]\u001b[A\n",
            "loss: -23.54:  69%|██████▉   | 551/800 [02:46<01:18,  3.17it/s]\u001b[A\n",
            "loss: -20.36:  69%|██████▉   | 551/800 [02:46<01:18,  3.17it/s]\u001b[A\n",
            "\n",
            "epochs:   0%|          | 0/1 [02:47<?, ?it/s]\n",
            "loss: -20.36:  69%|██████▉   | 552/800 [02:47<01:16,  3.23it/s]\u001b[A\n",
            "loss: -37.54:  69%|██████▉   | 552/800 [02:47<01:16,  3.23it/s]\u001b[A\n",
            "loss: -37.54:  69%|██████▉   | 553/800 [02:47<01:16,  3.22it/s]\u001b[A"
          ]
        },
        {
          "output_type": "stream",
          "name": "stdout",
          "text": [
            "image updated at \"./a_dog_with_a_ball.000138.jpg\"\n"
          ]
        },
        {
          "output_type": "stream",
          "name": "stderr",
          "text": [
            "\n",
            "loss: -35.83:  69%|██████▉   | 553/800 [02:47<01:16,  3.22it/s]\u001b[A\n",
            "loss: -35.83:  69%|██████▉   | 554/800 [02:47<01:14,  3.28it/s]\u001b[A\n",
            "loss: -36.97:  69%|██████▉   | 554/800 [02:47<01:14,  3.28it/s]\u001b[A\n",
            "loss: -36.97:  69%|██████▉   | 555/800 [02:47<01:13,  3.34it/s]\u001b[A\n",
            "loss: -35.49:  69%|██████▉   | 555/800 [02:47<01:13,  3.34it/s]\u001b[A\n",
            "\n",
            "epochs:   0%|          | 0/1 [02:48<?, ?it/s]\n",
            "loss: -35.49:  70%|██████▉   | 556/800 [02:48<01:12,  3.37it/s]\u001b[A\n",
            "loss: -33.45:  70%|██████▉   | 556/800 [02:48<01:12,  3.37it/s]\u001b[A\n",
            "loss: -33.45:  70%|██████▉   | 557/800 [02:48<01:14,  3.25it/s]\u001b[A"
          ]
        },
        {
          "output_type": "stream",
          "name": "stdout",
          "text": [
            "image updated at \"./a_dog_with_a_ball.000139.jpg\"\n"
          ]
        },
        {
          "output_type": "stream",
          "name": "stderr",
          "text": [
            "\n",
            "loss: -30.43:  70%|██████▉   | 557/800 [02:48<01:14,  3.25it/s]\u001b[A\n",
            "loss: -30.43:  70%|██████▉   | 558/800 [02:48<01:13,  3.29it/s]\u001b[A\n",
            "loss: -36.85:  70%|██████▉   | 558/800 [02:48<01:13,  3.29it/s]\u001b[A\n",
            "loss: -36.85:  70%|██████▉   | 559/800 [02:48<01:12,  3.30it/s]\u001b[A\n",
            "loss: -33.32:  70%|██████▉   | 559/800 [02:49<01:12,  3.30it/s]\u001b[A\n",
            "\n",
            "epochs:   0%|          | 0/1 [02:49<?, ?it/s]\n",
            "loss: -33.32:  70%|███████   | 560/800 [02:49<01:11,  3.34it/s]\u001b[A\n",
            "loss: -33.94:  70%|███████   | 560/800 [02:49<01:11,  3.34it/s]\u001b[A\n",
            "loss: -33.94:  70%|███████   | 561/800 [02:49<01:14,  3.23it/s]\u001b[A"
          ]
        },
        {
          "output_type": "stream",
          "name": "stdout",
          "text": [
            "image updated at \"./a_dog_with_a_ball.000140.jpg\"\n"
          ]
        },
        {
          "output_type": "stream",
          "name": "stderr",
          "text": [
            "\n",
            "loss: -35.23:  70%|███████   | 561/800 [02:49<01:14,  3.23it/s]\u001b[A\n",
            "loss: -35.23:  70%|███████   | 562/800 [02:49<01:12,  3.27it/s]\u001b[A\n",
            "loss: -21.19:  70%|███████   | 562/800 [02:50<01:12,  3.27it/s]\u001b[A\n",
            "loss: -21.19:  70%|███████   | 563/800 [02:50<01:11,  3.31it/s]\u001b[A\n",
            "loss: -34.03:  70%|███████   | 563/800 [02:50<01:11,  3.31it/s]\u001b[A\n",
            "\n",
            "epochs:   0%|          | 0/1 [02:50<?, ?it/s]\n",
            "loss: -34.03:  70%|███████   | 564/800 [02:50<01:11,  3.31it/s]\u001b[A\n",
            "loss: -35.39:  70%|███████   | 564/800 [02:50<01:11,  3.31it/s]\u001b[A\n",
            "loss: -35.39:  71%|███████   | 565/800 [02:50<01:12,  3.24it/s]\u001b[A"
          ]
        },
        {
          "output_type": "stream",
          "name": "stdout",
          "text": [
            "image updated at \"./a_dog_with_a_ball.000141.jpg\"\n"
          ]
        },
        {
          "output_type": "stream",
          "name": "stderr",
          "text": [
            "\n",
            "loss: -35.55:  71%|███████   | 565/800 [02:50<01:12,  3.24it/s]\u001b[A\n",
            "loss: -35.55:  71%|███████   | 566/800 [02:50<01:11,  3.29it/s]\u001b[A\n",
            "loss: -33.71:  71%|███████   | 566/800 [02:51<01:11,  3.29it/s]\u001b[A\n",
            "loss: -33.71:  71%|███████   | 567/800 [02:51<01:10,  3.32it/s]\u001b[A\n",
            "loss: -36.26:  71%|███████   | 567/800 [02:51<01:10,  3.32it/s]\u001b[A\n",
            "\n",
            "epochs:   0%|          | 0/1 [02:51<?, ?it/s]\n",
            "loss: -36.26:  71%|███████   | 568/800 [02:51<01:09,  3.34it/s]\u001b[A\n",
            "loss: -22.15:  71%|███████   | 568/800 [02:51<01:09,  3.34it/s]\u001b[A\n",
            "loss: -22.15:  71%|███████   | 569/800 [02:51<01:11,  3.23it/s]\u001b[A"
          ]
        },
        {
          "output_type": "stream",
          "name": "stdout",
          "text": [
            "image updated at \"./a_dog_with_a_ball.000142.jpg\"\n"
          ]
        },
        {
          "output_type": "stream",
          "name": "stderr",
          "text": [
            "\n",
            "loss: -37.67:  71%|███████   | 569/800 [02:52<01:11,  3.23it/s]\u001b[A\n",
            "loss: -37.67:  71%|███████▏  | 570/800 [02:52<01:10,  3.27it/s]\u001b[A\n",
            "loss: -36.47:  71%|███████▏  | 570/800 [02:52<01:10,  3.27it/s]\u001b[A\n",
            "loss: -36.47:  71%|███████▏  | 571/800 [02:52<01:09,  3.31it/s]\u001b[A\n",
            "loss: -36.14:  71%|███████▏  | 571/800 [02:52<01:09,  3.31it/s]\u001b[A\n",
            "\n",
            "epochs:   0%|          | 0/1 [02:53<?, ?it/s]\n",
            "loss: -36.14:  72%|███████▏  | 572/800 [02:53<01:08,  3.32it/s]\u001b[A\n",
            "loss: -19.89:  72%|███████▏  | 572/800 [02:53<01:08,  3.32it/s]\u001b[A\n",
            "loss: -19.89:  72%|███████▏  | 573/800 [02:53<01:10,  3.24it/s]\u001b[A"
          ]
        },
        {
          "output_type": "stream",
          "name": "stdout",
          "text": [
            "image updated at \"./a_dog_with_a_ball.000143.jpg\"\n"
          ]
        },
        {
          "output_type": "stream",
          "name": "stderr",
          "text": [
            "\n",
            "loss: -37.60:  72%|███████▏  | 573/800 [02:53<01:10,  3.24it/s]\u001b[A\n",
            "loss: -37.60:  72%|███████▏  | 574/800 [02:53<01:09,  3.27it/s]\u001b[A\n",
            "loss: -36.95:  72%|███████▏  | 574/800 [02:53<01:09,  3.27it/s]\u001b[A\n",
            "loss: -36.95:  72%|███████▏  | 575/800 [02:53<01:08,  3.31it/s]\u001b[A\n",
            "loss: -22.12:  72%|███████▏  | 575/800 [02:53<01:08,  3.31it/s]\u001b[A\n",
            "\n",
            "epochs:   0%|          | 0/1 [02:54<?, ?it/s]\n",
            "loss: -22.12:  72%|███████▏  | 576/800 [02:54<01:07,  3.34it/s]\u001b[A\n",
            "loss: -25.10:  72%|███████▏  | 576/800 [02:54<01:07,  3.34it/s]\u001b[A\n",
            "loss: -25.10:  72%|███████▏  | 577/800 [02:54<01:08,  3.25it/s]\u001b[A"
          ]
        },
        {
          "output_type": "stream",
          "name": "stdout",
          "text": [
            "image updated at \"./a_dog_with_a_ball.000144.jpg\"\n"
          ]
        },
        {
          "output_type": "stream",
          "name": "stderr",
          "text": [
            "\n",
            "loss: -36.79:  72%|███████▏  | 577/800 [02:54<01:08,  3.25it/s]\u001b[A\n",
            "loss: -36.79:  72%|███████▏  | 578/800 [02:54<01:07,  3.28it/s]\u001b[A\n",
            "loss: -20.03:  72%|███████▏  | 578/800 [02:54<01:07,  3.28it/s]\u001b[A\n",
            "loss: -20.03:  72%|███████▏  | 579/800 [02:54<01:06,  3.34it/s]\u001b[A\n",
            "loss: -21.91:  72%|███████▏  | 579/800 [02:55<01:06,  3.34it/s]\u001b[A\n",
            "\n",
            "epochs:   0%|          | 0/1 [02:55<?, ?it/s]\n",
            "loss: -21.91:  72%|███████▎  | 580/800 [02:55<01:05,  3.37it/s]\u001b[A\n",
            "loss: -31.41:  72%|███████▎  | 580/800 [02:55<01:05,  3.37it/s]\u001b[A\n",
            "loss: -31.41:  73%|███████▎  | 581/800 [02:55<01:05,  3.34it/s]\u001b[A"
          ]
        },
        {
          "output_type": "stream",
          "name": "stdout",
          "text": [
            "image updated at \"./a_dog_with_a_ball.000145.jpg\"\n"
          ]
        },
        {
          "output_type": "stream",
          "name": "stderr",
          "text": [
            "\n",
            "loss: -36.12:  73%|███████▎  | 581/800 [02:55<01:05,  3.34it/s]\u001b[A\n",
            "loss: -36.12:  73%|███████▎  | 582/800 [02:55<01:04,  3.37it/s]\u001b[A\n",
            "loss: -35.41:  73%|███████▎  | 582/800 [02:56<01:04,  3.37it/s]\u001b[A\n",
            "loss: -35.41:  73%|███████▎  | 583/800 [02:56<01:03,  3.40it/s]\u001b[A\n",
            "loss: -36.93:  73%|███████▎  | 583/800 [02:56<01:03,  3.40it/s]\u001b[A\n",
            "\n",
            "epochs:   0%|          | 0/1 [02:56<?, ?it/s]\n",
            "loss: -36.93:  73%|███████▎  | 584/800 [02:56<01:03,  3.39it/s]\u001b[A\n",
            "loss: -20.27:  73%|███████▎  | 584/800 [02:56<01:03,  3.39it/s]\u001b[A\n",
            "loss: -20.27:  73%|███████▎  | 585/800 [02:56<01:05,  3.28it/s]\u001b[A"
          ]
        },
        {
          "output_type": "stream",
          "name": "stdout",
          "text": [
            "image updated at \"./a_dog_with_a_ball.000146.jpg\"\n"
          ]
        },
        {
          "output_type": "stream",
          "name": "stderr",
          "text": [
            "\n",
            "loss: -24.03:  73%|███████▎  | 585/800 [02:56<01:05,  3.28it/s]\u001b[A\n",
            "loss: -24.03:  73%|███████▎  | 586/800 [02:56<01:04,  3.32it/s]\u001b[A\n",
            "loss: -31.39:  73%|███████▎  | 586/800 [02:57<01:04,  3.32it/s]\u001b[A\n",
            "loss: -31.39:  73%|███████▎  | 587/800 [02:57<01:03,  3.35it/s]\u001b[A\n",
            "loss: -30.60:  73%|███████▎  | 587/800 [02:57<01:03,  3.35it/s]\u001b[A\n",
            "\n",
            "epochs:   0%|          | 0/1 [02:57<?, ?it/s]\n",
            "loss: -30.60:  74%|███████▎  | 588/800 [02:57<01:02,  3.38it/s]\u001b[A\n",
            "loss: -36.51:  74%|███████▎  | 588/800 [02:57<01:02,  3.38it/s]\u001b[A\n",
            "loss: -36.51:  74%|███████▎  | 589/800 [02:57<01:04,  3.26it/s]\u001b[A"
          ]
        },
        {
          "output_type": "stream",
          "name": "stdout",
          "text": [
            "image updated at \"./a_dog_with_a_ball.000147.jpg\"\n"
          ]
        },
        {
          "output_type": "stream",
          "name": "stderr",
          "text": [
            "\n",
            "loss: -36.88:  74%|███████▎  | 589/800 [02:58<01:04,  3.26it/s]\u001b[A\n",
            "loss: -36.88:  74%|███████▍  | 590/800 [02:58<01:03,  3.31it/s]\u001b[A\n",
            "loss: -36.25:  74%|███████▍  | 590/800 [02:58<01:03,  3.31it/s]\u001b[A\n",
            "loss: -36.25:  74%|███████▍  | 591/800 [02:58<01:02,  3.34it/s]\u001b[A\n",
            "loss: -21.46:  74%|███████▍  | 591/800 [02:58<01:02,  3.34it/s]\u001b[A\n",
            "\n",
            "epochs:   0%|          | 0/1 [02:59<?, ?it/s]\n",
            "loss: -21.46:  74%|███████▍  | 592/800 [02:59<01:01,  3.36it/s]\u001b[A\n",
            "loss: -37.23:  74%|███████▍  | 592/800 [02:59<01:01,  3.36it/s]\u001b[A\n",
            "loss: -37.23:  74%|███████▍  | 593/800 [02:59<01:03,  3.25it/s]\u001b[A"
          ]
        },
        {
          "output_type": "stream",
          "name": "stdout",
          "text": [
            "image updated at \"./a_dog_with_a_ball.000148.jpg\"\n"
          ]
        },
        {
          "output_type": "stream",
          "name": "stderr",
          "text": [
            "\n",
            "loss: -33.41:  74%|███████▍  | 593/800 [02:59<01:03,  3.25it/s]\u001b[A\n",
            "loss: -33.41:  74%|███████▍  | 594/800 [02:59<01:02,  3.30it/s]\u001b[A\n",
            "loss: -24.41:  74%|███████▍  | 594/800 [02:59<01:02,  3.30it/s]\u001b[A\n",
            "loss: -24.41:  74%|███████▍  | 595/800 [02:59<01:02,  3.30it/s]\u001b[A\n",
            "loss: -33.52:  74%|███████▍  | 595/800 [02:59<01:02,  3.30it/s]\u001b[A\n",
            "\n",
            "epochs:   0%|          | 0/1 [03:00<?, ?it/s]\n",
            "loss: -33.52:  74%|███████▍  | 596/800 [03:00<01:00,  3.35it/s]\u001b[A\n",
            "loss: -33.42:  74%|███████▍  | 596/800 [03:00<01:00,  3.35it/s]\u001b[A\n",
            "loss: -33.42:  75%|███████▍  | 597/800 [03:00<01:01,  3.27it/s]\u001b[A"
          ]
        },
        {
          "output_type": "stream",
          "name": "stdout",
          "text": [
            "image updated at \"./a_dog_with_a_ball.000149.jpg\"\n"
          ]
        },
        {
          "output_type": "stream",
          "name": "stderr",
          "text": [
            "\n",
            "loss: -20.38:  75%|███████▍  | 597/800 [03:00<01:01,  3.27it/s]\u001b[A\n",
            "loss: -20.38:  75%|███████▍  | 598/800 [03:00<01:00,  3.32it/s]\u001b[A\n",
            "loss: -34.58:  75%|███████▍  | 598/800 [03:00<01:00,  3.32it/s]\u001b[A\n",
            "loss: -34.58:  75%|███████▍  | 599/800 [03:00<01:00,  3.32it/s]\u001b[A\n",
            "loss: -21.36:  75%|███████▍  | 599/800 [03:01<01:00,  3.32it/s]\u001b[A\n",
            "\n",
            "epochs:   0%|          | 0/1 [03:01<?, ?it/s]\n",
            "loss: -21.36:  75%|███████▌  | 600/800 [03:01<00:59,  3.35it/s]\u001b[A\n",
            "loss: -36.08:  75%|███████▌  | 600/800 [03:01<00:59,  3.35it/s]\u001b[A\n",
            "loss: -36.08:  75%|███████▌  | 601/800 [03:01<01:01,  3.25it/s]\u001b[A"
          ]
        },
        {
          "output_type": "stream",
          "name": "stdout",
          "text": [
            "image updated at \"./a_dog_with_a_ball.000150.jpg\"\n"
          ]
        },
        {
          "output_type": "stream",
          "name": "stderr",
          "text": [
            "\n",
            "loss: -35.44:  75%|███████▌  | 601/800 [03:01<01:01,  3.25it/s]\u001b[A\n",
            "loss: -35.44:  75%|███████▌  | 602/800 [03:01<00:59,  3.32it/s]\u001b[A\n",
            "loss: -21.27:  75%|███████▌  | 602/800 [03:02<00:59,  3.32it/s]\u001b[A\n",
            "loss: -21.27:  75%|███████▌  | 603/800 [03:02<00:59,  3.34it/s]\u001b[A\n",
            "loss: -20.34:  75%|███████▌  | 603/800 [03:02<00:59,  3.34it/s]\u001b[A\n",
            "\n",
            "epochs:   0%|          | 0/1 [03:02<?, ?it/s]\n",
            "loss: -20.34:  76%|███████▌  | 604/800 [03:02<00:58,  3.33it/s]\u001b[A\n",
            "loss: -33.22:  76%|███████▌  | 604/800 [03:02<00:58,  3.33it/s]\u001b[A\n",
            "loss: -33.22:  76%|███████▌  | 605/800 [03:02<01:00,  3.24it/s]\u001b[A"
          ]
        },
        {
          "output_type": "stream",
          "name": "stdout",
          "text": [
            "image updated at \"./a_dog_with_a_ball.000151.jpg\"\n"
          ]
        },
        {
          "output_type": "stream",
          "name": "stderr",
          "text": [
            "\n",
            "loss: -22.87:  76%|███████▌  | 605/800 [03:03<01:00,  3.24it/s]\u001b[A\n",
            "loss: -22.87:  76%|███████▌  | 606/800 [03:03<00:58,  3.29it/s]\u001b[A\n",
            "loss: -29.50:  76%|███████▌  | 606/800 [03:03<00:58,  3.29it/s]\u001b[A\n",
            "loss: -29.50:  76%|███████▌  | 607/800 [03:03<00:58,  3.33it/s]\u001b[A\n",
            "loss: -36.46:  76%|███████▌  | 607/800 [03:03<00:58,  3.33it/s]\u001b[A\n",
            "\n",
            "epochs:   0%|          | 0/1 [03:03<?, ?it/s]\n",
            "loss: -36.46:  76%|███████▌  | 608/800 [03:03<00:57,  3.34it/s]\u001b[A\n",
            "loss: -34.42:  76%|███████▌  | 608/800 [03:03<00:57,  3.34it/s]\u001b[A\n",
            "loss: -34.42:  76%|███████▌  | 609/800 [03:03<00:58,  3.25it/s]\u001b[A"
          ]
        },
        {
          "output_type": "stream",
          "name": "stdout",
          "text": [
            "image updated at \"./a_dog_with_a_ball.000152.jpg\"\n"
          ]
        },
        {
          "output_type": "stream",
          "name": "stderr",
          "text": [
            "\n",
            "loss: -33.31:  76%|███████▌  | 609/800 [03:04<00:58,  3.25it/s]\u001b[A\n",
            "loss: -33.31:  76%|███████▋  | 610/800 [03:04<00:57,  3.28it/s]\u001b[A\n",
            "loss: -34.35:  76%|███████▋  | 610/800 [03:04<00:57,  3.28it/s]\u001b[A\n",
            "loss: -34.35:  76%|███████▋  | 611/800 [03:04<00:56,  3.33it/s]\u001b[A\n",
            "loss: -29.69:  76%|███████▋  | 611/800 [03:04<00:56,  3.33it/s]\u001b[A\n",
            "\n",
            "epochs:   0%|          | 0/1 [03:05<?, ?it/s]\n",
            "loss: -29.69:  76%|███████▋  | 612/800 [03:05<00:55,  3.36it/s]\u001b[A\n",
            "loss: -35.30:  76%|███████▋  | 612/800 [03:05<00:55,  3.36it/s]\u001b[A\n",
            "loss: -35.30:  77%|███████▋  | 613/800 [03:05<00:57,  3.26it/s]\u001b[A"
          ]
        },
        {
          "output_type": "stream",
          "name": "stdout",
          "text": [
            "image updated at \"./a_dog_with_a_ball.000153.jpg\"\n"
          ]
        },
        {
          "output_type": "stream",
          "name": "stderr",
          "text": [
            "\n",
            "loss: -23.73:  77%|███████▋  | 613/800 [03:05<00:57,  3.26it/s]\u001b[A\n",
            "loss: -23.73:  77%|███████▋  | 614/800 [03:05<00:55,  3.33it/s]\u001b[A\n",
            "loss: -36.17:  77%|███████▋  | 614/800 [03:05<00:55,  3.33it/s]\u001b[A\n",
            "loss: -36.17:  77%|███████▋  | 615/800 [03:05<00:55,  3.34it/s]\u001b[A\n",
            "loss: -29.15:  77%|███████▋  | 615/800 [03:06<00:55,  3.34it/s]\u001b[A\n",
            "\n",
            "epochs:   0%|          | 0/1 [03:06<?, ?it/s]\n",
            "loss: -29.15:  77%|███████▋  | 616/800 [03:06<00:54,  3.35it/s]\u001b[A\n",
            "loss: -23.32:  77%|███████▋  | 616/800 [03:06<00:54,  3.35it/s]\u001b[A\n",
            "loss: -23.32:  77%|███████▋  | 617/800 [03:06<00:56,  3.26it/s]\u001b[A"
          ]
        },
        {
          "output_type": "stream",
          "name": "stdout",
          "text": [
            "image updated at \"./a_dog_with_a_ball.000154.jpg\"\n"
          ]
        },
        {
          "output_type": "stream",
          "name": "stderr",
          "text": [
            "\n",
            "loss: -27.80:  77%|███████▋  | 617/800 [03:06<00:56,  3.26it/s]\u001b[A\n",
            "loss: -27.80:  77%|███████▋  | 618/800 [03:06<00:54,  3.32it/s]\u001b[A\n",
            "loss: -22.42:  77%|███████▋  | 618/800 [03:06<00:54,  3.32it/s]\u001b[A\n",
            "loss: -22.42:  77%|███████▋  | 619/800 [03:06<00:54,  3.31it/s]\u001b[A\n",
            "loss: -20.48:  77%|███████▋  | 619/800 [03:07<00:54,  3.31it/s]\u001b[A\n",
            "\n",
            "epochs:   0%|          | 0/1 [03:07<?, ?it/s]\n",
            "loss: -20.48:  78%|███████▊  | 620/800 [03:07<00:54,  3.32it/s]\u001b[A\n",
            "loss: -29.61:  78%|███████▊  | 620/800 [03:07<00:54,  3.32it/s]\u001b[A\n",
            "loss: -29.61:  78%|███████▊  | 621/800 [03:07<00:55,  3.21it/s]\u001b[A"
          ]
        },
        {
          "output_type": "stream",
          "name": "stdout",
          "text": [
            "image updated at \"./a_dog_with_a_ball.000155.jpg\"\n"
          ]
        },
        {
          "output_type": "stream",
          "name": "stderr",
          "text": [
            "\n",
            "loss: -33.75:  78%|███████▊  | 621/800 [03:07<00:55,  3.21it/s]\u001b[A\n",
            "loss: -33.75:  78%|███████▊  | 622/800 [03:07<00:54,  3.27it/s]\u001b[A\n",
            "loss: -34.39:  78%|███████▊  | 622/800 [03:08<00:54,  3.27it/s]\u001b[A\n",
            "loss: -34.39:  78%|███████▊  | 623/800 [03:08<00:53,  3.29it/s]\u001b[A\n",
            "loss: -31.11:  78%|███████▊  | 623/800 [03:08<00:53,  3.29it/s]\u001b[A\n",
            "\n",
            "epochs:   0%|          | 0/1 [03:08<?, ?it/s]\n",
            "loss: -31.11:  78%|███████▊  | 624/800 [03:08<00:52,  3.33it/s]\u001b[A\n",
            "loss: -20.56:  78%|███████▊  | 624/800 [03:08<00:52,  3.33it/s]\u001b[A\n",
            "loss: -20.56:  78%|███████▊  | 625/800 [03:08<00:54,  3.24it/s]\u001b[A"
          ]
        },
        {
          "output_type": "stream",
          "name": "stdout",
          "text": [
            "image updated at \"./a_dog_with_a_ball.000156.jpg\"\n"
          ]
        },
        {
          "output_type": "stream",
          "name": "stderr",
          "text": [
            "\n",
            "loss: -34.93:  78%|███████▊  | 625/800 [03:09<00:54,  3.24it/s]\u001b[A\n",
            "loss: -34.93:  78%|███████▊  | 626/800 [03:09<00:53,  3.28it/s]\u001b[A\n",
            "loss: -25.50:  78%|███████▊  | 626/800 [03:09<00:53,  3.28it/s]\u001b[A\n",
            "loss: -25.50:  78%|███████▊  | 627/800 [03:09<00:52,  3.32it/s]\u001b[A\n",
            "loss: -20.04:  78%|███████▊  | 627/800 [03:09<00:52,  3.32it/s]\u001b[A\n",
            "\n",
            "epochs:   0%|          | 0/1 [03:09<?, ?it/s]\n",
            "loss: -20.04:  78%|███████▊  | 628/800 [03:09<00:51,  3.33it/s]\u001b[A\n",
            "loss: -25.56:  78%|███████▊  | 628/800 [03:09<00:51,  3.33it/s]\u001b[A\n",
            "loss: -25.56:  79%|███████▊  | 629/800 [03:10<00:52,  3.24it/s]\u001b[A"
          ]
        },
        {
          "output_type": "stream",
          "name": "stdout",
          "text": [
            "image updated at \"./a_dog_with_a_ball.000157.jpg\"\n"
          ]
        },
        {
          "output_type": "stream",
          "name": "stderr",
          "text": [
            "\n",
            "loss: -35.37:  79%|███████▊  | 629/800 [03:10<00:52,  3.24it/s]\u001b[A\n",
            "loss: -35.37:  79%|███████▉  | 630/800 [03:10<00:51,  3.28it/s]\u001b[A\n",
            "loss: -35.85:  79%|███████▉  | 630/800 [03:10<00:51,  3.28it/s]\u001b[A\n",
            "loss: -35.85:  79%|███████▉  | 631/800 [03:10<00:50,  3.32it/s]\u001b[A\n",
            "loss: -25.99:  79%|███████▉  | 631/800 [03:10<00:50,  3.32it/s]\u001b[A\n",
            "\n",
            "epochs:   0%|          | 0/1 [03:11<?, ?it/s]\n",
            "loss: -25.99:  79%|███████▉  | 632/800 [03:11<00:50,  3.34it/s]\u001b[A\n",
            "loss: -35.57:  79%|███████▉  | 632/800 [03:11<00:50,  3.34it/s]\u001b[A\n",
            "loss: -35.57:  79%|███████▉  | 633/800 [03:11<00:50,  3.28it/s]\u001b[A"
          ]
        },
        {
          "output_type": "stream",
          "name": "stdout",
          "text": [
            "image updated at \"./a_dog_with_a_ball.000158.jpg\"\n"
          ]
        },
        {
          "output_type": "stream",
          "name": "stderr",
          "text": [
            "\n",
            "loss: -30.68:  79%|███████▉  | 633/800 [03:11<00:50,  3.28it/s]\u001b[A\n",
            "loss: -30.68:  79%|███████▉  | 634/800 [03:11<00:49,  3.34it/s]\u001b[A\n",
            "loss: -36.34:  79%|███████▉  | 634/800 [03:11<00:49,  3.34it/s]\u001b[A\n",
            "loss: -36.34:  79%|███████▉  | 635/800 [03:11<00:49,  3.34it/s]\u001b[A\n",
            "loss: -36.69:  79%|███████▉  | 635/800 [03:12<00:49,  3.34it/s]\u001b[A\n",
            "\n",
            "epochs:   0%|          | 0/1 [03:12<?, ?it/s]\n",
            "loss: -36.69:  80%|███████▉  | 636/800 [03:12<00:49,  3.35it/s]\u001b[A\n",
            "loss: -30.60:  80%|███████▉  | 636/800 [03:12<00:49,  3.35it/s]\u001b[A\n",
            "loss: -30.60:  80%|███████▉  | 637/800 [03:12<00:49,  3.27it/s]\u001b[A"
          ]
        },
        {
          "output_type": "stream",
          "name": "stdout",
          "text": [
            "image updated at \"./a_dog_with_a_ball.000159.jpg\"\n"
          ]
        },
        {
          "output_type": "stream",
          "name": "stderr",
          "text": [
            "\n",
            "loss: -21.91:  80%|███████▉  | 637/800 [03:12<00:49,  3.27it/s]\u001b[A\n",
            "loss: -21.91:  80%|███████▉  | 638/800 [03:12<00:48,  3.32it/s]\u001b[A\n",
            "loss: -35.75:  80%|███████▉  | 638/800 [03:12<00:48,  3.32it/s]\u001b[A\n",
            "loss: -35.75:  80%|███████▉  | 639/800 [03:13<00:48,  3.33it/s]\u001b[A\n",
            "loss: -35.64:  80%|███████▉  | 639/800 [03:13<00:48,  3.33it/s]\u001b[A\n",
            "\n",
            "epochs:   0%|          | 0/1 [03:13<?, ?it/s]\n",
            "loss: -35.64:  80%|████████  | 640/800 [03:13<00:48,  3.32it/s]\u001b[A\n",
            "loss: -35.87:  80%|████████  | 640/800 [03:13<00:48,  3.32it/s]\u001b[A\n",
            "loss: -35.87:  80%|████████  | 641/800 [03:13<00:48,  3.25it/s]\u001b[A"
          ]
        },
        {
          "output_type": "stream",
          "name": "stdout",
          "text": [
            "image updated at \"./a_dog_with_a_ball.000160.jpg\"\n"
          ]
        },
        {
          "output_type": "stream",
          "name": "stderr",
          "text": [
            "\n",
            "loss: -34.89:  80%|████████  | 641/800 [03:13<00:48,  3.25it/s]\u001b[A\n",
            "loss: -34.89:  80%|████████  | 642/800 [03:13<00:48,  3.28it/s]\u001b[A\n",
            "loss: -24.65:  80%|████████  | 642/800 [03:14<00:48,  3.28it/s]\u001b[A\n",
            "loss: -24.65:  80%|████████  | 643/800 [03:14<00:47,  3.30it/s]\u001b[A\n",
            "loss: -31.43:  80%|████████  | 643/800 [03:14<00:47,  3.30it/s]\u001b[A\n",
            "\n",
            "epochs:   0%|          | 0/1 [03:14<?, ?it/s]\n",
            "loss: -31.43:  80%|████████  | 644/800 [03:14<00:46,  3.33it/s]\u001b[A\n",
            "loss: -29.19:  80%|████████  | 644/800 [03:14<00:46,  3.33it/s]\u001b[A\n",
            "loss: -29.19:  81%|████████  | 645/800 [03:14<00:47,  3.25it/s]\u001b[A"
          ]
        },
        {
          "output_type": "stream",
          "name": "stdout",
          "text": [
            "image updated at \"./a_dog_with_a_ball.000161.jpg\"\n"
          ]
        },
        {
          "output_type": "stream",
          "name": "stderr",
          "text": [
            "\n",
            "loss: -20.50:  81%|████████  | 645/800 [03:15<00:47,  3.25it/s]\u001b[A\n",
            "loss: -20.50:  81%|████████  | 646/800 [03:15<00:46,  3.29it/s]\u001b[A\n",
            "loss: -35.84:  81%|████████  | 646/800 [03:15<00:46,  3.29it/s]\u001b[A\n",
            "loss: -35.84:  81%|████████  | 647/800 [03:15<00:46,  3.30it/s]\u001b[A\n",
            "loss: -34.02:  81%|████████  | 647/800 [03:15<00:46,  3.30it/s]\u001b[A\n",
            "\n",
            "epochs:   0%|          | 0/1 [03:16<?, ?it/s]\n",
            "loss: -34.02:  81%|████████  | 648/800 [03:16<00:45,  3.34it/s]\u001b[A\n",
            "loss: -35.10:  81%|████████  | 648/800 [03:16<00:45,  3.34it/s]\u001b[A\n",
            "loss: -35.10:  81%|████████  | 649/800 [03:16<00:46,  3.23it/s]\u001b[A"
          ]
        },
        {
          "output_type": "stream",
          "name": "stdout",
          "text": [
            "image updated at \"./a_dog_with_a_ball.000162.jpg\"\n"
          ]
        },
        {
          "output_type": "stream",
          "name": "stderr",
          "text": [
            "\n",
            "loss: -21.06:  81%|████████  | 649/800 [03:16<00:46,  3.23it/s]\u001b[A\n",
            "loss: -21.06:  81%|████████▏ | 650/800 [03:16<00:45,  3.28it/s]\u001b[A\n",
            "loss: -35.99:  81%|████████▏ | 650/800 [03:16<00:45,  3.28it/s]\u001b[A\n",
            "loss: -35.99:  81%|████████▏ | 651/800 [03:16<00:45,  3.31it/s]\u001b[A\n",
            "loss: -36.17:  81%|████████▏ | 651/800 [03:16<00:45,  3.31it/s]\u001b[A\n",
            "\n",
            "epochs:   0%|          | 0/1 [03:17<?, ?it/s]\n",
            "loss: -36.17:  82%|████████▏ | 652/800 [03:17<00:44,  3.33it/s]\u001b[A\n",
            "loss: -21.38:  82%|████████▏ | 652/800 [03:17<00:44,  3.33it/s]\u001b[A\n",
            "loss: -21.38:  82%|████████▏ | 653/800 [03:17<00:45,  3.24it/s]\u001b[A"
          ]
        },
        {
          "output_type": "stream",
          "name": "stdout",
          "text": [
            "image updated at \"./a_dog_with_a_ball.000163.jpg\"\n"
          ]
        },
        {
          "output_type": "stream",
          "name": "stderr",
          "text": [
            "\n",
            "loss: -21.26:  82%|████████▏ | 653/800 [03:17<00:45,  3.24it/s]\u001b[A\n",
            "loss: -21.26:  82%|████████▏ | 654/800 [03:17<00:44,  3.30it/s]\u001b[A\n",
            "loss: -35.77:  82%|████████▏ | 654/800 [03:17<00:44,  3.30it/s]\u001b[A\n",
            "loss: -35.77:  82%|████████▏ | 655/800 [03:17<00:43,  3.31it/s]\u001b[A\n",
            "loss: -28.95:  82%|████████▏ | 655/800 [03:18<00:43,  3.31it/s]\u001b[A\n",
            "\n",
            "epochs:   0%|          | 0/1 [03:18<?, ?it/s]\n",
            "loss: -28.95:  82%|████████▏ | 656/800 [03:18<00:42,  3.35it/s]\u001b[A\n",
            "loss: -35.67:  82%|████████▏ | 656/800 [03:18<00:42,  3.35it/s]\u001b[A\n",
            "loss: -35.67:  82%|████████▏ | 657/800 [03:18<00:43,  3.25it/s]\u001b[A"
          ]
        },
        {
          "output_type": "stream",
          "name": "stdout",
          "text": [
            "image updated at \"./a_dog_with_a_ball.000164.jpg\"\n"
          ]
        },
        {
          "output_type": "stream",
          "name": "stderr",
          "text": [
            "\n",
            "loss: -30.65:  82%|████████▏ | 657/800 [03:18<00:43,  3.25it/s]\u001b[A\n",
            "loss: -30.65:  82%|████████▏ | 658/800 [03:18<00:43,  3.29it/s]\u001b[A\n",
            "loss: -33.55:  82%|████████▏ | 658/800 [03:19<00:43,  3.29it/s]\u001b[A\n",
            "loss: -33.55:  82%|████████▏ | 659/800 [03:19<00:42,  3.35it/s]\u001b[A\n",
            "loss: -35.77:  82%|████████▏ | 659/800 [03:19<00:42,  3.35it/s]\u001b[A\n",
            "\n",
            "epochs:   0%|          | 0/1 [03:19<?, ?it/s]\n",
            "loss: -35.77:  82%|████████▎ | 660/800 [03:19<00:41,  3.34it/s]\u001b[A\n",
            "loss: -33.96:  82%|████████▎ | 660/800 [03:19<00:41,  3.34it/s]\u001b[A\n",
            "loss: -33.96:  83%|████████▎ | 661/800 [03:19<00:42,  3.24it/s]\u001b[A"
          ]
        },
        {
          "output_type": "stream",
          "name": "stdout",
          "text": [
            "image updated at \"./a_dog_with_a_ball.000165.jpg\"\n"
          ]
        },
        {
          "output_type": "stream",
          "name": "stderr",
          "text": [
            "\n",
            "loss: -34.49:  83%|████████▎ | 661/800 [03:19<00:42,  3.24it/s]\u001b[A\n",
            "loss: -34.49:  83%|████████▎ | 662/800 [03:19<00:41,  3.30it/s]\u001b[A\n",
            "loss: -26.99:  83%|████████▎ | 662/800 [03:20<00:41,  3.30it/s]\u001b[A\n",
            "loss: -26.99:  83%|████████▎ | 663/800 [03:20<00:41,  3.32it/s]\u001b[A\n",
            "loss: -36.62:  83%|████████▎ | 663/800 [03:20<00:41,  3.32it/s]\u001b[A\n",
            "\n",
            "epochs:   0%|          | 0/1 [03:20<?, ?it/s]\n",
            "loss: -36.62:  83%|████████▎ | 664/800 [03:20<00:40,  3.34it/s]\u001b[A\n",
            "loss: -36.11:  83%|████████▎ | 664/800 [03:20<00:40,  3.34it/s]\u001b[A\n",
            "loss: -36.11:  83%|████████▎ | 665/800 [03:20<00:41,  3.25it/s]\u001b[A"
          ]
        },
        {
          "output_type": "stream",
          "name": "stdout",
          "text": [
            "image updated at \"./a_dog_with_a_ball.000166.jpg\"\n"
          ]
        },
        {
          "output_type": "stream",
          "name": "stderr",
          "text": [
            "\n",
            "loss: -36.36:  83%|████████▎ | 665/800 [03:21<00:41,  3.25it/s]\u001b[A\n",
            "loss: -36.36:  83%|████████▎ | 666/800 [03:21<00:40,  3.28it/s]\u001b[A\n",
            "loss: -23.15:  83%|████████▎ | 666/800 [03:21<00:40,  3.28it/s]\u001b[A\n",
            "loss: -23.15:  83%|████████▎ | 667/800 [03:21<00:40,  3.32it/s]\u001b[A\n",
            "loss: -36.69:  83%|████████▎ | 667/800 [03:21<00:40,  3.32it/s]\u001b[A\n",
            "\n",
            "epochs:   0%|          | 0/1 [03:22<?, ?it/s]\n",
            "loss: -36.69:  84%|████████▎ | 668/800 [03:22<00:39,  3.33it/s]\u001b[A\n",
            "loss: -37.21:  84%|████████▎ | 668/800 [03:22<00:39,  3.33it/s]\u001b[A\n",
            "loss: -37.21:  84%|████████▎ | 669/800 [03:22<00:40,  3.25it/s]\u001b[A"
          ]
        },
        {
          "output_type": "stream",
          "name": "stdout",
          "text": [
            "image updated at \"./a_dog_with_a_ball.000167.jpg\"\n"
          ]
        },
        {
          "output_type": "stream",
          "name": "stderr",
          "text": [
            "\n",
            "loss: -31.79:  84%|████████▎ | 669/800 [03:22<00:40,  3.25it/s]\u001b[A\n",
            "loss: -31.79:  84%|████████▍ | 670/800 [03:22<00:39,  3.31it/s]\u001b[A\n",
            "loss: -36.68:  84%|████████▍ | 670/800 [03:22<00:39,  3.31it/s]\u001b[A\n",
            "loss: -36.68:  84%|████████▍ | 671/800 [03:22<00:38,  3.35it/s]\u001b[A\n",
            "loss: -37.58:  84%|████████▍ | 671/800 [03:22<00:38,  3.35it/s]\u001b[A\n",
            "\n",
            "epochs:   0%|          | 0/1 [03:23<?, ?it/s]\n",
            "loss: -37.58:  84%|████████▍ | 672/800 [03:23<00:38,  3.36it/s]\u001b[A\n",
            "loss: -24.66:  84%|████████▍ | 672/800 [03:23<00:38,  3.36it/s]\u001b[A\n",
            "loss: -24.66:  84%|████████▍ | 673/800 [03:23<00:38,  3.27it/s]\u001b[A"
          ]
        },
        {
          "output_type": "stream",
          "name": "stdout",
          "text": [
            "image updated at \"./a_dog_with_a_ball.000168.jpg\"\n"
          ]
        },
        {
          "output_type": "stream",
          "name": "stderr",
          "text": [
            "\n",
            "loss: -26.09:  84%|████████▍ | 673/800 [03:23<00:38,  3.27it/s]\u001b[A\n",
            "loss: -26.09:  84%|████████▍ | 674/800 [03:23<00:38,  3.31it/s]\u001b[A\n",
            "loss: -19.98:  84%|████████▍ | 674/800 [03:23<00:38,  3.31it/s]\u001b[A\n",
            "loss: -19.98:  84%|████████▍ | 675/800 [03:23<00:37,  3.32it/s]\u001b[A\n",
            "loss: -26.87:  84%|████████▍ | 675/800 [03:24<00:37,  3.32it/s]\u001b[A\n",
            "\n",
            "epochs:   0%|          | 0/1 [03:24<?, ?it/s]\n",
            "loss: -26.87:  84%|████████▍ | 676/800 [03:24<00:37,  3.34it/s]\u001b[A\n",
            "loss: -26.39:  84%|████████▍ | 676/800 [03:24<00:37,  3.34it/s]\u001b[A\n",
            "loss: -26.39:  85%|████████▍ | 677/800 [03:24<00:37,  3.30it/s]\u001b[A"
          ]
        },
        {
          "output_type": "stream",
          "name": "stdout",
          "text": [
            "image updated at \"./a_dog_with_a_ball.000169.jpg\"\n"
          ]
        },
        {
          "output_type": "stream",
          "name": "stderr",
          "text": [
            "\n",
            "loss: -36.01:  85%|████████▍ | 677/800 [03:24<00:37,  3.30it/s]\u001b[A\n",
            "loss: -36.01:  85%|████████▍ | 678/800 [03:24<00:36,  3.34it/s]\u001b[A\n",
            "loss: -34.31:  85%|████████▍ | 678/800 [03:25<00:36,  3.34it/s]\u001b[A\n",
            "loss: -34.31:  85%|████████▍ | 679/800 [03:25<00:35,  3.37it/s]\u001b[A\n",
            "loss: -37.21:  85%|████████▍ | 679/800 [03:25<00:35,  3.37it/s]\u001b[A\n",
            "\n",
            "epochs:   0%|          | 0/1 [03:25<?, ?it/s]\n",
            "loss: -37.21:  85%|████████▌ | 680/800 [03:25<00:35,  3.36it/s]\u001b[A\n",
            "loss: -36.74:  85%|████████▌ | 680/800 [03:25<00:35,  3.36it/s]\u001b[A\n",
            "loss: -36.74:  85%|████████▌ | 681/800 [03:25<00:36,  3.30it/s]\u001b[A"
          ]
        },
        {
          "output_type": "stream",
          "name": "stdout",
          "text": [
            "image updated at \"./a_dog_with_a_ball.000170.jpg\"\n"
          ]
        },
        {
          "output_type": "stream",
          "name": "stderr",
          "text": [
            "\n",
            "loss: -37.17:  85%|████████▌ | 681/800 [03:26<00:36,  3.30it/s]\u001b[A\n",
            "loss: -37.17:  85%|████████▌ | 682/800 [03:26<00:35,  3.32it/s]\u001b[A\n",
            "loss: -36.36:  85%|████████▌ | 682/800 [03:26<00:35,  3.32it/s]\u001b[A\n",
            "loss: -36.36:  85%|████████▌ | 683/800 [03:26<00:34,  3.35it/s]\u001b[A\n",
            "loss: -36.94:  85%|████████▌ | 683/800 [03:26<00:34,  3.35it/s]\u001b[A\n",
            "\n",
            "epochs:   0%|          | 0/1 [03:26<?, ?it/s]\n",
            "loss: -36.94:  86%|████████▌ | 684/800 [03:26<00:34,  3.36it/s]\u001b[A\n",
            "loss: -23.66:  86%|████████▌ | 684/800 [03:26<00:34,  3.36it/s]\u001b[A\n",
            "loss: -23.66:  86%|████████▌ | 685/800 [03:26<00:35,  3.23it/s]\u001b[A"
          ]
        },
        {
          "output_type": "stream",
          "name": "stdout",
          "text": [
            "image updated at \"./a_dog_with_a_ball.000171.jpg\"\n"
          ]
        },
        {
          "output_type": "stream",
          "name": "stderr",
          "text": [
            "\n",
            "loss: -37.12:  86%|████████▌ | 685/800 [03:27<00:35,  3.23it/s]\u001b[A\n",
            "loss: -37.12:  86%|████████▌ | 686/800 [03:27<00:34,  3.26it/s]\u001b[A\n",
            "loss: -36.34:  86%|████████▌ | 686/800 [03:27<00:34,  3.26it/s]\u001b[A\n",
            "loss: -36.34:  86%|████████▌ | 687/800 [03:27<00:34,  3.30it/s]\u001b[A\n",
            "loss: -22.65:  86%|████████▌ | 687/800 [03:27<00:34,  3.30it/s]\u001b[A\n",
            "\n",
            "epochs:   0%|          | 0/1 [03:28<?, ?it/s]\n",
            "loss: -22.65:  86%|████████▌ | 688/800 [03:28<00:33,  3.31it/s]\u001b[A\n",
            "loss: -21.60:  86%|████████▌ | 688/800 [03:28<00:33,  3.31it/s]\u001b[A\n",
            "loss: -21.60:  86%|████████▌ | 689/800 [03:28<00:34,  3.22it/s]\u001b[A"
          ]
        },
        {
          "output_type": "stream",
          "name": "stdout",
          "text": [
            "image updated at \"./a_dog_with_a_ball.000172.jpg\"\n"
          ]
        },
        {
          "output_type": "stream",
          "name": "stderr",
          "text": [
            "\n",
            "loss: -38.08:  86%|████████▌ | 689/800 [03:28<00:34,  3.22it/s]\u001b[A\n",
            "loss: -38.08:  86%|████████▋ | 690/800 [03:28<00:33,  3.25it/s]\u001b[A\n",
            "loss: -30.78:  86%|████████▋ | 690/800 [03:28<00:33,  3.25it/s]\u001b[A\n",
            "loss: -30.78:  86%|████████▋ | 691/800 [03:28<00:32,  3.31it/s]\u001b[A\n",
            "loss: -20.38:  86%|████████▋ | 691/800 [03:29<00:32,  3.31it/s]\u001b[A\n",
            "\n",
            "epochs:   0%|          | 0/1 [03:29<?, ?it/s]\n",
            "loss: -20.38:  86%|████████▋ | 692/800 [03:29<00:32,  3.34it/s]\u001b[A\n",
            "loss: -36.94:  86%|████████▋ | 692/800 [03:29<00:32,  3.34it/s]\u001b[A\n",
            "loss: -36.94:  87%|████████▋ | 693/800 [03:29<00:33,  3.23it/s]\u001b[A"
          ]
        },
        {
          "output_type": "stream",
          "name": "stdout",
          "text": [
            "image updated at \"./a_dog_with_a_ball.000173.jpg\"\n"
          ]
        },
        {
          "output_type": "stream",
          "name": "stderr",
          "text": [
            "\n",
            "loss: -36.03:  87%|████████▋ | 693/800 [03:29<00:33,  3.23it/s]\u001b[A\n",
            "loss: -36.03:  87%|████████▋ | 694/800 [03:29<00:32,  3.28it/s]\u001b[A\n",
            "loss: -37.86:  87%|████████▋ | 694/800 [03:29<00:32,  3.28it/s]\u001b[A\n",
            "loss: -37.86:  87%|████████▋ | 695/800 [03:29<00:31,  3.31it/s]\u001b[A\n",
            "loss: -36.67:  87%|████████▋ | 695/800 [03:30<00:31,  3.31it/s]\u001b[A\n",
            "\n",
            "epochs:   0%|          | 0/1 [03:30<?, ?it/s]\n",
            "loss: -36.67:  87%|████████▋ | 696/800 [03:30<00:31,  3.33it/s]\u001b[A\n",
            "loss: -31.26:  87%|████████▋ | 696/800 [03:30<00:31,  3.33it/s]\u001b[A\n",
            "loss: -31.26:  87%|████████▋ | 697/800 [03:30<00:31,  3.25it/s]\u001b[A"
          ]
        },
        {
          "output_type": "stream",
          "name": "stdout",
          "text": [
            "image updated at \"./a_dog_with_a_ball.000174.jpg\"\n"
          ]
        },
        {
          "output_type": "stream",
          "name": "stderr",
          "text": [
            "\n",
            "loss: -23.95:  87%|████████▋ | 697/800 [03:30<00:31,  3.25it/s]\u001b[A\n",
            "loss: -23.95:  87%|████████▋ | 698/800 [03:30<00:30,  3.30it/s]\u001b[A\n",
            "loss: -22.03:  87%|████████▋ | 698/800 [03:31<00:30,  3.30it/s]\u001b[A\n",
            "loss: -22.03:  87%|████████▋ | 699/800 [03:31<00:30,  3.32it/s]\u001b[A\n",
            "loss: -24.61:  87%|████████▋ | 699/800 [03:31<00:30,  3.32it/s]\u001b[A\n",
            "\n",
            "epochs:   0%|          | 0/1 [03:31<?, ?it/s]\n",
            "loss: -24.61:  88%|████████▊ | 700/800 [03:31<00:30,  3.33it/s]\u001b[A\n",
            "loss: -26.22:  88%|████████▊ | 700/800 [03:31<00:30,  3.33it/s]\u001b[A\n",
            "loss: -26.22:  88%|████████▊ | 701/800 [03:31<00:30,  3.25it/s]\u001b[A"
          ]
        },
        {
          "output_type": "stream",
          "name": "stdout",
          "text": [
            "image updated at \"./a_dog_with_a_ball.000175.jpg\"\n"
          ]
        },
        {
          "output_type": "stream",
          "name": "stderr",
          "text": [
            "\n",
            "loss: -37.89:  88%|████████▊ | 701/800 [03:32<00:30,  3.25it/s]\u001b[A\n",
            "loss: -37.89:  88%|████████▊ | 702/800 [03:32<00:30,  3.26it/s]\u001b[A\n",
            "loss: -29.76:  88%|████████▊ | 702/800 [03:32<00:30,  3.26it/s]\u001b[A\n",
            "loss: -29.76:  88%|████████▊ | 703/800 [03:32<00:29,  3.32it/s]\u001b[A\n",
            "loss: -26.70:  88%|████████▊ | 703/800 [03:32<00:29,  3.32it/s]\u001b[A\n",
            "\n",
            "epochs:   0%|          | 0/1 [03:33<?, ?it/s]\n",
            "loss: -26.70:  88%|████████▊ | 704/800 [03:33<00:28,  3.33it/s]\u001b[A\n",
            "loss: -30.59:  88%|████████▊ | 704/800 [03:33<00:28,  3.33it/s]\u001b[A\n",
            "loss: -30.59:  88%|████████▊ | 705/800 [03:33<00:29,  3.25it/s]\u001b[A"
          ]
        },
        {
          "output_type": "stream",
          "name": "stdout",
          "text": [
            "image updated at \"./a_dog_with_a_ball.000176.jpg\"\n"
          ]
        },
        {
          "output_type": "stream",
          "name": "stderr",
          "text": [
            "\n",
            "loss: -36.36:  88%|████████▊ | 705/800 [03:33<00:29,  3.25it/s]\u001b[A\n",
            "loss: -36.36:  88%|████████▊ | 706/800 [03:33<00:28,  3.29it/s]\u001b[A\n",
            "loss: -21.08:  88%|████████▊ | 706/800 [03:33<00:28,  3.29it/s]\u001b[A\n",
            "loss: -21.08:  88%|████████▊ | 707/800 [03:33<00:27,  3.34it/s]\u001b[A\n",
            "loss: -34.84:  88%|████████▊ | 707/800 [03:33<00:27,  3.34it/s]\u001b[A\n",
            "\n",
            "epochs:   0%|          | 0/1 [03:34<?, ?it/s]\n",
            "loss: -34.84:  88%|████████▊ | 708/800 [03:34<00:27,  3.35it/s]\u001b[A\n",
            "loss: -37.60:  88%|████████▊ | 708/800 [03:34<00:27,  3.35it/s]\u001b[A\n",
            "loss: -37.60:  89%|████████▊ | 709/800 [03:34<00:27,  3.26it/s]\u001b[A"
          ]
        },
        {
          "output_type": "stream",
          "name": "stdout",
          "text": [
            "image updated at \"./a_dog_with_a_ball.000177.jpg\"\n"
          ]
        },
        {
          "output_type": "stream",
          "name": "stderr",
          "text": [
            "\n",
            "loss: -36.36:  89%|████████▊ | 709/800 [03:34<00:27,  3.26it/s]\u001b[A\n",
            "loss: -36.36:  89%|████████▉ | 710/800 [03:34<00:27,  3.29it/s]\u001b[A\n",
            "loss: -38.15:  89%|████████▉ | 710/800 [03:34<00:27,  3.29it/s]\u001b[A\n",
            "loss: -38.15:  89%|████████▉ | 711/800 [03:34<00:26,  3.32it/s]\u001b[A\n",
            "loss: -38.53:  89%|████████▉ | 711/800 [03:35<00:26,  3.32it/s]\u001b[A\n",
            "\n",
            "epochs:   0%|          | 0/1 [03:35<?, ?it/s]\n",
            "loss: -38.53:  89%|████████▉ | 712/800 [03:35<00:26,  3.32it/s]\u001b[A\n",
            "loss: -38.74:  89%|████████▉ | 712/800 [03:35<00:26,  3.32it/s]\u001b[A\n",
            "loss: -38.74:  89%|████████▉ | 713/800 [03:35<00:27,  3.21it/s]\u001b[A"
          ]
        },
        {
          "output_type": "stream",
          "name": "stdout",
          "text": [
            "image updated at \"./a_dog_with_a_ball.000178.jpg\"\n"
          ]
        },
        {
          "output_type": "stream",
          "name": "stderr",
          "text": [
            "\n",
            "loss: -37.15:  89%|████████▉ | 713/800 [03:35<00:27,  3.21it/s]\u001b[A\n",
            "loss: -37.15:  89%|████████▉ | 714/800 [03:35<00:26,  3.28it/s]\u001b[A\n",
            "loss: -34.06:  89%|████████▉ | 714/800 [03:36<00:26,  3.28it/s]\u001b[A\n",
            "loss: -34.06:  89%|████████▉ | 715/800 [03:36<00:25,  3.31it/s]\u001b[A\n",
            "loss: -36.59:  89%|████████▉ | 715/800 [03:36<00:25,  3.31it/s]\u001b[A\n",
            "\n",
            "epochs:   0%|          | 0/1 [03:36<?, ?it/s]\n",
            "loss: -36.59:  90%|████████▉ | 716/800 [03:36<00:25,  3.34it/s]\u001b[A\n",
            "loss: -20.33:  90%|████████▉ | 716/800 [03:36<00:25,  3.34it/s]\u001b[A\n",
            "loss: -20.33:  90%|████████▉ | 717/800 [03:36<00:25,  3.24it/s]\u001b[A"
          ]
        },
        {
          "output_type": "stream",
          "name": "stdout",
          "text": [
            "image updated at \"./a_dog_with_a_ball.000179.jpg\"\n"
          ]
        },
        {
          "output_type": "stream",
          "name": "stderr",
          "text": [
            "\n",
            "loss: -31.60:  90%|████████▉ | 717/800 [03:36<00:25,  3.24it/s]\u001b[A\n",
            "loss: -31.60:  90%|████████▉ | 718/800 [03:36<00:24,  3.29it/s]\u001b[A\n",
            "loss: -32.33:  90%|████████▉ | 718/800 [03:37<00:24,  3.29it/s]\u001b[A\n",
            "loss: -32.33:  90%|████████▉ | 719/800 [03:37<00:24,  3.33it/s]\u001b[A\n",
            "loss: -37.90:  90%|████████▉ | 719/800 [03:37<00:24,  3.33it/s]\u001b[A\n",
            "\n",
            "epochs:   0%|          | 0/1 [03:37<?, ?it/s]\n",
            "loss: -37.90:  90%|█████████ | 720/800 [03:37<00:24,  3.33it/s]\u001b[A\n",
            "loss: -24.62:  90%|█████████ | 720/800 [03:37<00:24,  3.33it/s]\u001b[A\n",
            "loss: -24.62:  90%|█████████ | 721/800 [03:37<00:24,  3.26it/s]\u001b[A"
          ]
        },
        {
          "output_type": "stream",
          "name": "stdout",
          "text": [
            "image updated at \"./a_dog_with_a_ball.000180.jpg\"\n"
          ]
        },
        {
          "output_type": "stream",
          "name": "stderr",
          "text": [
            "\n",
            "loss: -31.62:  90%|█████████ | 721/800 [03:38<00:24,  3.26it/s]\u001b[A\n",
            "loss: -31.62:  90%|█████████ | 722/800 [03:38<00:23,  3.28it/s]\u001b[A\n",
            "loss: -20.65:  90%|█████████ | 722/800 [03:38<00:23,  3.28it/s]\u001b[A\n",
            "loss: -20.65:  90%|█████████ | 723/800 [03:38<00:23,  3.32it/s]\u001b[A\n",
            "loss: -33.94:  90%|█████████ | 723/800 [03:38<00:23,  3.32it/s]\u001b[A\n",
            "\n",
            "epochs:   0%|          | 0/1 [03:39<?, ?it/s]\n",
            "loss: -33.94:  90%|█████████ | 724/800 [03:39<00:22,  3.32it/s]\u001b[A\n",
            "loss: -33.22:  90%|█████████ | 724/800 [03:39<00:22,  3.32it/s]\u001b[A\n",
            "loss: -33.22:  91%|█████████ | 725/800 [03:39<00:23,  3.22it/s]\u001b[A"
          ]
        },
        {
          "output_type": "stream",
          "name": "stdout",
          "text": [
            "image updated at \"./a_dog_with_a_ball.000181.jpg\"\n"
          ]
        },
        {
          "output_type": "stream",
          "name": "stderr",
          "text": [
            "\n",
            "loss: -20.19:  91%|█████████ | 725/800 [03:39<00:23,  3.22it/s]\u001b[A\n",
            "loss: -20.19:  91%|█████████ | 726/800 [03:39<00:22,  3.30it/s]\u001b[A\n",
            "loss: -35.37:  91%|█████████ | 726/800 [03:39<00:22,  3.30it/s]\u001b[A\n",
            "loss: -35.37:  91%|█████████ | 727/800 [03:39<00:21,  3.33it/s]\u001b[A\n",
            "loss: -22.02:  91%|█████████ | 727/800 [03:39<00:21,  3.33it/s]\u001b[A\n",
            "\n",
            "epochs:   0%|          | 0/1 [03:40<?, ?it/s]\n",
            "loss: -22.02:  91%|█████████ | 728/800 [03:40<00:21,  3.33it/s]\u001b[A\n",
            "loss: -33.81:  91%|█████████ | 728/800 [03:40<00:21,  3.33it/s]\u001b[A\n",
            "loss: -33.81:  91%|█████████ | 729/800 [03:40<00:21,  3.30it/s]\u001b[A"
          ]
        },
        {
          "output_type": "stream",
          "name": "stdout",
          "text": [
            "image updated at \"./a_dog_with_a_ball.000182.jpg\"\n"
          ]
        },
        {
          "output_type": "stream",
          "name": "stderr",
          "text": [
            "\n",
            "loss: -25.32:  91%|█████████ | 729/800 [03:40<00:21,  3.30it/s]\u001b[A\n",
            "loss: -25.32:  91%|█████████▏| 730/800 [03:40<00:20,  3.35it/s]\u001b[A\n",
            "loss: -20.77:  91%|█████████▏| 730/800 [03:40<00:20,  3.35it/s]\u001b[A\n",
            "loss: -20.77:  91%|█████████▏| 731/800 [03:40<00:20,  3.35it/s]\u001b[A\n",
            "loss: -21.07:  91%|█████████▏| 731/800 [03:41<00:20,  3.35it/s]\u001b[A\n",
            "\n",
            "epochs:   0%|          | 0/1 [03:41<?, ?it/s]\n",
            "loss: -21.07:  92%|█████████▏| 732/800 [03:41<00:20,  3.37it/s]\u001b[A\n",
            "loss: -32.78:  92%|█████████▏| 732/800 [03:41<00:20,  3.37it/s]\u001b[A\n",
            "loss: -32.78:  92%|█████████▏| 733/800 [03:41<00:20,  3.33it/s]\u001b[A"
          ]
        },
        {
          "output_type": "stream",
          "name": "stdout",
          "text": [
            "image updated at \"./a_dog_with_a_ball.000183.jpg\"\n"
          ]
        },
        {
          "output_type": "stream",
          "name": "stderr",
          "text": [
            "\n",
            "loss: -20.51:  92%|█████████▏| 733/800 [03:41<00:20,  3.33it/s]\u001b[A\n",
            "loss: -20.51:  92%|█████████▏| 734/800 [03:41<00:19,  3.37it/s]\u001b[A\n",
            "loss: -35.98:  92%|█████████▏| 734/800 [03:42<00:19,  3.37it/s]\u001b[A\n",
            "loss: -35.98:  92%|█████████▏| 735/800 [03:42<00:19,  3.37it/s]\u001b[A\n",
            "loss: -26.61:  92%|█████████▏| 735/800 [03:42<00:19,  3.37it/s]\u001b[A\n",
            "\n",
            "epochs:   0%|          | 0/1 [03:42<?, ?it/s]\n",
            "loss: -26.61:  92%|█████████▏| 736/800 [03:42<00:19,  3.36it/s]\u001b[A\n",
            "loss: -35.50:  92%|█████████▏| 736/800 [03:42<00:19,  3.36it/s]\u001b[A\n",
            "loss: -35.50:  92%|█████████▏| 737/800 [03:42<00:19,  3.24it/s]\u001b[A"
          ]
        },
        {
          "output_type": "stream",
          "name": "stdout",
          "text": [
            "image updated at \"./a_dog_with_a_ball.000184.jpg\"\n"
          ]
        },
        {
          "output_type": "stream",
          "name": "stderr",
          "text": [
            "\n",
            "loss: -33.96:  92%|█████████▏| 737/800 [03:42<00:19,  3.24it/s]\u001b[A\n",
            "loss: -33.96:  92%|█████████▏| 738/800 [03:42<00:18,  3.30it/s]\u001b[A\n",
            "loss: -20.37:  92%|█████████▏| 738/800 [03:43<00:18,  3.30it/s]\u001b[A\n",
            "loss: -20.37:  92%|█████████▏| 739/800 [03:43<00:18,  3.33it/s]\u001b[A\n",
            "loss: -21.24:  92%|█████████▏| 739/800 [03:43<00:18,  3.33it/s]\u001b[A\n",
            "\n",
            "epochs:   0%|          | 0/1 [03:43<?, ?it/s]\n",
            "loss: -21.24:  92%|█████████▎| 740/800 [03:43<00:17,  3.34it/s]\u001b[A\n",
            "loss: -36.49:  92%|█████████▎| 740/800 [03:43<00:17,  3.34it/s]\u001b[A\n",
            "loss: -36.49:  93%|█████████▎| 741/800 [03:43<00:18,  3.21it/s]\u001b[A"
          ]
        },
        {
          "output_type": "stream",
          "name": "stdout",
          "text": [
            "image updated at \"./a_dog_with_a_ball.000185.jpg\"\n"
          ]
        },
        {
          "output_type": "stream",
          "name": "stderr",
          "text": [
            "\n",
            "loss: -33.02:  93%|█████████▎| 741/800 [03:44<00:18,  3.21it/s]\u001b[A\n",
            "loss: -33.02:  93%|█████████▎| 742/800 [03:44<00:17,  3.28it/s]\u001b[A\n",
            "loss: -32.01:  93%|█████████▎| 742/800 [03:44<00:17,  3.28it/s]\u001b[A\n",
            "loss: -32.01:  93%|█████████▎| 743/800 [03:44<00:17,  3.31it/s]\u001b[A\n",
            "loss: -37.03:  93%|█████████▎| 743/800 [03:44<00:17,  3.31it/s]\u001b[A\n",
            "\n",
            "epochs:   0%|          | 0/1 [03:45<?, ?it/s]\n",
            "loss: -37.03:  93%|█████████▎| 744/800 [03:45<00:16,  3.33it/s]\u001b[A\n",
            "loss: -37.18:  93%|█████████▎| 744/800 [03:45<00:16,  3.33it/s]\u001b[A\n",
            "loss: -37.18:  93%|█████████▎| 745/800 [03:45<00:16,  3.28it/s]\u001b[A"
          ]
        },
        {
          "output_type": "stream",
          "name": "stdout",
          "text": [
            "image updated at \"./a_dog_with_a_ball.000186.jpg\"\n"
          ]
        },
        {
          "output_type": "stream",
          "name": "stderr",
          "text": [
            "\n",
            "loss: -20.28:  93%|█████████▎| 745/800 [03:45<00:16,  3.28it/s]\u001b[A\n",
            "loss: -20.28:  93%|█████████▎| 746/800 [03:45<00:16,  3.31it/s]\u001b[A\n",
            "loss: -20.42:  93%|█████████▎| 746/800 [03:45<00:16,  3.31it/s]\u001b[A\n",
            "loss: -20.42:  93%|█████████▎| 747/800 [03:45<00:15,  3.32it/s]\u001b[A\n",
            "loss: -36.34:  93%|█████████▎| 747/800 [03:45<00:15,  3.32it/s]\u001b[A\n",
            "\n",
            "epochs:   0%|          | 0/1 [03:46<?, ?it/s]\n",
            "loss: -36.34:  94%|█████████▎| 748/800 [03:46<00:15,  3.36it/s]\u001b[A\n",
            "loss: -33.12:  94%|█████████▎| 748/800 [03:46<00:15,  3.36it/s]\u001b[A\n",
            "loss: -33.12:  94%|█████████▎| 749/800 [03:46<00:15,  3.24it/s]\u001b[A"
          ]
        },
        {
          "output_type": "stream",
          "name": "stdout",
          "text": [
            "image updated at \"./a_dog_with_a_ball.000187.jpg\"\n"
          ]
        },
        {
          "output_type": "stream",
          "name": "stderr",
          "text": [
            "\n",
            "loss: -33.72:  94%|█████████▎| 749/800 [03:46<00:15,  3.24it/s]\u001b[A\n",
            "loss: -33.72:  94%|█████████▍| 750/800 [03:46<00:15,  3.28it/s]\u001b[A\n",
            "loss: -33.81:  94%|█████████▍| 750/800 [03:46<00:15,  3.28it/s]\u001b[A\n",
            "loss: -33.81:  94%|█████████▍| 751/800 [03:46<00:14,  3.32it/s]\u001b[A\n",
            "loss: -20.72:  94%|█████████▍| 751/800 [03:47<00:14,  3.32it/s]\u001b[A\n",
            "\n",
            "epochs:   0%|          | 0/1 [03:47<?, ?it/s]\n",
            "loss: -20.72:  94%|█████████▍| 752/800 [03:47<00:14,  3.35it/s]\u001b[A\n",
            "loss: -37.03:  94%|█████████▍| 752/800 [03:47<00:14,  3.35it/s]\u001b[A\n",
            "loss: -37.03:  94%|█████████▍| 753/800 [03:47<00:14,  3.25it/s]\u001b[A"
          ]
        },
        {
          "output_type": "stream",
          "name": "stdout",
          "text": [
            "image updated at \"./a_dog_with_a_ball.000188.jpg\"\n"
          ]
        },
        {
          "output_type": "stream",
          "name": "stderr",
          "text": [
            "\n",
            "loss: -35.02:  94%|█████████▍| 753/800 [03:47<00:14,  3.25it/s]\u001b[A\n",
            "loss: -35.02:  94%|█████████▍| 754/800 [03:47<00:14,  3.28it/s]\u001b[A\n",
            "loss: -31.43:  94%|█████████▍| 754/800 [03:48<00:14,  3.28it/s]\u001b[A\n",
            "loss: -31.43:  94%|█████████▍| 755/800 [03:48<00:13,  3.32it/s]\u001b[A\n",
            "loss: -35.65:  94%|█████████▍| 755/800 [03:48<00:13,  3.32it/s]\u001b[A\n",
            "\n",
            "epochs:   0%|          | 0/1 [03:48<?, ?it/s]\n",
            "loss: -35.65:  94%|█████████▍| 756/800 [03:48<00:13,  3.35it/s]\u001b[A\n",
            "loss: -31.48:  94%|█████████▍| 756/800 [03:48<00:13,  3.35it/s]\u001b[A\n",
            "loss: -31.48:  95%|█████████▍| 757/800 [03:48<00:12,  3.32it/s]\u001b[A"
          ]
        },
        {
          "output_type": "stream",
          "name": "stdout",
          "text": [
            "image updated at \"./a_dog_with_a_ball.000189.jpg\"\n"
          ]
        },
        {
          "output_type": "stream",
          "name": "stderr",
          "text": [
            "\n",
            "loss: -34.62:  95%|█████████▍| 757/800 [03:49<00:12,  3.32it/s]\u001b[A\n",
            "loss: -34.62:  95%|█████████▍| 758/800 [03:49<00:12,  3.35it/s]\u001b[A\n",
            "loss: -33.36:  95%|█████████▍| 758/800 [03:49<00:12,  3.35it/s]\u001b[A\n",
            "loss: -33.36:  95%|█████████▍| 759/800 [03:49<00:12,  3.38it/s]\u001b[A\n",
            "loss: -34.57:  95%|█████████▍| 759/800 [03:49<00:12,  3.38it/s]\u001b[A\n",
            "\n",
            "epochs:   0%|          | 0/1 [03:49<?, ?it/s]\n",
            "loss: -34.57:  95%|█████████▌| 760/800 [03:49<00:11,  3.40it/s]\u001b[A\n",
            "loss: -36.01:  95%|█████████▌| 760/800 [03:49<00:11,  3.40it/s]\u001b[A\n",
            "loss: -36.01:  95%|█████████▌| 761/800 [03:49<00:11,  3.28it/s]\u001b[A"
          ]
        },
        {
          "output_type": "stream",
          "name": "stdout",
          "text": [
            "image updated at \"./a_dog_with_a_ball.000190.jpg\"\n"
          ]
        },
        {
          "output_type": "stream",
          "name": "stderr",
          "text": [
            "\n",
            "loss: -20.82:  95%|█████████▌| 761/800 [03:50<00:11,  3.28it/s]\u001b[A\n",
            "loss: -20.82:  95%|█████████▌| 762/800 [03:50<00:11,  3.34it/s]\u001b[A\n",
            "loss: -20.79:  95%|█████████▌| 762/800 [03:50<00:11,  3.34it/s]\u001b[A\n",
            "loss: -20.79:  95%|█████████▌| 763/800 [03:50<00:10,  3.37it/s]\u001b[A\n",
            "loss: -35.39:  95%|█████████▌| 763/800 [03:50<00:10,  3.37it/s]\u001b[A\n",
            "\n",
            "epochs:   0%|          | 0/1 [03:51<?, ?it/s]\n",
            "loss: -35.39:  96%|█████████▌| 764/800 [03:51<00:10,  3.38it/s]\u001b[A\n",
            "loss: -36.78:  96%|█████████▌| 764/800 [03:51<00:10,  3.38it/s]\u001b[A\n",
            "loss: -36.78:  96%|█████████▌| 765/800 [03:51<00:10,  3.27it/s]\u001b[A"
          ]
        },
        {
          "output_type": "stream",
          "name": "stdout",
          "text": [
            "image updated at \"./a_dog_with_a_ball.000191.jpg\"\n"
          ]
        },
        {
          "output_type": "stream",
          "name": "stderr",
          "text": [
            "\n",
            "loss: -36.74:  96%|█████████▌| 765/800 [03:51<00:10,  3.27it/s]\u001b[A\n",
            "loss: -36.74:  96%|█████████▌| 766/800 [03:51<00:10,  3.22it/s]\u001b[A\n",
            "loss: -20.58:  96%|█████████▌| 766/800 [03:51<00:10,  3.22it/s]\u001b[A\n",
            "loss: -20.58:  96%|█████████▌| 767/800 [03:51<00:10,  3.25it/s]\u001b[A\n",
            "loss: -34.46:  96%|█████████▌| 767/800 [03:52<00:10,  3.25it/s]\u001b[A\n",
            "\n",
            "epochs:   0%|          | 0/1 [03:52<?, ?it/s]\n",
            "loss: -34.46:  96%|█████████▌| 768/800 [03:52<00:09,  3.28it/s]\u001b[A\n",
            "loss: -35.58:  96%|█████████▌| 768/800 [03:52<00:09,  3.28it/s]\u001b[A\n",
            "loss: -35.58:  96%|█████████▌| 769/800 [03:52<00:09,  3.20it/s]\u001b[A"
          ]
        },
        {
          "output_type": "stream",
          "name": "stdout",
          "text": [
            "image updated at \"./a_dog_with_a_ball.000192.jpg\"\n"
          ]
        },
        {
          "output_type": "stream",
          "name": "stderr",
          "text": [
            "\n",
            "loss: -35.77:  96%|█████████▌| 769/800 [03:52<00:09,  3.20it/s]\u001b[A\n",
            "loss: -35.77:  96%|█████████▋| 770/800 [03:52<00:09,  3.25it/s]\u001b[A\n",
            "loss: -22.15:  96%|█████████▋| 770/800 [03:52<00:09,  3.25it/s]\u001b[A\n",
            "loss: -22.15:  96%|█████████▋| 771/800 [03:52<00:08,  3.28it/s]\u001b[A\n",
            "loss: -36.74:  96%|█████████▋| 771/800 [03:53<00:08,  3.28it/s]\u001b[A\n",
            "\n",
            "epochs:   0%|          | 0/1 [03:53<?, ?it/s]\n",
            "loss: -36.74:  96%|█████████▋| 772/800 [03:53<00:08,  3.32it/s]\u001b[A\n",
            "loss: -37.22:  96%|█████████▋| 772/800 [03:53<00:08,  3.32it/s]\u001b[A\n",
            "loss: -37.22:  97%|█████████▋| 773/800 [03:53<00:08,  3.22it/s]\u001b[A"
          ]
        },
        {
          "output_type": "stream",
          "name": "stdout",
          "text": [
            "image updated at \"./a_dog_with_a_ball.000193.jpg\"\n"
          ]
        },
        {
          "output_type": "stream",
          "name": "stderr",
          "text": [
            "\n",
            "loss: -21.30:  97%|█████████▋| 773/800 [03:53<00:08,  3.22it/s]\u001b[A\n",
            "loss: -21.30:  97%|█████████▋| 774/800 [03:53<00:07,  3.28it/s]\u001b[A\n",
            "loss: -22.68:  97%|█████████▋| 774/800 [03:54<00:07,  3.28it/s]\u001b[A\n",
            "loss: -22.68:  97%|█████████▋| 775/800 [03:54<00:07,  3.31it/s]\u001b[A\n",
            "loss: -33.91:  97%|█████████▋| 775/800 [03:54<00:07,  3.31it/s]\u001b[A\n",
            "\n",
            "epochs:   0%|          | 0/1 [03:54<?, ?it/s]\n",
            "loss: -33.91:  97%|█████████▋| 776/800 [03:54<00:07,  3.32it/s]\u001b[A\n",
            "loss: -33.96:  97%|█████████▋| 776/800 [03:54<00:07,  3.32it/s]\u001b[A\n",
            "loss: -33.96:  97%|█████████▋| 777/800 [03:54<00:07,  3.25it/s]\u001b[A"
          ]
        },
        {
          "output_type": "stream",
          "name": "stdout",
          "text": [
            "image updated at \"./a_dog_with_a_ball.000194.jpg\"\n"
          ]
        },
        {
          "output_type": "stream",
          "name": "stderr",
          "text": [
            "\n",
            "loss: -37.44:  97%|█████████▋| 777/800 [03:55<00:07,  3.25it/s]\u001b[A\n",
            "loss: -37.44:  97%|█████████▋| 778/800 [03:55<00:06,  3.30it/s]\u001b[A\n",
            "loss: -37.27:  97%|█████████▋| 778/800 [03:55<00:06,  3.30it/s]\u001b[A\n",
            "loss: -37.27:  97%|█████████▋| 779/800 [03:55<00:06,  3.33it/s]\u001b[A\n",
            "loss: -37.55:  97%|█████████▋| 779/800 [03:55<00:06,  3.33it/s]\u001b[A\n",
            "\n",
            "epochs:   0%|          | 0/1 [03:56<?, ?it/s]\n",
            "loss: -37.55:  98%|█████████▊| 780/800 [03:56<00:06,  3.32it/s]\u001b[A\n",
            "loss: -36.09:  98%|█████████▊| 780/800 [03:56<00:06,  3.32it/s]\u001b[A\n",
            "loss: -36.09:  98%|█████████▊| 781/800 [03:56<00:05,  3.23it/s]\u001b[A"
          ]
        },
        {
          "output_type": "stream",
          "name": "stdout",
          "text": [
            "image updated at \"./a_dog_with_a_ball.000195.jpg\"\n"
          ]
        },
        {
          "output_type": "stream",
          "name": "stderr",
          "text": [
            "\n",
            "loss: -36.16:  98%|█████████▊| 781/800 [03:56<00:05,  3.23it/s]\u001b[A\n",
            "loss: -36.16:  98%|█████████▊| 782/800 [03:56<00:05,  3.27it/s]\u001b[A\n",
            "loss: -37.55:  98%|█████████▊| 782/800 [03:56<00:05,  3.27it/s]\u001b[A\n",
            "loss: -37.55:  98%|█████████▊| 783/800 [03:56<00:05,  3.31it/s]\u001b[A\n",
            "loss: -37.03:  98%|█████████▊| 783/800 [03:56<00:05,  3.31it/s]\u001b[A\n",
            "\n",
            "epochs:   0%|          | 0/1 [03:57<?, ?it/s]\n",
            "loss: -37.03:  98%|█████████▊| 784/800 [03:57<00:04,  3.34it/s]\u001b[A\n",
            "loss: -35.02:  98%|█████████▊| 784/800 [03:57<00:04,  3.34it/s]\u001b[A\n",
            "loss: -35.02:  98%|█████████▊| 785/800 [03:57<00:04,  3.24it/s]\u001b[A"
          ]
        },
        {
          "output_type": "stream",
          "name": "stdout",
          "text": [
            "image updated at \"./a_dog_with_a_ball.000196.jpg\"\n"
          ]
        },
        {
          "output_type": "stream",
          "name": "stderr",
          "text": [
            "\n",
            "loss: -38.36:  98%|█████████▊| 785/800 [03:57<00:04,  3.24it/s]\u001b[A\n",
            "loss: -38.36:  98%|█████████▊| 786/800 [03:57<00:04,  3.24it/s]\u001b[A\n",
            "loss: -21.11:  98%|█████████▊| 786/800 [03:57<00:04,  3.24it/s]\u001b[A\n",
            "loss: -21.11:  98%|█████████▊| 787/800 [03:57<00:03,  3.26it/s]\u001b[A\n",
            "loss: -36.80:  98%|█████████▊| 787/800 [03:58<00:03,  3.26it/s]\u001b[A\n",
            "\n",
            "epochs:   0%|          | 0/1 [03:58<?, ?it/s]\n",
            "loss: -36.80:  98%|█████████▊| 788/800 [03:58<00:03,  3.28it/s]\u001b[A\n",
            "loss: -21.96:  98%|█████████▊| 788/800 [03:58<00:03,  3.28it/s]\u001b[A\n",
            "loss: -21.96:  99%|█████████▊| 789/800 [03:58<00:03,  3.23it/s]\u001b[A"
          ]
        },
        {
          "output_type": "stream",
          "name": "stdout",
          "text": [
            "image updated at \"./a_dog_with_a_ball.000197.jpg\"\n"
          ]
        },
        {
          "output_type": "stream",
          "name": "stderr",
          "text": [
            "\n",
            "loss: -20.50:  99%|█████████▊| 789/800 [03:58<00:03,  3.23it/s]\u001b[A\n",
            "loss: -20.50:  99%|█████████▉| 790/800 [03:58<00:03,  3.29it/s]\u001b[A\n",
            "loss: -25.00:  99%|█████████▉| 790/800 [03:59<00:03,  3.29it/s]\u001b[A\n",
            "loss: -25.00:  99%|█████████▉| 791/800 [03:59<00:02,  3.29it/s]\u001b[A\n",
            "loss: -23.16:  99%|█████████▉| 791/800 [03:59<00:02,  3.29it/s]\u001b[A\n",
            "\n",
            "epochs:   0%|          | 0/1 [03:59<?, ?it/s]\n",
            "loss: -23.16:  99%|█████████▉| 792/800 [03:59<00:02,  3.29it/s]\u001b[A\n",
            "loss: -21.22:  99%|█████████▉| 792/800 [03:59<00:02,  3.29it/s]\u001b[A\n",
            "loss: -21.22:  99%|█████████▉| 793/800 [03:59<00:02,  3.23it/s]\u001b[A"
          ]
        },
        {
          "output_type": "stream",
          "name": "stdout",
          "text": [
            "image updated at \"./a_dog_with_a_ball.000198.jpg\"\n"
          ]
        },
        {
          "output_type": "stream",
          "name": "stderr",
          "text": [
            "\n",
            "loss: -35.83:  99%|█████████▉| 793/800 [03:59<00:02,  3.23it/s]\u001b[A\n",
            "loss: -35.83:  99%|█████████▉| 794/800 [03:59<00:01,  3.28it/s]\u001b[A\n",
            "loss: -36.96:  99%|█████████▉| 794/800 [04:00<00:01,  3.28it/s]\u001b[A\n",
            "loss: -36.96:  99%|█████████▉| 795/800 [04:00<00:01,  3.30it/s]\u001b[A\n",
            "loss: -35.51:  99%|█████████▉| 795/800 [04:00<00:01,  3.30it/s]\u001b[A\n",
            "\n",
            "epochs:   0%|          | 0/1 [04:00<?, ?it/s]\n",
            "loss: -35.51: 100%|█████████▉| 796/800 [04:00<00:01,  3.34it/s]\u001b[A\n",
            "loss: -21.48: 100%|█████████▉| 796/800 [04:00<00:01,  3.34it/s]\u001b[A\n",
            "loss: -21.48: 100%|█████████▉| 797/800 [04:00<00:00,  3.27it/s]\u001b[A"
          ]
        },
        {
          "output_type": "stream",
          "name": "stdout",
          "text": [
            "image updated at \"./a_dog_with_a_ball.000199.jpg\"\n"
          ]
        },
        {
          "output_type": "stream",
          "name": "stderr",
          "text": [
            "\n",
            "loss: -25.75: 100%|█████████▉| 797/800 [04:01<00:00,  3.27it/s]\u001b[A\n",
            "loss: -25.75: 100%|█████████▉| 798/800 [04:01<00:00,  3.32it/s]\u001b[A\n",
            "loss: -29.95: 100%|█████████▉| 798/800 [04:01<00:00,  3.32it/s]\u001b[A\n",
            "loss: -29.95: 100%|█████████▉| 799/800 [04:01<00:00,  3.34it/s]\u001b[A\n",
            "loss: -36.44: 100%|█████████▉| 799/800 [04:01<00:00,  3.34it/s]\u001b[A\n",
            "loss: -36.44: 100%|██████████| 800/800 [04:01<00:00,  3.31it/s]\n",
            "epochs: 100%|██████████| 1/1 [04:01<00:00, 241.83s/it]\n"
          ]
        },
        {
          "output_type": "stream",
          "name": "stdout",
          "text": [
            "Now thinking of:  \" a dog with a ball \"\n",
            "image updated at \"./a_dog_with_a_ball.000199.jpg\"\n",
            "Generated image generation animation at ./a_dog_with_a_ball.mp4\n"
          ]
        }
      ],
      "source": [
        "from tqdm.notebook import trange\n",
        "from IPython.display import Image, display\n",
        "from deep_daze import Imagine\n",
        "import imageio_ffmpeg\n",
        "\n",
        "TEXT = 'a dog with a ball' #@param {type:\"string\"}\n",
        "NUM_LAYERS =  20#@param {type:\"number\"}\n",
        "SAVE_EVERY =  4#@param {type:\"number\"}\n",
        "IMAGE_WIDTH =  512#@param {type:\"number\"}\n",
        "SAVE_PROGRESS = True #@param {type:\"boolean\"}\n",
        "LEARNING_RATE = 1e-5 #@param {type:\"number\"}\n",
        "ITERATIONS =  800#@param {type:\"number\"}\n",
        "BATCH_SIZE =  1#@param {type:\"integer\"}\n",
        "GRADIENT_ACC =  1#@param {type:\"integer\"}\n",
        "\n",
        "model = Imagine(\n",
        "    text = TEXT,\n",
        "    epochs=1,\n",
        "    num_layers = NUM_LAYERS,\n",
        "    save_every = SAVE_EVERY,\n",
        "    image_width = IMAGE_WIDTH,\n",
        "    lr = LEARNING_RATE,\n",
        "    iterations = ITERATIONS,\n",
        "    save_progress = SAVE_PROGRESS,\n",
        "    batch_size = BATCH_SIZE,\n",
        "    gradient_accumulate_every=GRADIENT_ACC,\n",
        "    create_story=True,\n",
        "    story_separator='.',\n",
        "    save_video=True\n",
        ")\n",
        "\n",
        "model()"
      ]
    }
  ],
  "metadata": {
    "accelerator": "GPU",
    "colab": {
      "collapsed_sections": [],
      "machine_shape": "hm",
      "name": "Copy_of_Deep_Daze.ipynb",
      "provenance": []
    },
    "kernelspec": {
      "display_name": "Python 3",
      "name": "python3"
    }
  },
  "nbformat": 4,
  "nbformat_minor": 0
}